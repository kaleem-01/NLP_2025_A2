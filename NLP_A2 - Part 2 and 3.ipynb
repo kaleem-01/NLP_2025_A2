{
 "cells": [
  {
   "cell_type": "code",
   "execution_count": 2,
   "metadata": {},
   "outputs": [],
   "source": [
    "import os\n",
    "import numpy as np\n",
    "import matplotlib.pyplot as plt\n",
    "\n",
    "os.makedirs('./results', exist_ok=True)\n",
    "\n",
    "with open('./brown_100.txt', 'r') as file_:\n",
    "    corpus = file_.read()\n",
    "\n",
    "def write_freqs(list_: list, filename: str) -> None:\n",
    "    with open(f'./results/{filename}.txt', 'w') as file_:\n",
    "        file_.write('\\n'.join([' '.join(x[0]) + ' | ' + str(x[1]) for x in list_]))"
   ]
  },
  {
   "cell_type": "markdown",
   "metadata": {},
   "source": [
    "## N-Gram Language Modeling\n",
    "In the second assignment, you will implement an **n-gram language model** that processes input text to generate, analyze, and calculate the probabilities of sequences of `n` words (n-grams). This model will tokenize text, create n-grams, and compute their frequencies and probabilities, returning the most frequent n-grams in the text.\n",
    "\n",
    "1. **Tokenization**: Convert the input text into a list of words (tokens).\n",
    "2. **N-gram Generation**: Create sequences of `n` tokens from the text, treating each sentence independently with the inclusion of start (`<s>`) and end (`</s>`) markers.\n",
    "3. **Frequency Counting**: Count how many times each n-gram appears in the text.\n",
    "4. **Probability Calculation**: Compute the probabilities of each n-gram based on its frequency and add alpha smoothing to improve generalization of items.\n",
    "5. **Most Frequent N-grams**: Return the most frequent n-grams along with their probabilities, helping to identify common patterns in the text."
   ]
  },
  {
   "cell_type": "code",
   "execution_count": 3,
   "metadata": {},
   "outputs": [
    {
     "name": "stdout",
     "output_type": "stream",
     "text": [
      "Tokens: [['<s>', 'This', 'is', 'a', 'simple', 'example', 'to', 'demonstrate', 'how', 'n-grams', 'work', 'in', 'this', 'assignment', '</s>'], ['<s>', 'Looking', 'at', 'the', 'example', 'is', 'faster', 'than', 'working', 'with', 'full', 'n-grams', 'corpus', 'for', 'the', 'assignment', '</s>']]\n",
      "Generated n-grams: [('<s>', 'This'), ('This', 'is'), ('is', 'a'), ('a', 'simple'), ('simple', 'example'), ('example', 'to'), ('to', 'demonstrate'), ('demonstrate', 'how'), ('how', 'n-grams'), ('n-grams', 'work'), ('work', 'in'), ('in', 'this'), ('this', 'assignment'), ('assignment', '</s>'), ('<s>', 'Looking'), ('Looking', 'at'), ('at', 'the'), ('the', 'example'), ('example', 'is'), ('is', 'faster'), ('faster', 'than'), ('than', 'working'), ('working', 'with'), ('with', 'full'), ('full', 'n-grams'), ('n-grams', 'corpus'), ('corpus', 'for'), ('for', 'the'), ('the', 'assignment'), ('assignment', '</s>')]\n",
      "N-gram frequencies: Counter({('assignment', '</s>'): 2, ('<s>', 'This'): 1, ('This', 'is'): 1, ('is', 'a'): 1, ('a', 'simple'): 1, ('simple', 'example'): 1, ('example', 'to'): 1, ('to', 'demonstrate'): 1, ('demonstrate', 'how'): 1, ('how', 'n-grams'): 1, ('n-grams', 'work'): 1, ('work', 'in'): 1, ('in', 'this'): 1, ('this', 'assignment'): 1, ('<s>', 'Looking'): 1, ('Looking', 'at'): 1, ('at', 'the'): 1, ('the', 'example'): 1, ('example', 'is'): 1, ('is', 'faster'): 1, ('faster', 'than'): 1, ('than', 'working'): 1, ('working', 'with'): 1, ('with', 'full'): 1, ('full', 'n-grams'): 1, ('n-grams', 'corpus'): 1, ('corpus', 'for'): 1, ('for', 'the'): 1, ('the', 'assignment'): 1})\n",
      "N-gram probabilities: {('<s>', 'This'): 0.5, ('This', 'is'): 1.0, ('is', 'a'): 0.5, ('a', 'simple'): 1.0, ('simple', 'example'): 1.0, ('example', 'to'): 0.5, ('to', 'demonstrate'): 1.0, ('demonstrate', 'how'): 1.0, ('how', 'n-grams'): 1.0, ('n-grams', 'work'): 0.5, ('work', 'in'): 1.0, ('in', 'this'): 1.0, ('this', 'assignment'): 1.0, ('assignment', '</s>'): 1.0, ('<s>', 'Looking'): 0.5, ('Looking', 'at'): 1.0, ('at', 'the'): 1.0, ('the', 'example'): 0.5, ('example', 'is'): 0.5, ('is', 'faster'): 0.5, ('faster', 'than'): 1.0, ('than', 'working'): 1.0, ('working', 'with'): 1.0, ('with', 'full'): 1.0, ('full', 'n-grams'): 1.0, ('n-grams', 'corpus'): 0.5, ('corpus', 'for'): 1.0, ('for', 'the'): 1.0, ('the', 'assignment'): 0.5}\n",
      "[(('assignment', '</s>'), 1.0), (('<s>', 'This'), 0.5), (('This', 'is'), 1.0), (('is', 'a'), 0.5), (('a', 'simple'), 1.0), (('simple', 'example'), 1.0), (('example', 'to'), 0.5), (('to', 'demonstrate'), 1.0), (('demonstrate', 'how'), 1.0), (('how', 'n-grams'), 1.0)]\n"
     ]
    }
   ],
   "source": [
    "from collections import Counter, defaultdict # You may import more from collections if needed\n",
    "from itertools import tee, islice\n",
    "import re\n",
    "\n",
    "\n",
    "class NGramModel:\n",
    "    def __init__(self, text, n, alpha=0.0):\n",
    "        \"\"\"\n",
    "        Initialize the NGramModel with text and the value of n.\n",
    "        \"\"\"\n",
    "        self.text = text\n",
    "        self.n = n\n",
    "        self.alpha = alpha  # Alpha value for additive smoothing\n",
    "        self.n_grams_list = []  # List to store n-grams\n",
    "        self.ngrams = {}\n",
    "        self.total_count = 0  # Total count of n-grams\n",
    "        self.probabilities = {}\n",
    "        self.vocab = set()\n",
    "\n",
    "    def tokenize(self) -> None:\n",
    "        \"\"\"\n",
    "        Tokenize the text into words. \n",
    "        Fill in the code to split the text into a list of words.\n",
    "        \"\"\"\n",
    "        # Split sentences with inclusion of punctuation as tokens\n",
    "        # '\"' and word != '``' and word != \"''\" and word != '``']\n",
    "        sentences = re.split(r'[.!?,\"``'']', self.text)\n",
    "        tokens = []\n",
    "        # to tokenize each word in the sentences\n",
    "        for sentence in sentences:\n",
    "            sentence = sentence.strip()\n",
    "            if sentence:\n",
    "                token =['<s>']\n",
    "                self.vocab.add('<s>')  # Add start token to vocabulary\n",
    "                # Tokenize the sentence into words\n",
    "                words = sentence.split()\n",
    "                for word in words:\n",
    "                 # Add them to the tokens list\n",
    "                    token.append(word) \n",
    "                    self.vocab.add(word)  # Add to vocabulary          \n",
    "            else:\n",
    "                continue  \n",
    "            token.append('</s>')\n",
    "            self.vocab.add('</s>')  # Add end token to vocabulary\n",
    "            tokens.append(token)  # Append the tokenized sentence to the tokens list\n",
    "        return tokens\n",
    "\n",
    "    def generate_ngrams(self, tokens: list) -> dict:\n",
    "        \"\"\"\n",
    "        Generate n-grams from the list of tokens.\n",
    "        Fill in the code to create n-grams.\n",
    "        Make sure to treat each sentence independently, include the <s> and </s> tokens.\n",
    "        \"\"\"\n",
    "        \"Create sequences of `n` tokens from the text, treating each sentence independently with the inclusion of start (`<s>`) and end (`</s>`) markers.\"\n",
    "        if self.n > 1:\n",
    "            for sentence in tokens:  # each sentence is a list\n",
    "                if len(sentence) >= self.n:\n",
    "                    for j in range(len(sentence) - self.n+1):  \n",
    "                        self.n_grams_list.append(tuple(sentence[j:j+self.n]))  # wrap single word as a tuple\n",
    "        # if self.n == 1:\n",
    "        #     for sentence in tokens:  # each sentence is a list\n",
    "        #         if len(sentence) >= self.n:\n",
    "        #             for j in range(len(sentence)- self.n+1):  # all words (not -1)\n",
    "        #                 self.n_grams_list.append(tuple(sentence[j:j+1]))  # wrap single word as a tuple\n",
    "\n",
    "        # elif self.n == 2:\n",
    "        #     for sentence in tokens:  # each sentence is a list\n",
    "        #         if len(sentence) >= self.n:\n",
    "        #             for j in range(len(sentence)- self.n + 1):  \n",
    "        #                 self.n_grams_list.append(tuple(sentence[j:j+2]))  # wrap single word as a tuple\n",
    "            \n",
    "        # elif self.n == 3:\n",
    "        #     for sentence in tokens:  # each sentence is a list\n",
    "        #         if len(sentence) >= self.n:\n",
    "        #             for j in range(len(sentence) - self.n+1):  \n",
    "        #                 self.n_grams_list.append(tuple(sentence[j:j+3]))  # wrap single word as a tuple\n",
    "        else:\n",
    "            # raise ValueError(\"n must be 1, 2, or 3 for unigrams, bigrams, or trigrams respectively.\")\n",
    "            raise ValueError(\"n must be greater than 1 for ngrams.\")\n",
    "        return self.n_grams_list\n",
    "\n",
    "\n",
    "    def count_frequencies(self) -> None:\n",
    "        \"\"\"\n",
    "        Count the frequencies of each n-gram.\n",
    "        Fill in the code to count n-gram occurrences.\n",
    "        \"\"\"\n",
    "        # Store the frequencies in the ngrams dictionary\n",
    "        frequency_count = Counter()\n",
    "        for member in self.n_grams_list:\n",
    "            frequency_count[member] += 1\n",
    "        self.ngrams = frequency_count\n",
    "        self.total_count = sum(frequency_count.values())  \n",
    "        \n",
    "        return self.ngrams\n",
    "\n",
    "        # raise NotImplementedError\n",
    "\n",
    "    def calculate_probabilities(self) -> None:\n",
    "        \"\"\"\n",
    "        Calculate probabilities of each n-gram based on its frequency. Add alpha smoothing separately.\n",
    "        \"\"\"\n",
    "        if not self.ngrams:\n",
    "            raise ValueError(\"Frequency of N-grams is not yet calculated.\")\n",
    "\n",
    "        V = len(self.vocab)  # Vocabulary size (for unigrams, you should also build vocab earlier)\n",
    "\n",
    "        history_counts = Counter() # Count occurrences of histories (n-1 grams)\n",
    "        for ngram, count in self.ngrams.items():\n",
    "            history = ngram[:-1]\n",
    "            history_counts[history] += count\n",
    "\n",
    "        self.probabilities = {}\n",
    "\n",
    "        for ngram, count in self.ngrams.items():\n",
    "            history = ngram[:-1]\n",
    "            history_count = history_counts[history]\n",
    "\n",
    "            if self.alpha == 0:\n",
    "                prob = count / history_count\n",
    "            else:\n",
    "                prob = (count + self.alpha) / (history_count + self.alpha * V)\n",
    "\n",
    "            self.probabilities[ngram] = prob  # <-- Store each ngram's probability here\n",
    "\n",
    "        return self.probabilities\n",
    "\n",
    "\n",
    "\n",
    "    def most_frequent_ngrams(self, top_n: int = 10) -> list:\n",
    "        \"\"\"\n",
    "        Return the most frequent n-grams and their probabilities.\n",
    "        \"\"\"\n",
    "        # Sort the n-grams by frequency in descending order\n",
    "        sorted_ngrams = sorted(self.ngrams.items(), key=lambda x: x[1], reverse=True)\n",
    "        # Get the top n n-grams\n",
    "        most_frequent = sorted_ngrams[:top_n]\n",
    "        # Format the output as a list of tuples (n-gram, frequency, probability) for top n-grams\n",
    "        most_frequent_ngrams = [(gram, self.probabilities[gram]) for gram, count in most_frequent]\n",
    "\n",
    "        # to raise error if the n-grams are not calculated\n",
    "        if not self.ngrams:\n",
    "            raise ValueError(\" Frequency of N-grams is not yet calculated.\")\n",
    "        \n",
    "        return most_frequent_ngrams\n",
    "\n",
    "# Testing the model with an example\n",
    "text = \"This is a simple example to demonstrate how n-grams work in this assignment. Looking at the example is faster than working with full n-grams corpus for the assignment.\" #Faster than running the full corpus\n",
    "n = 2 # You can change this to 1, 2, or 3 for uni, bi, or trigrams\n",
    "model = NGramModel(text, n)\n",
    "\n",
    "tokens = model.tokenize()\n",
    "print(\"Tokens:\", tokens)\n",
    "ngrams = model.generate_ngrams(tokens)\n",
    "print(\"Generated n-grams:\", ngrams)\n",
    "model.count_frequencies()\n",
    "print(\"N-gram frequencies:\", model.ngrams)\n",
    "model.calculate_probabilities()\n",
    "print(\"N-gram probabilities:\", model.probabilities)\n",
    "\n",
    "# Print the most frequent n-grams\n",
    "print(model.most_frequent_ngrams(10))\n"
   ]
  },
  {
   "cell_type": "markdown",
   "metadata": {},
   "source": [
    "### Unigrams\n",
    "\n",
    "In this section, we apply the `NGramModel` to our corpus. The model can be configured to generate unigrams, bigrams, or trigrams by adjusting the value of `n`. After tokenizing the text and generating the n-grams, the model counts the occurrences of each n-gram and calculates their probabilities. The most frequent n-grams are then written to an output file.\n",
    "\n",
    "By adjusting the n-gram size, we can analyze different levels of word dependencies in the text, providing insights into common word sequences and patterns.  \n",
    "\n",
    "The code below will generate unigrams when the NGramModel is implemented correctly"
   ]
  },
  {
   "cell_type": "code",
   "execution_count": null,
   "metadata": {},
   "outputs": [
    {
     "name": "stdout",
     "output_type": "stream",
     "text": [
      "Most frequent unigrams: [(('<s>',), 0.08272692454998085), (('</s>',), 0.08272692454998085), (('the',), 0.04902336269628495), ((',',), 0.0337035618536959), (('of',), 0.025660666411336654), (('to',), 0.02106472615855994), (('a',), 0.019149751053236307), (('and',), 0.015319800842589047), (('in',), 0.01493680582152432), (('``',), 0.013404825737265416)]\n"
     ]
    }
   ],
   "source": [
    "n = 1  # You can change this to 1, 2, or 3 for uni, bi, or trigrams\n",
    "model = NGramModel(corpus, n)\n",
    "\n",
    "tokens = model.tokenize()\n",
    "ngrams = model.generate_ngrams(tokens)\n",
    "model.count_frequencies()\n",
    "model.calculate_probabilities()\n",
    "\n",
    "write_freqs(model.most_frequent_ngrams(10), 'unigrams')\n",
    "print(\"Most frequent unigrams:\", model.most_frequent_ngrams(10))"
   ]
  },
  {
   "cell_type": "markdown",
   "metadata": {},
   "source": [
    "### Bigrams\n",
    "Bigrams allow us to explore word pairs and their relationships, providing insight into common word combinations and phrase structures within the corpus.  \n",
    "The code below will generate bigrams when the NGramModel is implemented correctly."
   ]
  },
  {
   "cell_type": "code",
   "execution_count": null,
   "metadata": {},
   "outputs": [
    {
     "name": "stdout",
     "output_type": "stream",
     "text": [
      "Most frequent bigrams: [(('</s>', '<s>'), 0.99), (('<s>', '</s>'), 0.41203703703703703), (('<s>', 'The'), 0.125), ((',', 'the'), 0.18181818181818182), (('in', 'the'), 0.38461538461538464), ((\"''\", '</s>'), 0.4411764705882353), (('of', 'the'), 0.208955223880597), (('<s>', '``'), 0.037037037037037035), ((\"''\", ','), 0.20588235294117646), (('the', 'jury'), 0.0546875)]\n"
     ]
    }
   ],
   "source": [
    "n = 2  # You can change this to 1, 2, or 3 for uni, bi, or trigrams\n",
    "model = NGramModel(corpus, n)\n",
    "\n",
    "tokens = model.tokenize()\n",
    "ngrams = model.generate_ngrams(tokens)\n",
    "model.count_frequencies()\n",
    "model.calculate_probabilities()\n",
    "\n",
    "write_freqs(model.most_frequent_ngrams(10), 'bigrams')\n",
    "print(\"Most frequent bigrams:\", model.most_frequent_ngrams(10))"
   ]
  },
  {
   "cell_type": "markdown",
   "metadata": {},
   "source": [
    "### Trigrams\n",
    "Trigrams capture three-word sequences, providing a deeper understanding of longer word dependencies and commonly occurring phrases within the text.  \n",
    "The code below will generate trigrams when the NGramModel is implemented correctly"
   ]
  },
  {
   "cell_type": "code",
   "execution_count": null,
   "metadata": {},
   "outputs": [
    {
     "name": "stdout",
     "output_type": "stream",
     "text": [
      "Most frequent trigrams: [(('<s>', '</s>', '<s>'), 0.9887640449438202), (('</s>', '<s>', 'The'), 0.26262626262626265), (('</s>', '<s>', '``'), 0.08080808080808081), ((',', 'the', 'jury'), 0.4375), (('<s>', 'The', 'jury'), 0.2222222222222222), ((\"''\", ',', 'the'), 0.8571428571428571), (('</s>', '<s>', 'It'), 0.06060606060606061), (('the', 'jury', 'said'), 0.7142857142857143), (('</s>', '<s>', 'A'), 0.04040404040404041), (('jury', 'said', ','), 0.42857142857142855)]\n"
     ]
    }
   ],
   "source": [
    "n = 3  # You can change this to 1, 2, or 3 for uni, bi, or trigrams\n",
    "model = NGramModel(corpus, n)\n",
    "\n",
    "tokens = model.tokenize()\n",
    "ngrams = model.generate_ngrams(tokens)\n",
    "model.count_frequencies()\n",
    "model.calculate_probabilities()\n",
    "\n",
    "write_freqs(model.most_frequent_ngrams(10), 'trigrams')\n",
    "print(\"Most frequent trigrams:\", model.most_frequent_ngrams(10))"
   ]
  },
  {
   "cell_type": "markdown",
   "metadata": {},
   "source": [
    "### Smoothing\n",
    "Below, we generate **bigrams** with **smoothing** applied by setting `n = 2` and including a smoothing parameter `alpha = 1.0`. Smoothing is useful in language models to handle unseen n-grams by assigning a small probability to them. The model tokenizes the text, generates bigrams, counts their frequencies, and calculates smoothed probabilities. The most frequent bigrams are then written to an output file.\n",
    "\n",
    "\n",
    "\n"
   ]
  },
  {
   "cell_type": "code",
   "execution_count": 35,
   "metadata": {},
   "outputs": [],
   "source": [
    "n = 2  # You can change this to 1, 2, or 3 for uni, bi, or trigrams\n",
    "model = NGramModel(corpus, n, alpha=1.0)\n",
    "\n",
    "tokens = model.tokenize()\n",
    "ngrams = model.generate_ngrams(tokens)\n",
    "model.count_frequencies()\n",
    "model.calculate_probabilities()\n",
    "\n",
    "write_freqs(model.most_frequent_ngrams(10), 'bigrams_smoothed')"
   ]
  },
  {
   "cell_type": "markdown",
   "metadata": {},
   "source": [
    "### Generating Text\n",
    "In this example, we generate text using the **bigrams** model by providing a starting **prompt** (e.g., \"the jury\"). The `generate_text` function creates a sequence of words based on the trained bigram model, starting from the provided prompt and continuing based on the probabilities of the next words.\n",
    "\n",
    "After tokenizing the corpus, generating bigrams, and calculating their frequencies and probabilities, the model uses these learned probabilities to generate text. The generated output is then written to a file.\n",
    "\n",
    "Text generation with n-grams helps illustrate how language models can predict word sequences, allowing us to create new sentences that follow similar patterns found in the original text."
   ]
  },
  {
   "cell_type": "code",
   "execution_count": null,
   "metadata": {},
   "outputs": [],
   "source": [
    "def generate_text(model: NGramModel, n: int, prompt: str) -> str:\n",
    "    # Generate text based on the n-gram model and a given prompt.\n",
    "    if n != model.n:\n",
    "        raise ValueError(f\"Model is built for n={model.n}, but n={n} was provided.\")\n",
    "    if not prompt:\n",
    "        raise ValueError(\"Prompt is empty. Please provide a valid prompt.\")\n",
    "    generated_tokens = prompt.split()\n",
    "    for i in range(15):\n",
    "        if len(generated_tokens) < n-1:\n",
    "            continue\n",
    "        # Get the last n-1 tokens to form the context for prediction\n",
    "        prev_tokens= tuple(generated_tokens[-(n-1):])\n",
    "        # Get the probabilities of the next token given the previous n-1 tokens\n",
    "        next_token_probs = {key_dictionary: prob_value_dictionary for key_dictionary, prob_value_dictionary in model.probabilities.items() if key_dictionary[:-1] == prev_tokens}\n",
    "        if not next_token_probs:\n",
    "            break  # No more tokens can be generated\n",
    "        \n",
    "        next_token = max(next_token_probs, key=next_token_probs.get)[-1]\n",
    "        # Append the next token to the generated tokens\n",
    "        if next_token == '</s>':\n",
    "            break\n",
    "        generated_tokens.append(next_token)\n",
    "    \n",
    "    return ' '.join(generated_tokens)\n",
    "   \n",
    "tokens = model.tokenize()\n",
    "ngrams = model.generate_ngrams(tokens)\n",
    "model.count_frequencies()\n",
    "model.calculate_probabilities()\n",
    "generated_text = generate_text(model, 2, 'the jury')\n",
    "with open(f'./results/generated_bigrams.txt', 'w') as file_:\n",
    "    file_.write(generated_text)"
   ]
  },
  {
   "cell_type": "markdown",
   "metadata": {},
   "source": [
    "## Word Vectors\n",
    "Based on the Stanford course: https://web.stanford.edu/class/cs224n/"
   ]
  },
  {
   "cell_type": "markdown",
   "metadata": {},
   "source": [
    "### Count based W2V\n",
    "In this section, we use the previously trained **n-gram model** to calculate a **co-occurrence matrix**. A co-occurrence matrix shows how often words appear together within a specific context (in this case, bigrams), providing insights into word relationships in the corpus.\n",
    "\n",
    "Steps:\n",
    "1. **Tokenization and N-gram Generation**: We first tokenize the text and generate bigrams using the `NGramModel`.\n",
    "2. **Vocabulary and Indexing**: The vocabulary is created from the unique tokens, and a word-to-index mapping is established.\n",
    "3. **Co-occurrence Matrix**: Using the generated n-grams, we compute the co-occurrence matrix, where each entry represents how often two words occur together within the bigrams.\n",
    "\n",
    "The co-occurrence matrix provides a numerical representation of word relationships, which is useful for tasks like word embeddings, semantic analysis, and understanding word associations."
   ]
  },
  {
   "cell_type": "code",
   "execution_count": 38,
   "metadata": {},
   "outputs": [
    {
     "name": "stdout",
     "output_type": "stream",
     "text": [
      "vocab_size: 859\n"
     ]
    }
   ],
   "source": [
    "# Since we already have a working ngram model, for the next part we can use the ngrams to calculate the co-occurences.\n",
    "model = NGramModel(corpus, 2)\n",
    "tokens = model.tokenize()\n",
    "ngrams = model.generate_ngrams(tokens)\n",
    "# print(\"Generated n-grams:\", ngrams)\n",
    "# print(\"type of ngrams:\", type(ngrams))\n",
    "# print(\"length of ngrams:\", len(ngrams))\n",
    "# print(\"length of tokens:\", len(tokens))\n",
    "# print(\"length of tokens[0]:\", len(tokens[0]))\n",
    "# print(\"type of tokens:\", type(tokens))\n",
    "# print(\"type of tokens[0]:\", type(tokens[0]))\n",
    "# print(\"tokens[0]:\", tokens[0])\n",
    "# print(\"tokens[0][0]:\", tokens[0][0])\n",
    "# print(\"tokens:\", tokens)\n",
    "\n",
    "def create_co_matrix(ngrams: list, vocab_size: int, word_to_index: dict) -> np.ndarray:\n",
    "    co_matrix = np.zeros((vocab_size, vocab_size), dtype=np.int32)\n",
    "    for ngram in ngrams:\n",
    "        for i in range(len(ngram)-1):\n",
    "            word1 = ngram[i]\n",
    "            word2 = ngram[i+1]\n",
    "            if word1 in word_to_index and word2 in word_to_index:\n",
    "                index1 = word_to_index[word1]\n",
    "                index2 = word_to_index[word2]\n",
    "                co_matrix[index1, index2] += 1\n",
    "                co_matrix[index2, index1] += 1  # Symmetric matrix\n",
    "    # # Normalize the co-occurrence matrix\n",
    "    # co_matrix = co_matrix.astype(np.float32)\n",
    "    # co_matrix /= np.sum(co_matrix, axis=1, keepdims=True)  # Normalize by row sums\n",
    "    return co_matrix\n",
    "\n",
    "# Given code\n",
    "# vocab = list(set(tokens))\n",
    "# Generative AI code soln\n",
    "# vocab = list(list(tokens))\n",
    "# for token in tokens:\n",
    "#     vocab.extend(token)\n",
    "# vocab = set(vocab)  # Remove duplicates\n",
    "# vocab = list(vocab)  # Convert back to list\n",
    "\n",
    "all_tokens = [token for sentence in tokens for token in sentence]\n",
    "vocab = set(all_tokens)\n",
    "\n",
    "\n",
    "vocab_size = len(vocab)\n",
    "# print(\"vocab:\", vocab)\n",
    "print(\"vocab_size:\", vocab_size)\n",
    "\n",
    "# Create a word-to-index mapping\n",
    "word_to_index = {word: idx for idx, word in enumerate(vocab)}\n",
    "\n",
    "# Generate the co-occurrence matrix\n",
    "co_matrix = create_co_matrix(ngrams, vocab_size, word_to_index)\n",
    "\n",
    "# Optionally, print the matrix or parts of it\n",
    "# print(co_matrix.value_counts())"
   ]
  },
  {
   "cell_type": "markdown",
   "metadata": {},
   "source": [
    "With the code below you can verify if the co-occurence works"
   ]
  },
  {
   "cell_type": "code",
   "execution_count": 39,
   "metadata": {},
   "outputs": [
    {
     "name": "stdout",
     "output_type": "stream",
     "text": [
      "Co-occurrence count for 'the' and 'jury': 7\n",
      "One or both words 'the' and 'cat' are not in the vocabulary.\n"
     ]
    }
   ],
   "source": [
    "def check_co_occurrence(word1, word2, co_matrix, word_to_index):\n",
    "    \"\"\"\n",
    "    Print the co-occurrence count for a specific word pair.\n",
    "    \"\"\"\n",
    "    if word1 not in word_to_index or word2 not in word_to_index:\n",
    "        print(f\"One or both words '{word1}' and '{word2}' are not in the vocabulary.\")\n",
    "        return\n",
    "\n",
    "    index1 = word_to_index[word1]\n",
    "    index2 = word_to_index[word2]\n",
    "\n",
    "    co_count = co_matrix[index1][index2]\n",
    "    print(f\"Co-occurrence count for '{word1}' and '{word2}': {co_count}\")\n",
    "\n",
    "check_co_occurrence('the', 'jury', co_matrix, word_to_index)\n",
    "check_co_occurrence('the', 'cat', co_matrix, word_to_index)"
   ]
  },
  {
   "cell_type": "markdown",
   "metadata": {},
   "source": [
    "In this part, we reduce the dimensionality of the **co-occurrence matrix** using **Singular Value Decomposition (SVD)**. This technique helps in extracting the most important features from the matrix, making it easier to visualize and interpret the relationships between words.\n",
    "\n",
    "Steps:\n",
    "1. **Singular Value Decomposition (SVD)**: The co-occurrence matrix is decomposed into three matrices: \\( M = U \\cdot \\Sigma \\cdot V^T \\).\n",
    "2. **Dimensionality Reduction**: We retain only the top `k` components (default is 2) from the SVD, effectively reducing the dimensionality of the matrix.\n",
    "3. **Reduced Matrix**: The reduced matrix retains the most important semantic information and can be used for tasks such as **word embedding visualization** or **semantic similarity analysis**.\n",
    "\n",
    "Dimensionality reduction allows us to capture the essence of word relationships in fewer dimensions, making it more efficient to process and visualize the data."
   ]
  },
  {
   "cell_type": "code",
   "execution_count": 40,
   "metadata": {},
   "outputs": [],
   "source": [
    "from sklearn.decomposition import TruncatedSVD\n",
    "\n",
    "def reduce_to_k_dim(M, k=2):\n",
    "    \"\"\"\n",
    "    Reduce the dimensionality of the co-occurrence matrix M to k dimensions using SVD.\n",
    "    \"\"\"\n",
    "    # U, S, Vt = np.linalg.svd(M, full_matrices=False)\n",
    "    # # print(\"U shape:\", U.shape)\n",
    "    # # print(\"S shape:\", S.shape)\n",
    "    # # print(\"Vt shape:\", Vt.shape)\n",
    "    # # Select the top k singular values and corresponding vectors\n",
    "    # U_reduced = U[:, :k]\n",
    "    # S_reduced = np.diag(S[:k])\n",
    "    # Vt_reduced = Vt[:k, :]\n",
    "    # # Reconstruct the reduced matrix\n",
    "    # M_reduced = np.dot(U_reduced, S_reduced).dot(Vt_reduced)\n",
    "    # # # Normalize the reduced matrix\n",
    "    # # M_reduced = M_reduced.astype(np.float32)\n",
    "    # # M_reduced /= np.sum(M_reduced, axis=1, keepdims=True)  # Normalize by row sums\n",
    "    svd = TruncatedSVD(n_components=k)\n",
    "    M_reduced = svd.fit_transform(M)\n",
    "\n",
    "    return M_reduced"
   ]
  },
  {
   "cell_type": "markdown",
   "metadata": {},
   "source": [
    "In this final part, we visualize the reduced word embeddings in **2D space**. After reducing the dimensionality of the co-occurrence matrix using SVD, we plot the embeddings for each word to observe their relationships in a low-dimensional space.\n",
    "\n",
    "Steps:\n",
    "1. **Plotting the Embeddings**: Each word from the vocabulary is plotted based on its 2D coordinates from the reduced matrix.\n",
    "2. **Visualization**: The scatter plot allows us to see how words cluster together or relate to each other based on co-occurrences in the text. Words with similar contexts should appear closer to each other in the plot.\n",
    "3. **Interpretation**: By looking at the 2D plot, we can analyze word similarities, relationships, and clusters formed by words that often occur together.\n",
    "\n",
    "This visualization is a useful tool for understanding the structure of word embeddings and the relationships between words in the corpus.\n",
    "\n",
    "\n",
    "\n",
    "\n",
    "\n"
   ]
  },
  {
   "cell_type": "code",
   "execution_count": 42,
   "metadata": {},
   "outputs": [
    {
     "name": "stdout",
     "output_type": "stream",
     "text": [
      "plot embeddings fn type of word to index: <class 'dict'>\n",
      "plot embeddings fn length of word_to_index: 859\n"
     ]
    },
    {
     "data": {
      "image/png": "[encoded data removed]",
      "text/plain": [
       "<Figure size 1500x1500 with 1 Axes>"
      ]
     },
     "metadata": {},
     "output_type": "display_data"
    }
   ],
   "source": [
    "def plot_embeddings(M_reduced, word_to_index, words):\n",
    "    \"\"\"\n",
    "    Plot the word embeddings in 2D space.\n",
    "    \"\"\"\n",
    "    print(\"plot embeddings fn type of word to index:\", type(word_to_index))\n",
    "    print(\"plot embeddings fn length of word_to_index:\", len(word_to_index))\n",
    "    plt.figure(figsize=(15, 15))\n",
    "    for i, word in enumerate(words):\n",
    "        # print(\"word:\", word)\n",
    "        if word in word_to_index:\n",
    "            x, y = M_reduced[word_to_index[word], :2]\n",
    "            plt.scatter(x, y)\n",
    "            plt.annotate(word, (x, y), fontsize=12)\n",
    "\n",
    "# words = ['take', 'story', 'of', 'also', 'under', 'state']\n",
    "# words = ['has', 'story', 'of', 'said', 'in', 'state', 'jury']\n",
    "# words = ['has', 'story', 'of', 'in', 'state', 'jury']\n",
    "# election, politics, citizens, vote, government, president, country, law, rights, democracy\n",
    "# words = ['election', 'politics', 'citizens', 'vote', 'government', 'president', 'country', 'law', 'rights', 'democracy']\n",
    "# words = [\"city\", \"election\", \"law\", \"mayor\", \"court\", \"jury\", \"department\", \"legislature\", \"officials\", \"school\", \"county\", \"police\", \"voters\", \"funds\", \"tax\", \"state\", \"candidate\", \"education\", \"governor\", \"hospital\"]\n",
    "words = [\"city\", \"election\", \"court\", \"jury\", \"department\", \"legislature\", \"county\", \"police\", \"funds\", \"tax\", \"state\", \"candidate\", \"education\", \"governor\", \"hospital\"]\n",
    "\n",
    "\n",
    "M_reduced = reduce_to_k_dim(co_matrix, k=2)\n",
    "\n",
    "# vocab_without_s = [word for word in vocab if word != '<s>' and word != '</s>' and word != '\"' and word != '``' and word != \"''\"]\n",
    "# # vocab_without_s = vocab.remove('<s>')\n",
    "# # vocab_without_s = vocab.remove('</s>')\n",
    "# plot_embeddings(M_reduced, vocab_without_s) \n",
    "\n",
    "plot_embeddings(M_reduced, word_to_index, words)\n",
    "plt.savefig('./results/word_embeddings_selected_words.png')  \n"
   ]
  },
  {
   "cell_type": "markdown",
   "metadata": {},
   "source": [
    "## Prediction-Based Word Vectors\n",
    "In this section, we load pre-trained word vectors using the **GloVe** embeddings from the [Stanford NLP paper on GloVe](https://nlp.stanford.edu/pubs/glove.pdf). The pre-trained embeddings provide rich semantic information about words based on large text corpora, allowing us to represent words as vectors that capture their meaning and relationships.\n",
    "\n",
    "Steps:\n",
    "1. **Load GloVe Word Vectors**: We use the GloVe embeddings from the `glove-wiki-gigaword-200` model, which has 200-dimensional vectors for each word.\n",
    "2. **Vocabulary Matching**: We map the words from our corpus to the GloVe vocabulary and extract the corresponding vectors.\n",
    "3. **Dimensionality Reduction**: After obtaining the word vectors, we reduce the dimensionality to visualize the embeddings in 2D space, allowing us to explore word relationships visually.\n",
    "\n",
    "This is an excellent opportunity to explore how pre-trained embeddings like GloVe can be used to improve downstream NLP tasks by providing richer word representations."
   ]
  },
  {
   "cell_type": "code",
   "execution_count": 32,
   "metadata": {},
   "outputs": [
    {
     "name": "stdout",
     "output_type": "stream",
     "text": [
      "Loaded vocab size 400000\n",
      "data type of unique_tokens: <class 'set'>\n",
      "data type of word_to_index: <class 'dict'>\n",
      "length of unique_tokens: 859\n",
      "length of word_to_index: 859\n",
      "word_to_index: {'Jr': 0, 'In': 1, 'hopper': 2, 'good': 3, 'mention': 4, 'privilege': 5, 'believes': 6, 'reelection': 7, 'aside': 8, 'Office': 9, 'given': 10, 'fact': 11, 'political': 12, 'Constitution': 13, 'fees': 14, 'Alpharetta': 15, 'Tuesday': 16, 'trouble': 17, 'this': 18, 'Police': 19, 'race': 20, 'former': 21, 'Callan': 22, 'Rural': 23, 'distribution': 24, 'lived': 25, 'Henry': 26, 'generally': 27, 'who': 28, 'emphasizing': 29, 'Austin': 30, \"Atlanta's\": 31, 'servants': 32, 'roads': 33, 'best': 34, 'warned': 35, 'pointed': 36, 'courts': 37, '(': 38, 'validity': 39, 'new': 40, \"ordinary's\": 41, 'begin': 42, 'end': 43, 'went': 44, 'often': 45, 'heavily': 46, 'size': 47, 'automobile': 48, 'announced': 49, 'practices': 50, 'details': 51, 'something': 52, '$4': 53, 'local': 54, 'interest': 55, 'counties': 56, 'most': 57, 'Legislature': 58, 'He': 59, 'official': 60, 'Hospital': 61, 'aid': 62, 'took': 63, \"''\": 64, 'hard-fought': 65, 'Mayor-nominate': 66, 'law': 67, 'against': 68, '$10': 69, 'The': 70, 'recommendations': 71, 'each': 72, 'himself': 73, 'operating': 74, 'considering': 75, 'County': 76, 'county': 77, 'or': 78, 'back': 79, 'Fulton': 80, 'hurdle': 81, 'order': 82, 'with': 83, 'expires': 84, 'chambers': 85, 'however': 86, 'jury': 87, 'realize': 88, 'unanimous': 89, 'force': 90, 'passed': 91, 'teacher': 92, 'read': 93, 'Rep': 94, 'cruelty': 95, 'registration': 96, 'foster': 97, 'number': 98, 'Congress': 99, 'Despite': 100, 'event': 101, 'protect': 102, 'some': 103, 'Being': 104, 'prison': 105, 'will': 106, 'Friday': 107, 'first': 108, 'seek': 109, 'career': 110, 'personnel': 111, 'reconstruction': 112, 'after': 113, 'produced': 114, 'fully': 115, 'criticisms': 116, 'attended': 117, 'Construction': 118, 'Welfare': 119, 'amendment': 120, 'Thursday': 121, 'Lt': 122, 'not': 123, 'previous': 124, 'that': 125, 'reconsideration': 126, 'subjected': 127, 'future': 128, 'laws': 129, 'fair': 130, 'itself': 131, 'any': 132, 'handful': 133, 'too': 134, 'possible': 135, 'Regarding': 136, 'Durwood': 137, 'appointment': 138, 'concessionaires': 139, 'newly': 140, 'dispute': 141, 'topics': 142, 'Washington': 143, 'settlement': 144, 'offer': 145, 'rally': 146, 'expected': 147, 'jurors': 148, 'Four': 149, \"Byrd's\": 150, 'saw': 151, 'system': 152, 'Georgia': 153, 'On': 154, 'interim': 155, 'Griffin': 156, 'sought': 157, 'drop': 158, 'three': 159, 'where': 160, 'shot': 161, 'quickie': 162, \"Department's\": 163, 'listed': 164, 'purpose': 165, 'into': 166, 'mental': 167, 'up': 168, 'Tax': 169, 'Ivan': 170, 'veteran': 171, 'Hartsfield': 172, 'Snodgrass': 173, 'gun': 174, 'Chairman': 175, '2': 176, 'conducted': 177, 'appraisers': 178, \"governor's\": 179, 'take': 180, 'wife': 181, 'an': 182, 'received': 183, 'school': 184, 'major': 185, 'protests': 186, 'next': 187, 'held': 188, 'deputies': 189, 'succeeded': 190, 'allowances': 191, 'Grady': 192, 'smooth': 193, 'work': 194, 'increase': 195, 'promise': 196, 'reduce': 197, 'support': 198, 'earlier': 199, \"Georgia's\": 200, 'studied': 201, 'other': 202, 'departments': 203, 'them': 204, 'fire': 205, 'multi-million-dollar': 206, 'married': 207, 'While': 208, 'delegation': 209, 'Executive': 210, 'unit': 211, 'adamant': 212, 'attorney': 213, 'primary': 214, 'deserves': 215, 'top': 216, 'wait': 217, 'appointed': 218, 'proportionate': 219, 'insure': 220, 'from': 221, 'certain': 222, 'controversy': 223, 'guardians': 224, 'distribute': 225, 'Authority': 226, 'mayor': 227, 'by': 228, 'periodic': 229, 'accepted': 230, 'However': 231, 'Robert': 232, 'GOP': 233, 'J': 234, 'face': 235, 'operation': 236, 'remedy': 237, 'there': 238, 'committee': 239, 'Merger': 240, '119': 241, 'registered': 242, 'airport': 243, 'operated': 244, 'W': 245, 'petition': 246, 'very': 247, 'It': 248, 'His': 249, 'outright': 250, 'Health': 251, 'formally': 252, 'midnight': 253, 'may': 254, 'Miller': 255, 'like': 256, 'Colquitt': 257, 'plans': 258, 'resignation': 259, 'combined': 260, 'vote': 261, 'Ledford': 262, 'irregularities': 263, '</s>': 264, 'duty': 265, 'meeting': 266, 'repealed': 267, 'pass': 268, 'together': 269, 'determine': 270, 'rural': 271, 'legislator': 272, 'ever': 273, 'soon': 274, 'Superior': 275, 'farms': 276, 'authorities': 277, 'test': 278, 'Purchasing': 279, 'learned': 280, 'charged': 281, 'jail': 282, 'M': 283, 'been': 284, 'every': 285, 'D': 286, 'allow': 287, 'allowed': 288, 'administrators': 289, 'Bar': 290, 'Garland': 291, 'alternative': 292, 'program': 293, 'John': 294, 'votes': 295, '$50': 296, 'starts': 297, 'provide': 298, 'Commerce': 299, \"mayor's\": 300, 'present': 301, 'Allen': 302, 'candidate': 303, 'thanks': 304, 'items': 305, 'wanted': 306, 'found': 307, 'Savannah': 308, 'inadequate': 309, 'enabling': 310, 'less': 311, 'abandoned': 312, 'sales': 313, 'Sam': 314, 'veiled': 315, 'amicable': 316, 'office': 317, 'Only': 318, 'enthusiastic': 319, 'But': 320, 'praise': 321, 'recent': 322, 're-set': 323, 'might': 324, 'death': 325, 'fit': 326, 'signatures': 327, 'coolest': 328, 'promised': 329, 'had': 330, 'be': 331, 'chairman': 332, 'available': 333, 'governments': 334, 'reportedly': 335, 'swipe': 336, 'make': 337, 'citizens': 338, '1958': 339, 'would': 340, 'pricing': 341, 'Judge': 342, 'won': 343, 'leading': 344, 'council': 345, 'real': 346, 'rescind': 347, 'calls': 348, 'experienced': 349, 'This': 350, 'handling': 351, 'education': 352, 'speaker': 353, 'adjournment': 354, 'Cheshire': 355, 'days': 356, 'we': 357, 'more': 358, 'shortly': 359, 'voted': 360, 'Vandiver': 361, 'Sen': 362, 'Davis': 363, 'surveillance': 364, \"Saturday's\": 365, 'constitutional': 366, 'officials': 367, 'federal': 368, 'additional': 369, '$30': 370, 'raises': 371, 'property': 372, 'opposes': 373, 'dissents': 374, 'services': 375, 'coordinator': 376, 'Senate': 377, 'highways': 378, 'resigned': 379, 'further': 380, 'term': 381, 'weekend': 382, 'congressional': 383, 'just': 384, 'Education': 385, 'stood': 386, 'effected': 387, 'all': 388, 'are': 389, 'go': 390, 'responses': 391, 'sign': 392, 'gubernatorial': 393, 'polls': 394, 'find': 395, 'place': 396, 'Court': 397, 'extern': 398, 'rejected': 399, 'have': 400, '74': 401, 'intern': 402, 'brief': 403, 'These': 404, 'run': 405, \"didn't\": 406, 'employed': 407, \"body's\": 408, 'worth': 409, 'Ordinary': 410, 'effective': 411, 'assistant': 412, 'establishment': 413, 'afternoon': 414, 'principal': 415, '$100': 416, 'Opelika': 417, 'plan': 418, 'become': 419, 'department': 420, 'enter': 421, 'state': 422, 'charge': 423, 'proposed': 424, 'praised': 425, 'entering': 426, 'names': 427, 'church': 428, 'bit': 429, 'told': 430, 'During': 431, 'has': 432, 'campaign': 433, 'compensation': 434, 'Price': 435, 'let': 436, 'evidence': 437, 'carry': 438, 'Mac': 439, 'agriculture': 440, ')': 441, 'protected': 442, 'Association': 443, ':': 444, 'B': 445, 'couple': 446, 'members': 447, 'apparently': 448, 'City': 449, 'populous': 450, 'fund': 451, '1962': 452, 'see': 453, 'management': 454, 'visit': 455, 'Sheriff': 456, '1': 457, '13th': 458, 'city': 459, 'a': 460, 'set': 461, 'Monday': 462, 'birth': 463, 'unmeritorious': 464, 'about': 465, 'no': 466, 'long': 467, 'Grand': 468, 'technical': 469, 'September-October': 470, 'increased': 471, 'opened': 472, 'suit': 473, 'Mrs': 474, '1961': 475, 'A': 476, 'before': 477, 'Aj': 478, 'encouragement': 479, 'friendly': 480, 'Policeman': 481, 'source': 482, 'disproportionate': 483, 'years': 484, 'but': 485, 'State': 486, 'intends': 487, 'over-all': 488, 'age': 489, 'election': 490, 'asking': 491, 'Sept': 492, 'smell': 493, 'Pearl': 494, 'actions': 495, 'Bush': 496, 'Carey': 497, 'for': 498, 'and': 499, 'made': 500, 'adjustments': 501, 'Highway': 502, 'Committee': 503, 'filed': 504, 'L': 505, 'priority': 506, 'cost': 507, 'also': 508, 'tax': 509, 'can': 510, 'Sunday': 511, 'research': 512, 'awarding': 513, 'recommended': 514, 'than': 515, 'expended': 516, 'bonds': 517, 'does': 518, 'receives': 519, 'taxpayers': 520, 'which': 521, 'put': 522, 'Meanwhile': 523, 'warning': 524, 'Pelham': 525, 'must': 526, 'according': 527, 'then': 528, 'purchasing': 529, 'requesting': 530, 'reports': 531, 'greater': 532, 'date': 533, 'elaborate': 534, 'time': 535, 'Tower': 536, 'action': 537, 'pistol': 538, 'seemed': 539, 'Byrd': 540, 'audience': 541, 'funds': 542, 'such': 543, 'was': 544, 'our': 545, 'Felix': 546, 'his': 547, 'should': 548, 'board': 549, 'implementation': 550, 'improving': 551, 'bond': 552, 'daughter': 553, 'pension': 554, \"wife's\": 555, 'March': 556, 'When': 557, 'inure': 558, 'under': 559, 'at': 560, 'After': 561, 'Tom': 562, 'candidates': 563, 'George': 564, 'wards': 565, 'areas': 566, 'Attorneys': 567, 'petitions': 568, 'endorse': 569, 'title': 570, 'grand': 571, 'receive': 572, '1937': 573, 'Berry': 574, 'telephone': 575, 'traveled': 576, 'word': 577, 'phone': 578, \"court's\": 579, 'Everything': 580, 'calmest': 581, 'result': 582, '29-5': 583, 'incorporated': 584, 'it': 585, 'feel': 586, 'directed': 587, '402': 588, 'so': 589, 'Implementation': 590, 'expense': 591, 'making': 592, 'As': 593, 'added': 594, 'highway': 595, 'welfare': 596, 'Caldwell': 597, 'hold': 598, 'many': 599, 'seen': 600, 'man': 601, 'assistance': 602, '<s>': 603, 'Nevertheless': 604, 'son': 605, 'session': 606, 'traditional': 607, 'likely': 608, 'road': 609, 'policeman': 610, 'There': 611, 'last': 612, 'Texas': 613, 'construction': 614, 'doctor': 615, 'Rob': 616, 'allotted': 617, 'term-end': 618, 'issuance': 619, 'picking': 620, 'since': 621, 'battle': 622, 'permit': 623, 'violence': 624, 'exception': 625, '13': 626, 'influences': 627, 'serve': 628, 'E': 629, 'portion': 630, 'in': 631, 'its': 632, 'employes': 633, 'platform': 634, 'study': 635, 'I': 636, 'Dorsey': 637, 'Ask': 638, 'Williams': 639, 'lacking': 640, 'Marvin': 641, 'Gainesville': 642, 'Roads': 643, 'administration': 644, 'two': 645, 'head': 646, \"Daniel's\": 647, 'Failure': 648, 'ready': 649, 'continue': 650, 'got': 651, 'ordinary': 652, 'granted': 653, 'one': 654, 'voters': 655, 'costs': 656, 'Bellwood': 657, 'crowd': 658, 'resolution': 659, 'the': 660, 'Jackson': 661, 'interlude': 662, 'consulted': 663, 'whether': 664, 'ask': 665, 'off': 666, 'largest': 667, '1923': 668, 'director': 669, 'similar': 670, 'urban': 671, 'past': 672, 'relative': 673, '71': 674, 'sheriff': 675, 'said': 676, 'Many': 677, 'enthusiasm': 678, 'William': 679, 'Gov': 680, 'November': 681, 'do': 682, 'revolving': 683, 'approve': 684, 'as': 685, 'steps': 686, 'divorce': 687, 'precincts': 688, 'Before': 689, 'voting': 690, '8': 691, 'tossed': 692, 'Wednesday': 693, \"wasn't\": 694, 'on': 695, 'equitable': 696, '1913': 697, 'sessions': 698, 'toward': 699, 'night': 700, 'cent': 701, 'widespread': 702, 'taken': 703, 'give': 704, 'superintendent': 705, 'congressmen': 706, 'approval': 707, 'Rd': 708, 'Party': 709, 'legislators': 710, 'year': 711, 'marked': 712, 'consistently': 713, 'Blue': 714, 'presentments': 715, 'They': 716, 'being': 717, 'out': 718, 'Board': 719, 'keeping': 720, 'offered': 721, 'revised': 722, 'says': 723, 'commented': 724, 'party': 725, 'issue': 726, 'procedures': 727, 'item': 728, 'four': 729, 'of': 730, 'urged': 731, '--': 732, 'relations': 733, 'asked': 734, 'Ala': 735, 'manner': 736, 'repair': 737, 'scheduled': 738, 'follow': 739, 'legislation': 740, 'per': 741, 'among': 742, 'homes': 743, 'threats': 744, 'worked': 745, 'James': 746, 'paid': 747, 'post': 748, 'effect': 749, 'efficiency': 750, 'undue': 751, 'courses': 752, 'anonymous': 753, 'yet': 754, 'Department': 755, 'issued': 756, 'outmoded': 757, 'through': 758, 'contracts': 759, 'Mayor': 760, 'armed': 761, 'Tabb': 762, 'P': 763, 'occupation': 764, 'old': 765, 'specifically': 766, 'orderly': 767, \"Commissioner's\": 768, 'quiet': 769, 'modernizing': 770, 'disable': 771, 'they': 772, 'Republicans': 773, 'Bowden': 774, 'near': 775, 'offices': 776, 'obtain': 777, 'outgoing': 778, 'well': 779, 'Harry': 780, 'none': 781, 'approved': 782, 'clerical': 783, 'ballot': 784, 'act': 785, 'what': 786, 'Barber': 787, 'problem': 788, \"Caldwell's\": 789, 'general': 790, 'hot': 791, 'Pye': 792, 'Five': 793, 'juries': 794, 'child': 795, 'takes': 796, 'day': 797, 'ambiguous': 798, '637': 799, 'Schley': 800, 'these': 801, 'featured': 802, 'Wards': 803, 'Jail': 804, 'burden': 805, 'liquor': 806, '18': 807, 'is': 808, 'feared': 809, 'both': 810, 'million': 811, 'opposed': 812, 'Aug': 813, 'medical': 814, 'brought': 815, 'to': 816, 'court': 817, 'matters': 818, '$3': 819, 'ones': 820, 'strong': 821, 'public': 822, 'him': 823, 'prices': 824, 'Jury': 825, 'policies': 826, 'goes': 827, 'getting': 828, 'elected': 829, 'Ridge': 830, 'governor': 831, 'eliminate': 832, 'defeated': 833, 'were': 834, 'did': 835, 'home': 836, 'despite': 837, 'House': 838, 'done': 839, 'provided': 840, 'Democratic': 841, 'upon': 842, 'Atlanta': 843, 'became': 844, 'investigate': 845, 'he': 846, 'achieve': 847, 'wind': 848, 'Jan': 849, 'agreed': 850, '87-31': 851, 'reasonable': 852, 'bankers': 853, 'notice': 854, 'pay': 855, 'investigation': 856, 'money': 857, 'when': 858}\n",
      "rendering M based on wv\n",
      "rendering M based on unique_tokens\n"
     ]
    }
   ],
   "source": [
    "# Do not edit\n",
    "import gensim.downloader as api\n",
    "import numpy as np\n",
    "wv_from_bin = api.load(\"glove-wiki-gigaword-200\")\n",
    "print(\"Loaded vocab size %i\" % len(list(wv_from_bin.index_to_key)))\n",
    "\n",
    "wv_words = list(wv_from_bin.index_to_key)\n",
    "# unique_tokens = set(tokens)\n",
    "all_tokens = [word for sentence in tokens for word in sentence]\n",
    "unique_tokens = set(all_tokens)\n",
    "M = []\n",
    "idx = 0\n",
    "word2ind = {} \n",
    "word2index = {word: idx for idx, word in enumerate(unique_tokens)}\n",
    "print(\"data type of unique_tokens:\", type(unique_tokens))\n",
    "print(\"data type of word_to_index:\", type(word2index))\n",
    "print(\"length of unique_tokens:\", len(unique_tokens))\n",
    "print(\"length of word_to_index:\", len(word2index))\n",
    "print(\"word_to_index:\", word2index)\n",
    "print('rendering M based on wv')\n",
    "for w in wv_words:\n",
    "    try:\n",
    "        M.append(wv_from_bin.get_vector(w))\n",
    "        word2ind[w] = idx\n",
    "        idx += 1\n",
    "    except:\n",
    "        pass\n",
    "\n",
    "print('rendering M based on unique_tokens')\n",
    "for w in unique_tokens:\n",
    "    if w in wv_words:\n",
    "        continue\n",
    "    try:\n",
    "        M.append(wv_from_bin.get_vector(w))\n",
    "        word2ind[w] = idx\n",
    "        idx += 1\n",
    "    except:\n",
    "        pass\n",
    "M = np.stack(M)\n",
    "M_reduced = reduce_to_k_dim(M, k=2)\n",
    "\n",
    "M_lengths = np.linalg.norm(M_reduced, axis=1)\n",
    "M_reduced_normalized = M_reduced / M_lengths[:, np.newaxis]"
   ]
  },
  {
   "cell_type": "markdown",
   "metadata": {},
   "source": [
    "### Compare plots\n",
    "What stands out when comparing the two different ways of embedding using the given words?\n",
    "\n",
    "(Use this to help answer the question in your assignment document)."
   ]
  },
  {
   "cell_type": "code",
   "execution_count": 37,
   "metadata": {},
   "outputs": [
    {
     "name": "stdout",
     "output_type": "stream",
     "text": [
      "plot embeddings fn type of word to index: <class 'dict'>\n",
      "plot embeddings fn length of word_to_index: 400000\n"
     ]
    },
    {
     "data": {
      "image/png": "[encoded data removed]",
      "text/plain": [
       "<Figure size 1500x1500 with 1 Axes>"
      ]
     },
     "metadata": {},
     "output_type": "display_data"
    }
   ],
   "source": [
    "# plot_embeddings(M_reduced_normalized, tokens)\n",
    "words = [\"city\", \"election\", \"court\", \"jury\", \"department\", \"legislature\", \"county\", \"police\", \"funds\", \"tax\", \"state\", \"candidate\", \"education\", \"governor\", \"hospital\"]\n",
    "# plot_embeddings(M_reduced, word2ind, unique_tokens)\n",
    "plot_embeddings(M_reduced_normalized, word2ind, words)\n",
    "plt.savefig('./results/word_embeddings_glove_selected_words.png')"
   ]
  },
  {
   "cell_type": "markdown",
   "metadata": {},
   "source": [
    "### Words with multiple meanings\n",
    "Polysemes and homonyms are words that have more than one meaning (see [this wiki page](https://en.wikipedia.org/wiki/Polysemy) to learn more about the difference between polysemes and homonyms). Your task is to find a word with at least two different meanings such that the top-10 most similar words (according to cosine similarity) contain related words from both meanings.\n",
    "\n",
    "For example:\n",
    "- \"leaves\" has both the \"go_away\" and \"a_structure_of_a_plant\" meanings in the top 10.\n",
    "- \"scoop\" has both \"handed_waffle_cone\" and \"lowdown\" meanings in the top 10.\n",
    "\n",
    "You will probably need to try several polysemous or homonymic words before you find one.\n",
    "\n",
    "Once you discover a word that fits this criterion, state the word and explain the multiple meanings that occur in the top 10. Reflect on why many of the polysemous or homonymic words you tried didn’t work (i.e., why the top-10 most similar words only contain one of the word's meanings).\n",
    "\n",
    "**Note**: Use the `wv_from_bin.most_similar(word)` function to get the top 10 most similar words. This function ranks all other words in the vocabulary based on their cosine similarity to the given word. For further assistance, you can refer to the [Gensim documentation](https://radimrehurek.com/gensim/models/keyedvectors.html)."
   ]
  },
  {
   "cell_type": "code",
   "execution_count": 35,
   "metadata": {},
   "outputs": [
    {
     "name": "stdout",
     "output_type": "stream",
     "text": [
      "Most similar words to 'leave':\n",
      "[('stay', 0.8190094232559204), ('leaving', 0.8084294199943542), ('go', 0.7560036778450012), ('take', 0.7494378685951233), ('return', 0.7350342869758606), ('come', 0.7288329005241394), ('wait', 0.718921422958374), ('would', 0.712296724319458), ('rest', 0.7114236354827881), ('if', 0.7100387215614319)]\n",
      "Cosine similarity between 'leave' and 'state': 0.3924934\n",
      "Distance between 'leave' and 'state': 0.6075066030025482\n"
     ]
    }
   ],
   "source": [
    "## Your code here\n",
    "wv_from_bin = api.load(\"glove-wiki-gigaword-200\")\n",
    "most_similar_ = wv_from_bin.most_similar('leave', topn=10)\n",
    "print(\"Most similar words to 'leave':\")\n",
    "print(most_similar_)\n",
    "\n",
    "cosine_similarity = wv_from_bin.similarity('leave', 'state')\n",
    "print(\"Cosine similarity between 'leave' and 'state':\", cosine_similarity)\n",
    "distance = wv_from_bin.distance('leave', 'state')\n",
    "print(\"Distance between 'leave' and 'state':\", distance)"
   ]
  },
  {
   "cell_type": "markdown",
   "metadata": {},
   "source": [
    "### Synonyms\n",
    "When considering **Cosine Similarity**, it's often useful to think of **Cosine Distance**, which is simply 1 - Cosine Similarity.\n",
    "\n",
    "Find three words \\( (w_1, w_2, w_3) \\) where:\n",
    "- \\(w_1\\) and \\(w_2\\) are **synonyms**.\n",
    "- \\(w_1\\) and \\(w_3\\) are **antonyms**.\n",
    "\n",
    "However, you need to find a case where **Cosine Distance** \\( (w_1, w_3) < \\text{Cosine Distance} (w_1, w_2) \\). In other words, the antonym is **closer** to the word than its synonym in the vector space.\n",
    "\n",
    "For example, \"happy\" (\\(w_1\\)) may be closer to \"sad\" (\\(w_3\\)) than to \"cheerful\" (\\(w_2\\)), which is counter-intuitive since we expect synonyms to be closer than antonyms. \n",
    "\n",
    "Once you find such an example, provide a possible explanation for why this result may have occurred.\n",
    "\n",
    "Use the `wv_from_bin.distance(w1, w2)` function to compute the cosine distance between two words. You can refer to the [Gensim documentation](https://radimrehurek.com/gensim/models/keyedvectors.html) for further assistance.\n",
    "\n",
    "\n",
    "\n",
    "\n",
    "\n"
   ]
  },
  {
   "cell_type": "code",
   "execution_count": null,
   "metadata": {},
   "outputs": [],
   "source": [
    "## Your code here"
   ]
  },
  {
   "cell_type": "markdown",
   "metadata": {},
   "source": [
    "### Analogies\n",
    "Word vectors have demonstrated the ability to solve analogies based on their learned semantic relationships. For instance, consider the analogy: \n",
    "\n",
    "**\"man : grandfather :: woman : x\"** \n",
    "\n",
    "(Read: man is to grandfather as woman is to x). Using word vectors, we can find the word \\(x\\) that completes the analogy.\n",
    "\n",
    "In the example provided, we use the `most_similar` function from the Gensim library. This function identifies words that are most similar to the words in the positive list and most dissimilar to those in the negative list. For analogy solving, it effectively computes:\n",
    "\n",
    "\\[ \\text{word}(x) = \\text{most similar to} (\\text{woman} + \\text{grandfather} - \\text{man}) \\]\n",
    "\n",
    "The result is the word with the highest cosine similarity to the target vector. You can use this approach to explore various analogies and gain insights into the semantic structure of word vectors.\n",
    "\n",
    "Refer to the [Gensim documentation](https://radimrehurek.com/gensim/models/keyedvectors.html) for more details on the `most_similar` function and how word vectors handle analogy-solving tasks."
   ]
  },
  {
   "cell_type": "code",
   "execution_count": null,
   "metadata": {},
   "outputs": [
    {
     "name": "stdout",
     "output_type": "stream",
     "text": [
      "[('grandmother', 0.7608445286750793), ('granddaughter', 0.7200808525085449), ('daughter', 0.7168302536010742), ('mother', 0.7151536345481873), ('niece', 0.7005682587623596), ('father', 0.6659887433052063), ('aunt', 0.6623408794403076), ('grandson', 0.6618767976760864), ('grandparents', 0.644661009311676), ('wife', 0.6445354223251343)]\n"
     ]
    }
   ],
   "source": [
    "# Run this cell to answer the analogy -- man : grandfather :: woman : x\n",
    "print(wv_from_bin.most_similar(positive=['woman', 'grandfather'], negative=['man']))"
   ]
  },
  {
   "cell_type": "markdown",
   "metadata": {},
   "source": [
    "### Bias in word vectors\n",
    "a. **Observation**: Consider the results of a word vector model when queried with analogies involving \"man\", \"woman\", and \"profession\". What are the top results returned by the model for each query?\n",
    "\n",
    "[Your Answer]\n",
    "\n",
    "b. **Analysis**: Do you observe any gender biases in the results? For example, are certain professions more closely associated with \"man\" or \"woman\" based on the word vectors? Discuss how word embeddings might perpetuate societal biases present in the training data.\n",
    "\n",
    "[Your Answer]\n",
    "\n",
    "c. **Reflection**: How might such biases affect the fairness of machine learning models that use word embeddings? Suggest potential strategies for mitigating gender bias in word vector models.\n",
    "\n",
    "[Your Answer]"
   ]
  },
  {
   "cell_type": "code",
   "execution_count": 33,
   "metadata": {},
   "outputs": [
    {
     "name": "stdout",
     "output_type": "stream",
     "text": [
      "[('reputation', 0.5250176787376404), ('professions', 0.5178037881851196), ('skill', 0.49046966433525085), ('skills', 0.49005505442619324), ('ethic', 0.4897659420967102), ('business', 0.487585186958313), ('respected', 0.4859202802181244), ('practice', 0.482104629278183), ('regarded', 0.4778572916984558), ('life', 0.4760662019252777)]\n",
      "\n",
      "[('professions', 0.5957457423210144), ('practitioner', 0.4988412857055664), ('teaching', 0.48292139172554016), ('nursing', 0.48211804032325745), ('vocation', 0.4788965880870819), ('teacher', 0.47160351276397705), ('practicing', 0.46937811374664307), ('educator', 0.46524322032928467), ('physicians', 0.46289944648742676), ('professionals', 0.4601393938064575)]\n"
     ]
    }
   ],
   "source": [
    "print(wv_from_bin.most_similar(positive=['man', 'profession'], negative=['woman']))\n",
    "print()\n",
    "print(wv_from_bin.most_similar(positive=['woman', 'profession'], negative=['man']))"
   ]
  },
  {
   "cell_type": "code",
   "execution_count": null,
   "metadata": {},
   "outputs": [],
   "source": []
  }
 ],
 "metadata": {
  "kernelspec": {
   "display_name": "nlp",
   "language": "python",
   "name": "python3"
  },
  "language_info": {
   "codemirror_mode": {
    "name": "ipython",
    "version": 3
   },
   "file_extension": ".py",
   "mimetype": "text/x-python",
   "name": "python",
   "nbconvert_exporter": "python",
   "pygments_lexer": "ipython3",
   "version": "3.10.16"
  }
 },
 "nbformat": 4,
 "nbformat_minor": 2
}
