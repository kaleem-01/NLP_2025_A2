{
 "cells": [
  {
   "cell_type": "code",
   "execution_count": 2,
   "metadata": {},
   "outputs": [],
   "source": [
    "import os\n",
    "import numpy as np\n",
    "import matplotlib.pyplot as plt\n",
    "\n",
    "os.makedirs('./results', exist_ok=True)\n",
    "\n",
    "with open('./brown_100.txt', 'r') as file_:\n",
    "    corpus = file_.read()\n",
    "\n",
    "def write_freqs(list_: list, filename: str) -> None:\n",
    "    with open(f'./results/{filename}.txt', 'w') as file_:\n",
    "        file_.write('\\n'.join([' '.join(x[0]) + ' | ' + str(x[1]) for x in list_]))"
   ]
  },
  {
   "cell_type": "markdown",
   "metadata": {},
   "source": [
    "## N-Gram Language Modeling\n",
    "In the second assignment, you will implement an **n-gram language model** that processes input text to generate, analyze, and calculate the probabilities of sequences of `n` words (n-grams). This model will tokenize text, create n-grams, and compute their frequencies and probabilities, returning the most frequent n-grams in the text.\n",
    "\n",
    "1. **Tokenization**: Convert the input text into a list of words (tokens).\n",
    "2. **N-gram Generation**: Create sequences of `n` tokens from the text, treating each sentence independently with the inclusion of start (`<s>`) and end (`</s>`) markers.\n",
    "3. **Frequency Counting**: Count how many times each n-gram appears in the text.\n",
    "4. **Probability Calculation**: Compute the probabilities of each n-gram based on its frequency and add alpha smoothing to improve generalization of items.\n",
    "5. **Most Frequent N-grams**: Return the most frequent n-grams along with their probabilities, helping to identify common patterns in the text."
   ]
  },
  {
   "cell_type": "code",
   "execution_count": 3,
   "metadata": {},
   "outputs": [
    {
     "name": "stdout",
     "output_type": "stream",
     "text": [
      "[(('<s>', 'This'), 0.07142857142857142), (('This', 'is'), 0.07142857142857142), (('is', 'a'), 0.07142857142857142), (('a', 'simple'), 0.07142857142857142), (('simple', 'example'), 0.07142857142857142), (('example', 'to'), 0.07142857142857142), (('to', 'demonstrate'), 0.07142857142857142), (('demonstrate', 'how'), 0.07142857142857142), (('how', 'n-grams'), 0.07142857142857142), (('n-grams', 'work'), 0.07142857142857142)]\n"
     ]
    }
   ],
   "source": [
    "from collections import Counter, defaultdict # You may import more from collections if needed\n",
    "import re\n",
    "\n",
    "\n",
    "class NGramModel:\n",
    "    def __init__(self, text, n, alpha=0.0):\n",
    "        \"\"\"\n",
    "        Initialize the NGramModel with text and the value of n.\n",
    "        \"\"\"\n",
    "        self.text = text\n",
    "        self.n = n\n",
    "        self.alpha = alpha  # Alpha value for additive smoothing\n",
    "        self.n_grams_list = []  # List to store n-grams\n",
    "        self.ngrams = defaultdict(int)  # Dictionary to store n-gram frequencies\n",
    "        self.total_count = 0  # Total count of n-grams\n",
    "        self.probabilities = {}\n",
    "        self.vocab = set()\n",
    "\n",
    "    def tokenize(self) -> None:\n",
    "        \"\"\"\n",
    "        Tokenize the text into words. \n",
    "        Fill in the code to split the text into a list of words.\n",
    "        \"\"\"\n",
    "        # Add start and end tokens -> if the text doesn't have them already as  the corpus has them but the example text doesn't\n",
    "        if not self.text.startswith('<s>'):\n",
    "            self.text = '<s> ' + self.text\n",
    "        if not self.text.endswith('</s>'):\n",
    "            self.text = self.text + ' </s>'\n",
    "            \n",
    "        # Replace <s> and </s> to avoid confusion with the regex\n",
    "        self.text = self.text.replace('<s>', ' __START__ ').replace('</s>', ' __END__ ')\n",
    "\n",
    "        # cleaning the text by replacing unwanted characters and punctuation\n",
    "        self.text = self.text.replace(\"''\", \"\").replace(\"``\", \"\").replace(\"`\", \"\")\n",
    "        self.text = self.text.replace(\"’\", \"'\").replace(\"‘\", \"'\").replace(\"“\", '\"').replace(\"”\", '\"') \n",
    "        self.text = re.sub(r'--+', ' ', self.text)  \n",
    "        self.text = re.sub(r\"[^\\w\\s'-]\", '', self.text) \n",
    "\n",
    "        # Restore <s> and </s> as tokens after cleaning for consistency in tokenization\n",
    "        self.text = self.text.replace('__START__', '<s>').replace('__END__', '</s>')\n",
    "            \n",
    "        tokens = self.text.split()\n",
    "        self.vocab.update(tokens)  # Update vocabulary with tokens\n",
    "\n",
    "        return tokens\n",
    "\n",
    "    def generate_ngrams(self, tokens: list) -> dict:\n",
    "        \"\"\"\n",
    "        Generate n-grams from the list of .\n",
    "        Fill in the code to create n-grams.\n",
    "        Make sure to treat each sentence independently, include the <s> and </s> tokens.\n",
    "        \"\"\"\n",
    "        \"\"\"Added the frequency count of n-grams directly to the ngrams dictionary\"\"\"\n",
    "        self.n_grams_list = [tuple(tokens[i:i+n]) for i in range(len(tokens) - n + 1)]\n",
    "        # Count n-gram frequencies directly\n",
    "        self.ngrams = Counter(self.n_grams_list)\n",
    "         # Create dictionary to count each n-gram\n",
    "        for gram in self.n_grams_list:\n",
    "            # Update vocabulary with n-grams\n",
    "            self.vocab.update(gram)\n",
    "\n",
    "        # Update the total count of n-grams\n",
    "        self.total_count = sum(self.ngrams.values())\n",
    "\n",
    "        return self.ngrams\n",
    "\n",
    "    def calculate_probabilities(self) -> None:\n",
    "        \"\"\"\n",
    "        Calculate probabilities of each n-gram based on its frequency. Add alpha smoothing separately.\n",
    "        \"\"\"\n",
    "        if not self.ngrams:\n",
    "            raise ValueError(\"Frequency of N-grams is not yet calculated.\")\n",
    "\n",
    "        V = len(self.vocab)  # Vocabulary size (for unigrams, you should also build vocab earlier)\n",
    "        for ngram, count in self.ngrams.items():\n",
    "            # Calculate the probability with and without laplace smoothing\n",
    "            self.probabilities[ngram] = (count + self.alpha) / (self.total_count + self.alpha * V)\n",
    "        return self.probabilities\n",
    "\n",
    "    def most_frequent_ngrams(self, top_n: int = 10) -> list:\n",
    "        \"\"\"\n",
    "        Return the most frequent n-grams and their probabilities.\n",
    "        \"\"\"\n",
    "        # to raise error if the n-grams are not calculated\n",
    "        if not self.ngrams:\n",
    "            raise ValueError(\" Frequency of N-grams is not yet calculated.\")\n",
    "        # Sort the n-grams by frequency and get the top n\n",
    "        most_frequent_ngrams = sorted(self.ngrams.items(), key=lambda x: x[1], reverse=True)[:top_n]\n",
    "        \n",
    "        return [(ngram, self.probabilities[ngram]) for ngram, _ in most_frequent_ngrams]\n",
    "\n",
    "# Testing the model with an example\n",
    "text = \" This is a simple example to demonstrate how n-grams work in this assignment.\" #Faster than running the full corpus\n",
    "n = 2 # You can change this to 1, 2, or 3 for uni, bi, or trigrams\n",
    "model = NGramModel(text, n)\n",
    "\n",
    "tokens = model.tokenize()\n",
    "ngrams = model.generate_ngrams(tokens)\n",
    "model.calculate_probabilities()\n",
    "\n",
    "# Print the most frequent n-grams\n",
    "print(model.most_frequent_ngrams(10))\n"
   ]
  },
  {
   "cell_type": "markdown",
   "metadata": {},
   "source": [
    "### Unigrams\n",
    "\n",
    "In this section, we apply the `NGramModel` to our corpus. The model can be configured to generate unigrams, bigrams, or trigrams by adjusting the value of `n`. After tokenizing the text and generating the n-grams, the model counts the occurrences of each n-gram and calculates their probabilities. The most frequent n-grams are then written to an output file.\n",
    "\n",
    "By adjusting the n-gram size, we can analyze different levels of word dependencies in the text, providing insights into common word sequences and patterns.  \n",
    "\n",
    "The code below will generate unigrams when the NGramModel is implemented correctly"
   ]
  },
  {
   "cell_type": "code",
   "execution_count": 25,
   "metadata": {},
   "outputs": [
    {
     "name": "stdout",
     "output_type": "stream",
     "text": [
      "Most frequent unigrams: [(('the',), 0.0579185520361991), (('</s>',), 0.045701357466063346), (('<s>',), 0.04524886877828054), (('of',), 0.030316742081447964), (('to',), 0.024886877828054297), (('a',), 0.02262443438914027), (('and',), 0.01809954751131222), (('in',), 0.01764705882352941), (('The',), 0.012669683257918552), (('that',), 0.012669683257918552)]\n"
     ]
    }
   ],
   "source": [
    "n = 1  # You can change this to 1, 2, or 3 for uni, bi, or trigrams\n",
    "model = NGramModel(corpus, n)\n",
    "\n",
    "tokens = model.tokenize()\n",
    "ngrams = model.generate_ngrams(tokens)\n",
    "model.calculate_probabilities()\n",
    "\n",
    "write_freqs(model.most_frequent_ngrams(10), 'unigrams')\n",
    "print(\"Most frequent unigrams:\", model.most_frequent_ngrams(10))"
   ]
  },
  {
   "cell_type": "markdown",
   "metadata": {},
   "source": [
    "### Bigrams\n",
    "Bigrams allow us to explore word pairs and their relationships, providing insight into common word combinations and phrase structures within the corpus.  \n",
    "The code below will generate bigrams when the NGramModel is implemented correctly."
   ]
  },
  {
   "cell_type": "code",
   "execution_count": 26,
   "metadata": {},
   "outputs": [
    {
     "name": "stdout",
     "output_type": "stream",
     "text": [
      "Most frequent bigrams: [(('</s>', '<s>'), 0.04481665912177456), (('<s>', 'The'), 0.012222725215029425), (('in', 'the'), 0.006790402897238569), (('of', 'the'), 0.006337709370755998), (('the', 'jury'), 0.003168854685377999), (('jury', 'said'), 0.003168854685377999), (('Fulton', 'County'), 0.002716161158895428), (('The', 'jury'), 0.002716161158895428), (('the', 'election'), 0.002716161158895428), (('<s>', 'It'), 0.002716161158895428)]\n"
     ]
    }
   ],
   "source": [
    "n = 2  # You can change this to 1, 2, or 3 for uni, bi, or trigrams\n",
    "model = NGramModel(corpus, n)\n",
    "\n",
    "tokens = model.tokenize()\n",
    "ngrams = model.generate_ngrams(tokens)\n",
    "model.calculate_probabilities()\n",
    "\n",
    "write_freqs(model.most_frequent_ngrams(10), 'bigrams')\n",
    "print(\"Most frequent bigrams:\", model.most_frequent_ngrams(10))"
   ]
  },
  {
   "cell_type": "markdown",
   "metadata": {},
   "source": [
    "### Trigrams\n",
    "Trigrams capture three-word sequences, providing a deeper understanding of longer word dependencies and commonly occurring phrases within the text.  \n",
    "The code below will generate trigrams when the NGramModel is implemented correctly"
   ]
  },
  {
   "cell_type": "code",
   "execution_count": 27,
   "metadata": {},
   "outputs": [
    {
     "name": "stdout",
     "output_type": "stream",
     "text": [
      "Most frequent trigrams: [(('</s>', '<s>', 'The'), 0.01177536231884058), (('<s>', 'The', 'jury'), 0.002717391304347826), (('</s>', '<s>', 'It'), 0.002717391304347826), (('the', 'jury', 'said'), 0.0022644927536231885), (('said', '</s>', '<s>'), 0.0018115942028985507), (('</s>', '<s>', 'A'), 0.0018115942028985507), (('jury', 'said', 'it'), 0.001358695652173913), (('1', '</s>', '<s>'), 0.001358695652173913), (('to', 'make', 'the'), 0.001358695652173913), (('is', 'expected', 'to'), 0.001358695652173913)]\n"
     ]
    }
   ],
   "source": [
    "n = 3  # You can change this to 1, 2, or 3 for uni, bi, or trigrams\n",
    "model = NGramModel(corpus, n)\n",
    "\n",
    "tokens = model.tokenize()\n",
    "ngrams = model.generate_ngrams(tokens)\n",
    "model.calculate_probabilities()\n",
    "\n",
    "write_freqs(model.most_frequent_ngrams(10), 'trigrams')\n",
    "print(\"Most frequent trigrams:\", model.most_frequent_ngrams(10))"
   ]
  },
  {
   "cell_type": "markdown",
   "metadata": {},
   "source": [
    "### Smoothing\n",
    "Below, we generate **bigrams** with **smoothing** applied by setting `n = 2` and including a smoothing parameter `alpha = 1.0`. Smoothing is useful in language models to handle unseen n-grams by assigning a small probability to them. The model tokenizes the text, generates bigrams, counts their frequencies, and calculates smoothed probabilities. The most frequent bigrams are then written to an output file.\n",
    "\n",
    "\n",
    "\n"
   ]
  },
  {
   "cell_type": "code",
   "execution_count": null,
   "metadata": {},
   "outputs": [],
   "source": [
    "n = 2  # You can change this to 1, 2, or 3 for uni, bi, or trigrams\n",
    "model = NGramModel(corpus, n, alpha=1.0)\n",
    "\n",
    "tokens = model.tokenize()\n",
    "ngrams = model.generate_ngrams(tokens)\n",
    "model.calculate_probabilities()\n",
    "\n",
    "write_freqs(model.most_frequent_ngrams(10), 'bigrams_smoothed_1_alpha')"
   ]
  },
  {
   "cell_type": "code",
   "execution_count": null,
   "metadata": {},
   "outputs": [],
   "source": [
    "n = 2  # You can change this to 1, 2, or 3 for uni, bi, or trigrams\n",
    "model = NGramModel(corpus, n, alpha=0.5)\n",
    "\n",
    "tokens = model.tokenize()\n",
    "ngrams = model.generate_ngrams(tokens)\n",
    "model.calculate_probabilities()\n",
    "\n",
    "write_freqs(model.most_frequent_ngrams(10), 'bigrams_smoothed_0.5_alpha')"
   ]
  },
  {
   "cell_type": "code",
   "execution_count": null,
   "metadata": {},
   "outputs": [],
   "source": [
    "n = 2  # You can change this to 1, 2, or 3 for uni, bi, or trigrams\n",
    "model = NGramModel(corpus, n, alpha=2)\n",
    "\n",
    "tokens = model.tokenize()\n",
    "ngrams = model.generate_ngrams(tokens)\n",
    "model.calculate_probabilities()\n",
    "\n",
    "write_freqs(model.most_frequent_ngrams(10), 'bigrams_smoothed_2_alpha')"
   ]
  },
  {
   "cell_type": "code",
   "execution_count": 4,
   "metadata": {},
   "outputs": [
    {
     "data": {
      "image/png": "[encoded data removed]",
      "text/plain": [
       "<Figure size 1600x800 with 1 Axes>"
      ]
     },
     "metadata": {},
     "output_type": "display_data"
    }
   ],
   "source": [
    "# Plotting the most frequent n-grams with different alpha values for comparison \n",
    "import matplotlib.pyplot as plt\n",
    "\n",
    "def load_bigrams(file_path):\n",
    "    bigram_probs = {}\n",
    "    with open(file_path, 'r') as f:\n",
    "        for line in f:\n",
    "            if '|' not in line:\n",
    "                continue\n",
    "            phrase, prob_str = line.strip().split('|')\n",
    "            bigram = tuple(phrase.strip().split())\n",
    "            try:\n",
    "                prob = float(prob_str.strip())\n",
    "                bigram_probs[bigram] = prob\n",
    "            except ValueError:\n",
    "                continue\n",
    "    return bigram_probs\n",
    "\n",
    "\n",
    "# Load files\n",
    "files = {\n",
    "    \"No Smoothing\": \"results/bigrams.txt\",\n",
    "    \"Alpha = 0.5\": \"results/bigrams_smoothed_0.5_alpha.txt\",\n",
    "    \"Alpha = 1.0\": \"results/bigrams_smoothed_1_alpha.txt\",\n",
    "    \"Alpha = 2.0\": \"results/bigrams_smoothed_2_alpha.txt\"\n",
    "}\n",
    "\n",
    "# Load all bigram dictionaries\n",
    "all_data = {label: load_bigrams(path) for label, path in files.items()}\n",
    "\n",
    "# Get top 10 bigrams from the \"No Smoothing\" version\n",
    "base_top_bigrams = sorted(all_data[\"No Smoothing\"].items(), key=lambda x: x[1], reverse=True)[:10]\n",
    "top_bigrams = [bg for bg, _ in base_top_bigrams]\n",
    "\n",
    "# Prepare data for plotting\n",
    "labels = [' '.join(b) for b in top_bigrams]\n",
    "x = np.arange(len(labels))  # label positions\n",
    "width = 0.2  # width of each bar\n",
    "\n",
    "# Create plot\n",
    "plt.figure(figsize=(16, 8))\n",
    "\n",
    "colors = ['tab:blue', 'tab:green', 'tab:orange', 'tab:red']\n",
    "for idx, (label, data) in enumerate(all_data.items()):\n",
    "    probs = [data.get(bg, 0) for bg in top_bigrams]\n",
    "    plt.bar(x + idx * width, probs, width, label=label, color=colors[idx])\n",
    "\n",
    "# Final touches\n",
    "plt.xticks(x + width * 1.5, labels, rotation=45, ha='right')\n",
    "plt.ylabel('Probability')\n",
    "plt.title('Top 10 Bigram Probabilities Across Smoothing Levels')\n",
    "plt.legend()\n",
    "plt.tight_layout()\n",
    "# Save the plot\n",
    "plt.savefig('./results/top_10_bigrams_probabilities.png')\n",
    "plt.show()\n",
    "\n"
   ]
  },
  {
   "cell_type": "markdown",
   "metadata": {},
   "source": [
    "### Generating Text\n",
    "In this example, we generate text using the **bigrams** model by providing a starting **prompt** (e.g., \"the jury\"). The `generate_text` function creates a sequence of words based on the trained bigram model, starting from the provided prompt and continuing based on the probabilities of the next words.\n",
    "\n",
    "After tokenizing the corpus, generating bigrams, and calculating their frequencies and probabilities, the model uses these learned probabilities to generate text. The generated output is then written to a file.\n",
    "\n",
    "Text generation with n-grams helps illustrate how language models can predict word sequences, allowing us to create new sentences that follow similar patterns found in the original text."
   ]
  },
  {
   "cell_type": "code",
   "execution_count": 31,
   "metadata": {},
   "outputs": [],
   "source": [
    "import random \n",
    "def generate_text(model: NGramModel, n: int, prompt: str, max_tokens: int =15) -> str:\n",
    "    # Generate text based on the n-gram model and a given prompt.\n",
    "    if n != model.n:\n",
    "        raise ValueError(f\"Model is built for n={model.n}, but n={n} was provided.\")\n",
    "    if not prompt:\n",
    "        raise ValueError(\"Prompt is empty. Please provide a valid prompt.\")\n",
    "    generated_tokens = prompt.split()\n",
    "    if len(generated_tokens) < n - 1:\n",
    "        raise ValueError(f\"Prompt must have at least {n - 1} tokens for an n-gram model with n={n}\")\n",
    "    for i in range(max_tokens):\n",
    "        # Get the last n-1 tokens to form the context for prediction\n",
    "        prev_tokens = tuple(generated_tokens[-(n - 1):])\n",
    "        \n",
    "        # Get the probabilities of the next token given the previous n-1 tokens\n",
    "        next_token_probs = {\n",
    "            ngram: prob for ngram, prob in model.probabilities.items()\n",
    "            if ngram[:-1] == prev_tokens\n",
    "        }\n",
    "\n",
    "        if not next_token_probs:\n",
    "            break\n",
    "\n",
    "        candidates = list(next_token_probs.keys())# List of n-gram tuples\n",
    "        weights = list(next_token_probs.values()) # Corresponding probabilities\n",
    "\n",
    "        next_ngram = random.choices(candidates, weights=weights, k=1)[0]# k refers to the number of words to be selected from the candidates list\n",
    "        next_token = next_ngram[-1]  # Extract the predicted tokens\n",
    "\n",
    "        if next_token == '</s>':\n",
    "            break\n",
    "        generated_tokens.append(next_token)\n",
    "    \n",
    "    return ' '.join(generated_tokens)\n",
    "   \n",
    "tokens = model.tokenize()\n",
    "ngrams = model.generate_ngrams(tokens)\n",
    "model.count_frequencies()\n",
    "model.calculate_probabilities()\n",
    "generated_text = generate_text(model, 2, 'the jury')\n",
    "with open(f'./results/generated_bigrams.txt', 'w') as file_:\n",
    "    file_.write(generated_text)"
   ]
  },
  {
   "cell_type": "markdown",
   "metadata": {},
   "source": [
    "### Perplexity:"
   ]
  },
  {
   "cell_type": "code",
   "execution_count": 5,
   "metadata": {},
   "outputs": [
    {
     "name": "stdout",
     "output_type": "stream",
     "text": [
      "Perplexity on test_text_1: 2445.8108875596567\n",
      "Perplexity on test_text_2: 3065.000000000001\n",
      "Perplexity on test_text_3: 1936.1853744928271\n"
     ]
    }
   ],
   "source": [
    "def calculate_perplexity(model: NGramModel, test_text: str) -> float:\n",
    "    \"\"\"\n",
    "    Calculate perplexity of the model on an unseen test text.\n",
    "    \"\"\"\n",
    "    # Tokenize the test text\n",
    "    test_model = NGramModel(test_text, model.n, model.alpha)\n",
    "    tokens = test_model.tokenize()\n",
    "\n",
    "    log_prob_sum = 0.0\n",
    "    count = 0\n",
    "    for i in range(len(tokens) - model.n + 1):\n",
    "        ngram = tuple(tokens[i:i + model.n])\n",
    "        prob = model.probabilities.get(\n",
    "            ngram,\n",
    "            model.alpha / (model.total_count + model.alpha * len(model.vocab))  # Smoothing for unseen n-grams\n",
    "        )\n",
    "        log_prob_sum += np.log(prob)\n",
    "        count += 1\n",
    "\n",
    "    perplexity = np.exp(-log_prob_sum / count)\n",
    "    return perplexity\n",
    "\n",
    "# Train model on some corpus text\n",
    "train_model = NGramModel(corpus, n=2, alpha=1.0)\n",
    "train_model.tokenize()\n",
    "train_model.generate_ngrams(train_model.tokenize())\n",
    "train_model.calculate_probabilities()\n",
    "\n",
    "# Evaluate on unseen sentences\n",
    "test_text_1 = \"we use this function to check the perplexity of the model.\"\n",
    "test_text_2 = \"romance is the genre of relationships \"\n",
    "test_text_3 = \" The jury indicated that these actions serves to protect the public interest.\"\n",
    "\n",
    "perplexity_1 = calculate_perplexity(train_model, test_text_1)\n",
    "perplexity_2 = calculate_perplexity(train_model, test_text_2)\n",
    "perplexity_3 = calculate_perplexity(train_model, test_text_3)\n",
    "\n",
    "print(f\"Perplexity on test_text_1: {perplexity_1}\")\n",
    "print(f\"Perplexity on test_text_2: {perplexity_2}\")\n",
    "print(f\"Perplexity on test_text_3: {perplexity_3}\")\n"
   ]
  },
  {
   "cell_type": "markdown",
   "metadata": {},
   "source": [
    "## Word Vectors\n",
    "Based on the Stanford course: https://web.stanford.edu/class/cs224n/"
   ]
  },
  {
   "cell_type": "markdown",
   "metadata": {},
   "source": [
    "### Count based W2V\n",
    "In this section, we use the previously trained **n-gram model** to calculate a **co-occurrence matrix**. A co-occurrence matrix shows how often words appear together within a specific context (in this case, bigrams), providing insights into word relationships in the corpus.\n",
    "\n",
    "Steps:\n",
    "1. **Tokenization and N-gram Generation**: We first tokenize the text and generate bigrams using the `NGramModel`.\n",
    "2. **Vocabulary and Indexing**: The vocabulary is created from the unique tokens, and a word-to-index mapping is established.\n",
    "3. **Co-occurrence Matrix**: Using the generated n-grams, we compute the co-occurrence matrix, where each entry represents how often two words occur together within the bigrams.\n",
    "\n",
    "The co-occurrence matrix provides a numerical representation of word relationships, which is useful for tasks like word embeddings, semantic analysis, and understanding word associations."
   ]
  },
  {
   "cell_type": "code",
   "execution_count": null,
   "metadata": {},
   "outputs": [
    {
     "name": "stdout",
     "output_type": "stream",
     "text": [
      "vocab: ['policies', 'very', 'disproportionate', 'newly', 'traveled', 'March', 'foster', 'goes', 'construction', 'voted', '29-5', 'with', 'fit', 'sought', 'Tabb', 'greater', 'Monday', 'post', 'clerical', 'Party', 'wind', 'protected', 'should', 'Tuesday', 'ask', 'midnight', 'platform', 'influences', 'Everything', 'orderly', 'make', 'couple', 'Lt', 'sales', 'has', 'received', 'Alpharetta', 'hard-fought', 'entering', 'insure', 'Mayor', 'taken', 'off', 'traditional', 'jail', '1937', 'mental', 'long', 'year', 'Regarding', 'board', 'order', 'additional', 'Chairman', 'primary', 'improving', 'Attorneys', 'visit', 'further', 'Meanwhile', 'topics', 'settlement', 'aside', 'source', 'found', 'Sen', 'under', 'plan', 'property', 'Ivan', 'date', 'alternative', 'office', 'son', 'Purchasing', 'more', 'provided', 'marked', 'into', 'Henry', 'obtain', 'quiet', \"didn't\", 'But', \"ordinary's\", 'details', '2', 'general', 'as', 'recent', 'administrators', \"mayor's\", 'research', 'Gov', 'man', 'similar', '402', 'efficiency', 'these', 'getting', 'appraisers', 'periodic', 'Blue', 'Republicans', 'attended', 'sign', 'size', 'paid', 'bit', 'awarding', 'undue', 'seemed', 'death', 'registration', 'such', 'purpose', 'pistol', 'emphasizing', 'hopper', 'directed', 'appointed', 'revised', 'title', 'it', 'distribute', 'local', 'allow', 'must', 'controversy', 'face', 'adamant', 'congressmen', 'matters', 'often', 'apparently', 'management', 'consulted', 'fact', 'employes', 'warned', 'extern', 'Pearl', 'federal', 'earlier', 'department', 'city', 'may', 'takes', 'agriculture', '18', 'unanimous', 'farms', 'prison', 'telephone', 'adjournment', 'announced', 'night', 'Berry', 'rescind', 'Harry', 'veiled', 'well', 'Only', 'place', 'let', 'director', 'serve', 'Congress', 'relations', 'past', 'all', 'proportionate', 'jury', 'he', 'automobile', 'enthusiastic', 'time', 'Constitution', 'outright', 'passed', 'heavily', 'assistance', 'repealed', 'good', 'Rural', 'one', 'Rd', 'petition', 'Sept', 'expected', 'John', 'Education', '1962', 'priority', 'presentments', 'which', \"Saturday's\", 'birth', 'Mac', 'or', 'offered', 'Williams', 'at', 'learned', 'Thursday', 'party', '1913', 'operating', 'asked', 'succeeded', 'urged', 'program', 'pension', 'L', 'cent', 'reconstruction', 'among', 'counties', 'Office', 'fund', 'future', 'employed', 'about', 'trouble', 'Welfare', 'services', 'day', '87-31', 'Rep', 'made', 'test', 'receive', 'dispute', 'law', '10', 'outgoing', 'friendly', 'reelection', 'read', 'available', 'Hartsfield', 'Vandiver', 'by', 'Griffin', 'outmoded', 'requesting', 'major', 'proposed', 'none', 'out', 'personnel', 'his', 'ordinary', 'coordinator', 'evidence', 'highway', 'road', 'Hospital', 'funds', 'anonymous', 'multi-million-dollar', 'begin', 'court', 'back', 'courts', 'some', 'operated', 'worked', 'effective', 'chambers', \"Department's\", 'The', 'first', 'education', 'Mayor-nominate', \"Georgia's\", 'achieve', 'This', 'married', 'manner', 'Committee', 'validity', 'governor', 'soon', 'Colquitt', 'gun', '</s>', 'adjustments', 'handling', 'became', 'like', 'together', 'names', 'revolving', 'increased', '50', 'notice', 'election', 'deserves', 'picking', 'Mrs', '1958', 'smell', 'Superior', 'equitable', 'intends', \"body's\", 'E', 'contracts', 'done', 'than', 'abandoned', 'D', '1119', 'technical', 'who', 'however', 'widespread', 'quickie', 'courses', 'burden', 'every', 'While', 'Gainesville', 'juries', 'subjected', 'Five', 'handful', 'polls', 'Jail', 'suit', 'school', 'yet', 'Jury', 'that', 'term', 'approval', 'phone', 'the', 'Atlanta', 'amicable', 'given', 'doctor', 'commented', 'Bellwood', 'prices', 'home', 'issuance', 'seek', 'saw', 'guardians', 'airport', 'candidate', 'chairman', 'filed', 'certain', 'During', 'unit', 'result', 'something', 'scheduled', 'Grady', 'did', 'medical', 'operation', '637', 'study', 'best', 'jurors', 'battle', 'Barber', 'might', 'interest', 'aid', 'reportedly', 'reduce', 'official', 'raises', 'compensation', '100', 'age', \"court's\", 'Despite', 'policeman', '1923', 'near', 'upon', 'wait', 'bonds', 'congressional', 'session', 'members', 'P', 'event', 'eliminate', 'establishment', 'determine', 'new', 'experienced', 'privilege', 'term-end', 'responses', 'been', 'assistant', 'incorporated', 'fair', 'William', 'taxpayers', 'Sam', 'items', 'not', 'years', 'become', 'ready', 'Bush', 'leading', 'after', 'told', 'other', 'Board', 'practices', 'no', 'precincts', \"Caldwell's\", 'Snodgrass', 'toward', 'him', \"governor's\", 'from', 'smooth', 'Construction', 'Police', 'GOP', 'asking', 'Felix', 'making', 'combined', 'Dorsey', 'Health', 'teacher', 'welfare', 'present', 'ballot', 'legislation', 'career', 'fees', '4', 'wife', 'administration', 'strong', 'W', 'head', 'run', 'since', 'on', 'also', 'provide', 'continue', 'calls', '<s>', 'produced', 'lived', 'Price', 'but', 'expense', 'ever', 'Texas', 'governments', 'number', 'when', 'himself', 'enter', 'increase', 'does', 'House', 'amendment', 'Opelika', 'threats', 'investigation', 'endorse', 'shot', 'It', 'Marvin', 'exception', 'according', 'Sheriff', 'pricing', 'citizens', 'can', 'votes', 'unmeritorious', 'urban', 'too', 'Executive', 'His', 'went', 'intern', 'possible', 'hurdle', 'opened', 'bankers', 'money', 'starts', 'accepted', 'voters', 'is', 'against', 'realize', 'encouragement', 'pointed', 'Davis', 'four', \"wife's\", 'Merger', 'sessions', 'registered', 'action', 'so', 'through', 'campaign', 'recommendations', 'force', '1', 'receives', 'petitions', 'servants', 'Department', 'issued', 'State', 'Aug', 'put', 'candidates', 'Grand', 'for', 'most', 'believes', 'concessionaires', 'praise', 'portion', 'elected', 'says', 'Tax', '3', 'support', 'delegation', 'warning', 'gubernatorial', 'plans', 'problem', 'dissents', 'Senate', 'veteran', 'despite', 'thanks', 'Durwood', 'said', 'resolution', 'mayor', 'less', 'listed', 'Ala', 'work', 'Friday', 'constitutional', 'violence', 'elaborate', 'relative', 'M', 'ambiguous', 'an', 'Jackson', 'real', 'divorce', 'are', 'speaker', 'Before', 'Failure', 'Bowden', 'itself', 'As', 'follow', 'per', \"Atlanta's\", '71', 'modernizing', 'what', 'go', 'rejected', 'defeated', 'consistently', 'meeting', 'Wards', 'worth', 'set', 'was', 'After', 'Sunday', 'James', 'voting', 'Judge', 'Jr', 'granted', 'have', 'effect', '13', 'ones', 'they', 'cruelty', 'wards', 'Caldwell', 'take', 'feel', 'These', 'Bar', 'then', 'reports', 'this', 'committee', 'three', 'highways', 'opposes', 'before', 'inadequate', 'allowances', 'many', 'charged', 'City', 'grand', 'attorney', 'homes', 'charge', 'Wednesday', 'offices', 'In', 'fire', 'conducted', 'likely', 'mention', 'enthusiasm', 'we', 'brief', 'approved', 'When', 'public', 'areas', 'actions', 'them', 'allowed', 'repair', 'departments', 'held', 'former', 'Aj', 'Ask', 'rural', 'calmest', 'However', 'promised', 'each', 'armed', 'roads', 'costs', 'investigate', 'November', 'Cheshire', 'feared', 'carry', 'Highway', 'Association', 'approve', 'There', 'weekend', 'vote', 'Carey', 'implementation', 'Legislature', 'Tom', 'will', 'criticisms', 'featured', 'surveillance', 'permit', 'expended', 'Ledford', 'where', 'stood', 'crowd', 'be', 'principal', 'generally', 'allotted', 'keeping', 'J', 'were', 'Fulton', 'both', 'Austin', 'considering', 'seen', 'Four', 'would', 'there', 'fully', 'Pelham', 'purchasing', 'hot', 'Being', 'Robert', 'church', 'lacking', 'distribution', 'took', 'Commerce', 'studied', 'Washington', 'old', '74', 'coolest', 'next', 'previous', 'two', 'On', 'offer', 'specifically', 'formally', 'protests', 'remedy', 'duty', 'a', 'county', 'Savannah', 'sheriff', 'September-October', 'interim', 'of', 'enabling', 'rally', 'bond', 'liquor', 'state', 'reconsideration', 'appointment', '1961', 'recommended', 'opposed', 'Garland', 'Miller', 'Schley', 'Democratic', 'just', 'Nevertheless', 'race', 'signatures', 'procedures', 'act', 'disable', 'Authority', \"Daniel's\", 'Roads', 'George', 'drop', 'A', '8', 'Callan', 'promise', 'had', 'see', 'added', 'million', 'Ridge', 'pass', 'authorities', 'inure', 'Many', 'whether', 'Rob', 'system', 'tax', 'populous', 'end', 're-set', 'resigned', 'being', 'our', 'tossed', 'Policeman', 'deputies', 'up', 'superintendent', 'any', 'Tower', 'steps', 'give', 'protect', 'pay', 'and', 'days', 'Implementation', 'do', 'I', 'council', \"Byrd's\", 'Court', 'over-all', 'political', \"Commissioner's\", 'got', 'top', 'B', 'reasonable', 'Allen', 'laws', 'find', \"wasn't\", 'in', 'wanted', 'legislators', 'largest', 'audience', 'afternoon', 'last', 'Jan', 'brought', 'word', 'won', 'expires', 'Pye', 'They', 'interlude', '30', 'shortly', 'occupation', 'agreed', '13th', 'resignation', 'Georgia', 'cost', 'He', 'issue', 'Byrd', 'legislator', 'item', 'irregularities', 'to', 'effected', 'Ordinary', 'officials', 'swipe', 'daughter', 'County', 'praised', 'child', 'its', 'hold']\n",
      "vocab_size: 854\n"
     ]
    }
   ],
   "source": [
    "# Since we already have a working ngram model, for the next part we can use the ngrams to calculate the co-occurences.\n",
    "model = NGramModel(corpus, 2)\n",
    "tokens = model.tokenize()\n",
    "ngrams = model.generate_ngrams(tokens)\n",
    "# print(\"Generated n-grams:\", ngrams)\n",
    "# print(\"type of ngrams:\", type(ngrams))\n",
    "# print(\"length of ngrams:\", len(ngrams))\n",
    "# print(\"length of tokens:\", len(tokens))\n",
    "# print(\"length of tokens[0]:\", len(tokens[0]))\n",
    "# print(\"type of tokens:\", type(tokens))\n",
    "# print(\"type of tokens[0]:\", type(tokens[0]))\n",
    "# print(\"tokens[0]:\", tokens[0])\n",
    "# print(\"tokens[0][0]:\", tokens[0][0])\n",
    "# print(\"tokens:\", tokens)\n",
    "\n",
    "\n",
    "def create_co_matrix(ngrams: dict, vocab_size: int, word_to_index: dict) -> np.ndarray:\n",
    "    co_matrix = np.zeros((vocab_size, vocab_size), dtype=np.int32)\n",
    "    for ngram, count in ngrams.items():\n",
    "        for i in range(len(ngram) - 1):\n",
    "            word1 = ngram[i]\n",
    "            word2 = ngram[i + 1]\n",
    "            if word1 in word_to_index and word2 in word_to_index:\n",
    "                index1 = word_to_index[word1]\n",
    "                index2 = word_to_index[word2]\n",
    "                co_matrix[index1, index2] += count\n",
    "                co_matrix[index2, index1] += count  # Symmetric matrix\n",
    "    return co_matrix\n",
    "\n",
    "\n",
    "\n",
    "vocab = list(set(tokens))  # Remove duplicates\n",
    "\n",
    "\n",
    "vocab_size = len(vocab)\n",
    "# print(\"vocab:\", vocab)\n",
    "# print(\"vocab_size:\", vocab_size)\n",
    "\n",
    "# Create a word-to-index mapping\n",
    "word_to_index = {word: idx for idx, word in enumerate(vocab)}\n",
    "\n",
    "# Generate the co-occurrence matrix\n",
    "co_matrix = create_co_matrix(ngrams, vocab_size, word_to_index)\n",
    "\n",
    "# Optionally, print the matrix or parts of it\n",
    "# print(co_matrix.value_counts())"
   ]
  },
  {
   "cell_type": "markdown",
   "metadata": {},
   "source": [
    "With the code below you can verify if the co-occurence works"
   ]
  },
  {
   "cell_type": "code",
   "execution_count": 57,
   "metadata": {},
   "outputs": [
    {
     "name": "stdout",
     "output_type": "stream",
     "text": [
      "Co-occurrence count for 'the' and 'jury': 7\n",
      "One or both words 'the' and 'cat' are not in the vocabulary.\n"
     ]
    }
   ],
   "source": [
    "def check_co_occurrence(word1, word2, co_matrix, word_to_index):\n",
    "    \"\"\"\n",
    "    Print the co-occurrence count for a specific word pair.\n",
    "    \"\"\"\n",
    "    if word1 not in word_to_index or word2 not in word_to_index:\n",
    "        print(f\"One or both words '{word1}' and '{word2}' are not in the vocabulary.\")\n",
    "        return\n",
    "\n",
    "    index1 = word_to_index[word1]\n",
    "    index2 = word_to_index[word2]\n",
    "\n",
    "    co_count = co_matrix[index1][index2]\n",
    "    print(f\"Co-occurrence count for '{word1}' and '{word2}': {co_count}\")\n",
    "\n",
    "check_co_occurrence('the', 'jury', co_matrix, word_to_index)\n",
    "check_co_occurrence('the', 'cat', co_matrix, word_to_index)"
   ]
  },
  {
   "cell_type": "markdown",
   "metadata": {},
   "source": [
    "In this part, we reduce the dimensionality of the **co-occurrence matrix** using **Singular Value Decomposition (SVD)**. This technique helps in extracting the most important features from the matrix, making it easier to visualize and interpret the relationships between words.\n",
    "\n",
    "Steps:\n",
    "1. **Singular Value Decomposition (SVD)**: The co-occurrence matrix is decomposed into three matrices: \\( M = U \\cdot \\Sigma \\cdot V^T \\).\n",
    "2. **Dimensionality Reduction**: We retain only the top `k` components (default is 2) from the SVD, effectively reducing the dimensionality of the matrix.\n",
    "3. **Reduced Matrix**: The reduced matrix retains the most important semantic information and can be used for tasks such as **word embedding visualization** or **semantic similarity analysis**.\n",
    "\n",
    "Dimensionality reduction allows us to capture the essence of word relationships in fewer dimensions, making it more efficient to process and visualize the data."
   ]
  },
  {
   "cell_type": "code",
   "execution_count": 58,
   "metadata": {},
   "outputs": [],
   "source": [
    "from sklearn.decomposition import TruncatedSVD\n",
    "\n",
    "def reduce_to_k_dim(M, k=2):\n",
    "    \"\"\"\n",
    "    Reduce the dimensionality of the co-occurrence matrix M to k dimensions using SVD.\n",
    "    \"\"\"\n",
    "    # U, S, Vt = np.linalg.svd(M, full_matrices=False)\n",
    "    # # print(\"U shape:\", U.shape)\n",
    "    # # print(\"S shape:\", S.shape)\n",
    "    # # print(\"Vt shape:\", Vt.shape)\n",
    "    # # Select the top k singular values and corresponding vectors\n",
    "    # U_reduced = U[:, :k]\n",
    "    # S_reduced = np.diag(S[:k])\n",
    "    # Vt_reduced = Vt[:k, :]\n",
    "    # # Reconstruct the reduced matrix\n",
    "    # M_reduced = np.dot(U_reduced, S_reduced).dot(Vt_reduced)\n",
    "    # # # Normalize the reduced matrix\n",
    "    # # M_reduced = M_reduced.astype(np.float32)\n",
    "    # # M_reduced /= np.sum(M_reduced, axis=1, keepdims=True)  # Normalize by row sums\n",
    "    svd = TruncatedSVD(n_components=k)\n",
    "    M_reduced = svd.fit_transform(M)\n",
    "\n",
    "    return M_reduced"
   ]
  },
  {
   "cell_type": "markdown",
   "metadata": {},
   "source": [
    "In this final part, we visualize the reduced word embeddings in **2D space**. After reducing the dimensionality of the co-occurrence matrix using SVD, we plot the embeddings for each word to observe their relationships in a low-dimensional space.\n",
    "\n",
    "Steps:\n",
    "1. **Plotting the Embeddings**: Each word from the vocabulary is plotted based on its 2D coordinates from the reduced matrix.\n",
    "2. **Visualization**: The scatter plot allows us to see how words cluster together or relate to each other based on co-occurrences in the text. Words with similar contexts should appear closer to each other in the plot.\n",
    "3. **Interpretation**: By looking at the 2D plot, we can analyze word similarities, relationships, and clusters formed by words that often occur together.\n",
    "\n",
    "This visualization is a useful tool for understanding the structure of word embeddings and the relationships between words in the corpus.\n",
    "\n",
    "\n",
    "\n",
    "\n",
    "\n"
   ]
  },
  {
   "cell_type": "code",
   "execution_count": null,
   "metadata": {},
   "outputs": [
    {
     "name": "stdout",
     "output_type": "stream",
     "text": [
      "word: city\n",
      "word: election\n",
      "word: jury\n",
      "word: department\n",
      "word: said\n",
      "word: county\n",
      "word: polls\n",
      "word: campaign\n",
      "word: anonymous\n",
      "word: term\n"
     ]
    },
    {
     "data": {
      "image/png": "[encoded data removed]",
      "text/plain": [
       "<Figure size 1000x1000 with 1 Axes>"
      ]
     },
     "metadata": {},
     "output_type": "display_data"
    },
    {
     "data": {
      "text/plain": [
       "<Figure size 640x480 with 0 Axes>"
      ]
     },
     "metadata": {},
     "output_type": "display_data"
    }
   ],
   "source": [
    "def plot_embeddings(M_reduced, word_to_index, words):\n",
    "    \"\"\"\n",
    "    Plot the word embeddings in 2D space.\n",
    "    \"\"\"\n",
    "    # print(\"plot embeddings fn type of word to index:\", type(word_to_index))\n",
    "    # print(\"plot embeddings fn length of word_to_index:\", len(word_to_index))\n",
    "    plt.figure(figsize=(10, 10))\n",
    "    for i, word in enumerate(words):\n",
    "        print(\"word:\", word)\n",
    "        if word in word_to_index:\n",
    "            x, y = M_reduced[word_to_index[word], :2]\n",
    "            plt.scatter(x, y)\n",
    "            plt.annotate(word, (x, y), fontsize=12)\n",
    "    plt.title(\"Word Embeddings\")\n",
    "    plt.xlabel(\"Dimension 1\")\n",
    "    plt.ylabel(\"Dimension 2\")\n",
    "    plt.grid()\n",
    "    plt.show()\n",
    "    plt.savefig('./results/word_embeddings_selected_words.png')  \n",
    "\n",
    "\n",
    "# words = [\"city\", \"election\", \"court\", \"jury\", \"department\", \"legislature\", \"county\", \"police\", \"funds\", \"tax\", \"state\", \"candidate\", \"education\", \"governor\", \"hospital\"]\n",
    "words = [\"city\", \"election\", \"jury\", \"department\", \"said\", \"county\", \"polls\", \"campaign\", \"anonymous\", \"term\"]\n",
    "\n",
    "\n",
    "M_reduced = reduce_to_k_dim(co_matrix, k=2)\n",
    "\n",
    "# plot_embeddings(M_reduced, word_to_index, vocab) #using full vocab\n",
    "\n",
    "plot_embeddings(M_reduced, word_to_index, words)\n"
   ]
  },
  {
   "cell_type": "markdown",
   "metadata": {},
   "source": [
    "## Prediction-Based Word Vectors\n",
    "In this section, we load pre-trained word vectors using the **GloVe** embeddings from the [Stanford NLP paper on GloVe](https://nlp.stanford.edu/pubs/glove.pdf). The pre-trained embeddings provide rich semantic information about words based on large text corpora, allowing us to represent words as vectors that capture their meaning and relationships.\n",
    "\n",
    "Steps:\n",
    "1. **Load GloVe Word Vectors**: We use the GloVe embeddings from the `glove-wiki-gigaword-200` model, which has 200-dimensional vectors for each word.\n",
    "2. **Vocabulary Matching**: We map the words from our corpus to the GloVe vocabulary and extract the corresponding vectors.\n",
    "3. **Dimensionality Reduction**: After obtaining the word vectors, we reduce the dimensionality to visualize the embeddings in 2D space, allowing us to explore word relationships visually.\n",
    "\n",
    "This is an excellent opportunity to explore how pre-trained embeddings like GloVe can be used to improve downstream NLP tasks by providing richer word representations."
   ]
  },
  {
   "cell_type": "code",
   "execution_count": 135,
   "metadata": {},
   "outputs": [
    {
     "name": "stdout",
     "output_type": "stream",
     "text": [
      "Loaded vocab size 400000\n",
      "data type of unique_tokens: <class 'set'>\n",
      "data type of word_to_index: <class 'dict'>\n",
      "length of unique_tokens: 862\n",
      "length of word_to_index: 862\n",
      "word_to_index: {'In': 0, 'hopper': 1, 'good': 2, 'Sen.': 3, 'mention': 4, 'privilege': 5, 'believes': 6, 'reelection': 7, 'aside': 8, 'Office': 9, 'given': 10, 'fact': 11, 'political': 12, 'Constitution': 13, 'fees': 14, 'Alpharetta': 15, 'Tuesday': 16, 'trouble': 17, 'this': 18, 'Police': 19, 'race': 20, 'former': 21, 'Callan': 22, 'Rural': 23, 'distribution': 24, 'lived': 25, 'Henry': 26, 'generally': 27, 'who': 28, 'emphasizing': 29, 'Austin': 30, \"Atlanta's\": 31, 'servants': 32, 'roads': 33, 'best': 34, 'warned': 35, 'pointed': 36, 'courts': 37, '(': 38, 'validity': 39, 'new': 40, \"ordinary's\": 41, 'begin': 42, 'end': 43, 'went': 44, 'Rep.': 45, 'often': 46, 'heavily': 47, 'Ala.': 48, 'size': 49, 'automobile': 50, 'announced': 51, 'practices': 52, 'details': 53, 'L.': 54, 'something': 55, 'local': 56, 'interest': 57, 'counties': 58, 'most': 59, 'Legislature': 60, 'He': 61, 'official': 62, 'Hospital': 63, 'aid': 64, 'took': 65, \"''\": 66, 'hard-fought': 67, 'Mayor-nominate': 68, 'law': 69, 'against': 70, 'The': 71, 'recommendations': 72, 'each': 73, 'himself': 74, 'operating': 75, 'considering': 76, 'County': 77, 'county': 78, 'or': 79, 'back': 80, 'Fulton': 81, 'hurdle': 82, 'order': 83, 'with': 84, 'expires': 85, 'chambers': 86, 'however': 87, 'jury': 88, 'realize': 89, 'unanimous': 90, 'force': 91, 'passed': 92, 'teacher': 93, 'read': 94, 'cruelty': 95, 'registration': 96, 'foster': 97, 'number': 98, 'Gov.': 99, 'Congress': 100, 'Despite': 101, 'event': 102, 'protect': 103, 'some': 104, 'Being': 105, 'prison': 106, 'will': 107, 'Friday': 108, 'first': 109, 'seek': 110, 'career': 111, 'personnel': 112, 'reconstruction': 113, 'after': 114, 'produced': 115, 'fully': 116, 'criticisms': 117, 'attended': 118, 'Construction': 119, 'Welfare': 120, 'amendment': 121, 'Thursday': 122, 'not': 123, 'previous': 124, 'that': 125, 'reconsideration': 126, 'subjected': 127, 'future': 128, 'laws': 129, 'fair': 130, 'itself': 131, 'any': 132, 'handful': 133, 'too': 134, 'possible': 135, 'Regarding': 136, 'Durwood': 137, 'appointment': 138, 'concessionaires': 139, 'newly': 140, 'dispute': 141, 'topics': 142, 'Washington': 143, 'settlement': 144, 'offer': 145, 'J.': 146, 'rally': 147, 'Rd.': 148, 'expected': 149, 'jurors': 150, 'Four': 151, '1,119': 152, \"Byrd's\": 153, 'saw': 154, '``': 155, 'Georgia': 156, 'On': 157, 'interim': 158, 'system': 159, 'Griffin': 160, 'sought': 161, 'drop': 162, 'three': 163, 'where': 164, 'shot': 165, 'quickie': 166, \"Department's\": 167, 'listed': 168, 'purpose': 169, 'into': 170, 'mental': 171, 'up': 172, 'Tax': 173, 'Ivan': 174, 'veteran': 175, 'Hartsfield': 176, 'Snodgrass': 177, 'gun': 178, 'Chairman': 179, '2': 180, 'conducted': 181, 'appraisers': 182, \"governor's\": 183, 'take': 184, 'wife': 185, 'an': 186, 'received': 187, 'school': 188, 'major': 189, 'protests': 190, 'next': 191, 'held': 192, 'Jr.': 193, 'deputies': 194, 'succeeded': 195, 'allowances': 196, 'Grady': 197, 'smooth': 198, 'work': 199, 'increase': 200, 'promise': 201, 'reduce': 202, 'support': 203, 'earlier': 204, \"Georgia's\": 205, 'studied': 206, 'other': 207, 'departments': 208, 'them': 209, 'fire': 210, 'multi-million-dollar': 211, 'married': 212, 'While': 213, 'delegation': 214, 'Executive': 215, 'unit': 216, 'adamant': 217, 'attorney': 218, 'primary': 219, 'deserves': 220, 'top': 221, 'wait': 222, 'appointed': 223, 'proportionate': 224, 'insure': 225, 'from': 226, 'certain': 227, 'controversy': 228, 'guardians': 229, 'distribute': 230, 'Authority': 231, 'mayor': 232, 'by': 233, 'periodic': 234, 'accepted': 235, 'However': 236, 'Robert': 237, 'GOP': 238, 'face': 239, 'operation': 240, 'remedy': 241, 'there': 242, 'committee': 243, 'Merger': 244, 'registered': 245, '4': 246, 'airport': 247, 'operated': 248, 'petition': 249, 'very': 250, 'It': 251, 'His': 252, 'outright': 253, 'Health': 254, 'formally': 255, 'midnight': 256, 'may': 257, 'Miller': 258, 'like': 259, 'Colquitt': 260, 'plans': 261, 'resignation': 262, 'combined': 263, 'vote': 264, 'Ledford': 265, 'irregularities': 266, '</s>': 267, 'duty': 268, 'meeting': 269, 'repealed': 270, 'pass': 271, 'together': 272, 'determine': 273, 'rural': 274, 'legislator': 275, 'ever': 276, 'soon': 277, 'Superior': 278, 'farms': 279, 'authorities': 280, 'test': 281, 'P.': 282, 'Purchasing': 283, 'learned': 284, 'charged': 285, 'jail': 286, 'every': 287, 'been': 288, 'allow': 289, 'allowed': 290, 'administrators': 291, 'Bar': 292, 'Garland': 293, 'alternative': 294, 'program': 295, 'John': 296, 'votes': 297, 'starts': 298, 'provide': 299, 'Commerce': 300, \"mayor's\": 301, 'present': 302, 'Allen': 303, 'candidate': 304, 'thanks': 305, 'items': 306, 'wanted': 307, 'found': 308, 'Savannah': 309, 'inadequate': 310, 'enabling': 311, 'less': 312, 'abandoned': 313, 'sales': 314, 'Sam': 315, 'veiled': 316, 'amicable': 317, 'office': 318, 'Only': 319, 'enthusiastic': 320, 'But': 321, 'praise': 322, 'recent': 323, 're-set': 324, 'might': 325, 'death': 326, 'fit': 327, 'signatures': 328, '10': 329, 'coolest': 330, 'promised': 331, 'had': 332, 'be': 333, 'chairman': 334, 'available': 335, 'governments': 336, 'reportedly': 337, 'swipe': 338, 'make': 339, 'citizens': 340, '1958': 341, 'would': 342, 'pricing': 343, 'Judge': 344, 'won': 345, 'leading': 346, 'council': 347, 'real': 348, 'rescind': 349, 'calls': 350, 'experienced': 351, 'This': 352, 'handling': 353, 'education': 354, 'speaker': 355, 'Sept.': 356, 'Cheshire': 357, 'adjournment': 358, 'days': 359, 'we': 360, 'more': 361, 'shortly': 362, 'voted': 363, 'Vandiver': 364, 'Davis': 365, 'surveillance': 366, \"Saturday's\": 367, 'constitutional': 368, 'officials': 369, 'federal': 370, 'additional': 371, 'raises': 372, 'property': 373, 'opposes': 374, 'dissents': 375, 'services': 376, 'coordinator': 377, 'Senate': 378, 'highways': 379, 'resigned': 380, 'further': 381, 'term': 382, 'weekend': 383, 'congressional': 384, 'just': 385, 'Education': 386, 'stood': 387, 'effected': 388, 'all': 389, 'are': 390, 'go': 391, 'responses': 392, 'sign': 393, 'gubernatorial': 394, 'polls': 395, 'find': 396, 'place': 397, 'Court': 398, 'extern': 399, 'rejected': 400, 'have': 401, '74': 402, 'intern': 403, 'brief': 404, 'These': 405, 'run': 406, \"didn't\": 407, 'employed': 408, '50': 409, \"body's\": 410, 'worth': 411, 'Ordinary': 412, 'effective': 413, 'assistant': 414, 'establishment': 415, 'afternoon': 416, 'principal': 417, 'Opelika': 418, 'plan': 419, 'become': 420, 'department': 421, 'enter': 422, 'state': 423, 'charge': 424, 'proposed': 425, 'praised': 426, 'entering': 427, 'names': 428, 'church': 429, 'bit': 430, 'told': 431, 'During': 432, 'has': 433, 'campaign': 434, 'compensation': 435, 'Price': 436, 'let': 437, 'evidence': 438, 'carry': 439, 'Mac': 440, 'agriculture': 441, ')': 442, 'protected': 443, 'Association': 444, ':': 445, 'couple': 446, 'members': 447, 'apparently': 448, 'City': 449, 'populous': 450, 'fund': 451, '1962': 452, 'see': 453, 'management': 454, 'visit': 455, 'Sheriff': 456, '1': 457, '13th': 458, 'city': 459, 'a': 460, 'set': 461, 'Monday': 462, 'birth': 463, 'unmeritorious': 464, 'about': 465, 'no': 466, 'long': 467, 'Grand': 468, 'technical': 469, 'September-October': 470, 'increased': 471, 'opened': 472, 'suit': 473, '1961': 474, 'A': 475, 'before': 476, 'Aj': 477, 'encouragement': 478, 'friendly': 479, ',': 480, 'Policeman': 481, 'source': 482, 'disproportionate': 483, 'years': 484, 'but': 485, 'State': 486, 'intends': 487, 'over-all': 488, 'age': 489, 'election': 490, 'asking': 491, 'smell': 492, '30': 493, 'Pearl': 494, 'actions': 495, 'Bush': 496, 'Carey': 497, 'for': 498, 'and': 499, 'made': 500, 'adjustments': 501, 'Highway': 502, 'Committee': 503, 'filed': 504, 'priority': 505, 'cost': 506, 'also': 507, 'tax': 508, 'can': 509, 'Sunday': 510, 'research': 511, 'awarding': 512, 'recommended': 513, 'than': 514, 'expended': 515, 'bonds': 516, 'does': 517, 'receives': 518, 'taxpayers': 519, 'which': 520, 'put': 521, 'Meanwhile': 522, 'warning': 523, 'Pelham': 524, 'must': 525, 'according': 526, 'then': 527, 'purchasing': 528, 'requesting': 529, 'reports': 530, 'greater': 531, 'date': 532, 'elaborate': 533, 'time': 534, 'Tower': 535, 'action': 536, 'pistol': 537, 'seemed': 538, 'Byrd': 539, 'audience': 540, 'funds': 541, 'such': 542, 'was': 543, 'our': 544, 'Felix': 545, 'his': 546, 'should': 547, 'board': 548, 'implementation': 549, 'improving': 550, 'bond': 551, 'daughter': 552, 'pension': 553, \"wife's\": 554, 'March': 555, 'When': 556, 'inure': 557, 'under': 558, 'at': 559, 'After': 560, 'Tom': 561, 'candidates': 562, 'George': 563, 'wards': 564, 'areas': 565, '.': 566, 'Attorneys': 567, 'petitions': 568, 'endorse': 569, 'title': 570, 'grand': 571, 'receive': 572, '1937': 573, 'Berry': 574, 'telephone': 575, 'traveled': 576, 'word': 577, 'phone': 578, \"court's\": 579, 'Everything': 580, 'calmest': 581, 'result': 582, '29-5': 583, 'D.': 584, 'incorporated': 585, 'it': 586, 'feel': 587, 'directed': 588, '402': 589, 'Aug.': 590, 'so': 591, 'Implementation': 592, 'expense': 593, 'making': 594, 'As': 595, 'added': 596, 'highway': 597, 'welfare': 598, 'Caldwell': 599, 'hold': 600, 'many': 601, 'seen': 602, 'man': 603, 'assistance': 604, '<s>': 605, 'Nevertheless': 606, 'son': 607, 'session': 608, 'traditional': 609, 'likely': 610, 'road': 611, 'policeman': 612, 'There': 613, 'last': 614, 'Texas': 615, 'construction': 616, 'doctor': 617, 'Rob': 618, 'allotted': 619, 'term-end': 620, 'issuance': 621, 'picking': 622, 'since': 623, 'battle': 624, 'permit': 625, 'violence': 626, 'exception': 627, '13': 628, 'influences': 629, 'serve': 630, 'portion': 631, 'in': 632, 'its': 633, 'employes': 634, 'platform': 635, 'study': 636, 'I': 637, 'Dorsey': 638, 'Ask': 639, 'Williams': 640, 'lacking': 641, 'Mrs.': 642, 'Marvin': 643, 'Gainesville': 644, 'Roads': 645, 'administration': 646, 'two': 647, 'head': 648, \"Daniel's\": 649, 'Failure': 650, 'ready': 651, 'continue': 652, 'got': 653, 'ordinary': 654, 'granted': 655, 'one': 656, 'voters': 657, 'costs': 658, 'Bellwood': 659, 'crowd': 660, 'resolution': 661, 'the': 662, 'Jackson': 663, 'interlude': 664, 'consulted': 665, 'whether': 666, 'ask': 667, 'off': 668, 'largest': 669, '1923': 670, 'director': 671, 'similar': 672, 'urban': 673, 'past': 674, 'relative': 675, '71': 676, 'sheriff': 677, 'said': 678, 'Many': 679, 'enthusiasm': 680, 'William': 681, 'November': 682, 'do': 683, 'revolving': 684, 'approve': 685, 'as': 686, 'steps': 687, 'divorce': 688, 'precincts': 689, 'Before': 690, 'voting': 691, '8': 692, 'tossed': 693, 'Wednesday': 694, \"wasn't\": 695, 'on': 696, 'equitable': 697, '1913': 698, 'sessions': 699, 'toward': 700, 'night': 701, 'cent': 702, 'widespread': 703, 'taken': 704, 'give': 705, 'superintendent': 706, 'congressmen': 707, 'approval': 708, 'Party': 709, 'legislators': 710, 'year': 711, 'marked': 712, 'consistently': 713, 'Blue': 714, 'presentments': 715, 'They': 716, 'being': 717, 'out': 718, 'Board': 719, 'keeping': 720, 'offered': 721, 'revised': 722, 'says': 723, 'commented': 724, 'party': 725, 'issue': 726, 'procedures': 727, 'item': 728, 'four': 729, 'of': 730, 'urged': 731, '--': 732, 'W.': 733, 'relations': 734, 'asked': 735, 'manner': 736, 'repair': 737, 'scheduled': 738, 'follow': 739, 'legislation': 740, 'per': 741, 'among': 742, 'homes': 743, 'threats': 744, 'worked': 745, 'James': 746, 'paid': 747, 'post': 748, 'effect': 749, 'efficiency': 750, 'undue': 751, 'courses': 752, 'anonymous': 753, 'yet': 754, 'Department': 755, 'issued': 756, 'outmoded': 757, 'through': 758, 'contracts': 759, 'Mayor': 760, 'armed': 761, 'Tabb': 762, 'occupation': 763, 'old': 764, 'specifically': 765, 'orderly': 766, \"Commissioner's\": 767, 'quiet': 768, 'modernizing': 769, 'disable': 770, 'they': 771, 'Republicans': 772, 'Bowden': 773, 'near': 774, 'offices': 775, 'obtain': 776, 'outgoing': 777, 'well': 778, '100': 779, 'Harry': 780, 'none': 781, 'approved': 782, 'clerical': 783, 'ballot': 784, 'act': 785, 'what': 786, 'Barber': 787, 'problem': 788, \"Caldwell's\": 789, 'general': 790, 'hot': 791, 'Pye': 792, 'Five': 793, 'juries': 794, 'child': 795, 'takes': 796, 'day': 797, 'ambiguous': 798, 'B.': 799, '637': 800, 'Schley': 801, 'these': 802, 'featured': 803, 'Wards': 804, 'Jail': 805, 'burden': 806, 'E.': 807, 'liquor': 808, 'is': 809, '18': 810, 'feared': 811, 'both': 812, 'million': 813, 'opposed': 814, 'medical': 815, 'brought': 816, 'to': 817, 'court': 818, 'matters': 819, 'him': 820, 'M.': 821, 'strong': 822, 'public': 823, 'ones': 824, 'prices': 825, 'Jury': 826, 'policies': 827, 'goes': 828, 'getting': 829, 'elected': 830, 'Ridge': 831, 'governor': 832, 'eliminate': 833, 'defeated': 834, 'were': 835, 'did': 836, 'home': 837, 'despite': 838, 'House': 839, 'done': 840, 'provided': 841, 'Democratic': 842, 'upon': 843, 'Atlanta': 844, 'Jan.': 845, 'became': 846, 'investigate': 847, 'he': 848, 'achieve': 849, 'wind': 850, 'agreed': 851, '87-31': 852, 'reasonable': 853, 'bankers': 854, 'notice': 855, 'pay': 856, 'investigation': 857, '3': 858, 'money': 859, 'Lt.': 860, 'when': 861}\n",
      "rendering M based on wv\n",
      "rendering M based on unique_tokens\n"
     ]
    }
   ],
   "source": [
    "# Do not edit\n",
    "import gensim.downloader as api\n",
    "import numpy as np\n",
    "wv_from_bin = api.load(\"glove-wiki-gigaword-200\")\n",
    "print(\"Loaded vocab size %i\" % len(list(wv_from_bin.index_to_key)))\n",
    "\n",
    "wv_words = list(wv_from_bin.index_to_key)\n",
    "unique_tokens = set(tokens)\n",
    "# all_tokens = [word for sentence in tokens for word in sentence]\n",
    "# unique_tokens = set(all_tokens)\n",
    "M = []\n",
    "idx = 0\n",
    "word2ind = {} \n",
    "word2index = {word: idx for idx, word in enumerate(unique_tokens)}\n",
    "print(\"data type of unique_tokens:\", type(unique_tokens))\n",
    "print(\"data type of word_to_index:\", type(word2index))\n",
    "print(\"length of unique_tokens:\", len(unique_tokens))\n",
    "print(\"length of word_to_index:\", len(word2index))\n",
    "print(\"word_to_index:\", word2index)\n",
    "print('rendering M based on wv')\n",
    "for w in wv_words:\n",
    "    try:\n",
    "        M.append(wv_from_bin.get_vector(w))\n",
    "        word2ind[w] = idx\n",
    "        idx += 1\n",
    "    except:\n",
    "        pass\n",
    "\n",
    "print('rendering M based on unique_tokens')\n",
    "for w in unique_tokens:\n",
    "    if w in wv_words:\n",
    "        continue\n",
    "    try:\n",
    "        M.append(wv_from_bin.get_vector(w))\n",
    "        word2ind[w] = idx\n",
    "        idx += 1\n",
    "    except:\n",
    "        pass\n",
    "M = np.stack(M)\n",
    "M_reduced = reduce_to_k_dim(M, k=2)\n",
    "\n",
    "M_lengths = np.linalg.norm(M_reduced, axis=1)\n",
    "M_reduced_normalized = M_reduced / M_lengths[:, np.newaxis]"
   ]
  },
  {
   "cell_type": "markdown",
   "metadata": {},
   "source": [
    "### Compare plots\n",
    "What stands out when comparing the two different ways of embedding using the given words?\n",
    "\n",
    "(Use this to help answer the question in your assignment document)."
   ]
  },
  {
   "cell_type": "code",
   "execution_count": null,
   "metadata": {},
   "outputs": [
    {
     "name": "stdout",
     "output_type": "stream",
     "text": [
      "word: city\n",
      "word: election\n",
      "word: jury\n",
      "word: department\n",
      "word: said\n",
      "word: county\n",
      "word: polls\n",
      "word: campaign\n",
      "word: anonymous\n",
      "word: term\n"
     ]
    },
    {
     "data": {
      "image/png": "[encoded data removed]",
      "text/plain": [
       "<Figure size 1000x1000 with 1 Axes>"
      ]
     },
     "metadata": {},
     "output_type": "display_data"
    },
    {
     "data": {
      "text/plain": [
       "<Figure size 640x480 with 0 Axes>"
      ]
     },
     "metadata": {},
     "output_type": "display_data"
    }
   ],
   "source": [
    "words = [\"city\", \"election\", \"jury\", \"department\", \"said\", \"county\", \"polls\", \"campaign\", \"anonymous\", \"term\"]\n",
    "# plot_embeddings(M_reduced, word2ind, unique_tokens)\n",
    "plot_embeddings(M_reduced_normalized, word2ind, words)\n"
   ]
  },
  {
   "cell_type": "markdown",
   "metadata": {},
   "source": [
    "### Words with multiple meanings\n",
    "Polysemes and homonyms are words that have more than one meaning (see [this wiki page](https://en.wikipedia.org/wiki/Polysemy) to learn more about the difference between polysemes and homonyms). Your task is to find a word with at least two different meanings such that the top-10 most similar words (according to cosine similarity) contain related words from both meanings.\n",
    "\n",
    "For example:\n",
    "- \"leaves\" has both the \"go_away\" and \"a_structure_of_a_plant\" meanings in the top 10.\n",
    "- \"scoop\" has both \"handed_waffle_cone\" and \"lowdown\" meanings in the top 10.\n",
    "\n",
    "You will probably need to try several polysemous or homonymic words before you find one.\n",
    "\n",
    "Once you discover a word that fits this criterion, state the word and explain the multiple meanings that occur in the top 10. Reflect on why many of the polysemous or homonymic words you tried didn’t work (i.e., why the top-10 most similar words only contain one of the word's meanings).\n",
    "\n",
    "**Note**: Use the `wv_from_bin.most_similar(word)` function to get the top 10 most similar words. This function ranks all other words in the vocabulary based on their cosine similarity to the given word. For further assistance, you can refer to the [Gensim documentation](https://radimrehurek.com/gensim/models/keyedvectors.html)."
   ]
  },
  {
   "cell_type": "code",
   "execution_count": null,
   "metadata": {},
   "outputs": [
    {
     "name": "stdout",
     "output_type": "stream",
     "text": [
      "Most similar words to 'jam':\n",
      "[('jams', 0.6079556345939636), ('hop', 0.44736582040786743), ('band', 0.43840062618255615), ('rap', 0.4353543817996979), ('torbat-e', 0.43122223019599915), ('phish', 0.4302941858768463), ('nirvana', 0.4263398349285126), ('album', 0.41872555017471313), ('pop', 0.41468679904937744), ('raspberry', 0.4109962284564972)]\n"
     ]
    }
   ],
   "source": [
    "## Your code here\n",
    "wv_from_bin = api.load(\"glove-wiki-gigaword-200\")\n",
    "# possible words to check\n",
    "# \"bank\", \"bat\", \"rock\", \"spring\", \"jam\", \"duck\"\n",
    "most_similar_ = wv_from_bin.most_similar('jam', topn=10)\n",
    "print(\"Most similar words to 'jam':\")\n",
    "print(most_similar_)\n",
    "# ''' \n",
    "# The first word I tried was 'leave' and got the following output:\n",
    "# # Most similar words to 'leave':\n",
    "# # [('stay', 0.8190094232559204), ('leaving', 0.8084294199943542), ('go', 0.7560036778450012), ('take', 0.7494378685951233), ('return', 0.7350342869758606), ('come', 0.7288329005241394), ('wait', 0.718921422958374), ('would', 0.712296724319458), ('rest', 0.7114236354827881), ('if', 0.7100387215614319)]\n",
    "# The biggest reason why the meaning \"a_structure_of_a_plant\" did not come up is because the word \"leave\" is not used in that context in the corpus.\n",
    "\n",
    "# # The second word I tried was 'state' and got the following output:\n",
    "# # Most similar words to 'state':\n",
    "# # [('federal', 0.6503916382789612), ('states', 0.6455564498901367), ('government', 0.6286910772323608), ('public', 0.6078763604164124), ('department', 0.6069762706756592), ('nation', 0.6065876483917236), ('texas', 0.6017859578132629), ('national', 0.592918872833252), ('country', 0.5893275141716003), ('officials', 0.5779942870140076)]\n",
    "# Again, state is not used in any other context in the corpus, so any other meaning did not come up.\n",
    "\n",
    "# This would be true for most of the words, as the corpus is not very large and does not contain a lot of different contexts for the words.\n",
    "\n",
    "# I was able to find the word \"jam\" in the corpus, and it was used in the context of \"music\" and \"as a fruit preserve\" (as the 10th word was rasberry), and not in the context of \"jam\" as in \"to get stuck\".\n",
    "# The output was:\n",
    "# Most similar words to 'jam':\n",
    "# [('jams', 0.6079556345939636), ('hop', 0.44736582040786743), ('band', 0.43840062618255615), ('rap', 0.4353543817996979), ('torbat-e', 0.43122223019599915), ('phish', 0.4302941858768463), ('nirvana', 0.4263398349285126), ('album', 0.41872555017471313), ('pop', 0.41468679904937744), ('raspberry', 0.4109962284564972)]\n",
    "\n",
    "# '''\n"
   ]
  },
  {
   "cell_type": "markdown",
   "metadata": {},
   "source": [
    "### word_word_synonyms\n",
    "When considering **Cosine Similarity**, it's often useful to think of **Cosine Distance**, which is simply 1 - Cosine Similarity.\n",
    "\n",
    "Find three words \\( (w_1, w_2, w_3) \\) where:\n",
    "- \\(w_1\\) and \\(w_2\\) are **synonyms**.\n",
    "- \\(w_1\\) and \\(w_3\\) are **antonyms**.\n",
    "\n",
    "However, you need to find a case where **Cosine Distance** \\( (w_1, w_3) < \\text{Cosine Distance} (w_1, w_2) \\). In other words, the antonym is **closer** to the word than its synonym in the vector space.\n",
    "\n",
    "For example, \"happy\" (\\(w_1\\)) may be closer to \"sad\" (\\(w_3\\)) than to \"cheerful\" (\\(w_2\\)), which is counter-intuitive since we expect synonyms to be closer than antonyms. \n",
    "\n",
    "Once you find such an example, provide a possible explanation for why this result may have occurred.\n",
    "\n",
    "Use the `wv_from_bin.distance(w1, w2)` function to compute the cosine distance between two words. You can refer to the [Gensim documentation](https://radimrehurek.com/gensim/models/keyedvectors.html) for further assistance.\n",
    "\n",
    "\n",
    "\n",
    "\n",
    "\n"
   ]
  },
  {
   "cell_type": "code",
   "execution_count": null,
   "metadata": {},
   "outputs": [
    {
     "name": "stdout",
     "output_type": "stream",
     "text": [
      "Cosine distance between 'bright' and synonym 'luminous': 0.4822\n",
      "Cosine distance between 'bright' and antonym 'dark': 0.3470\n"
     ]
    }
   ],
   "source": [
    "## Your code here\n",
    "wv_from_bin = api.load(\"glove-wiki-gigaword-200\")\n",
    "\n",
    "# # Given example, checks out\n",
    "# word_used = \"happy\"\n",
    "# word_synonym = \"cheerful\"\n",
    "# antonym = \"sad\"\n",
    "\n",
    "word_used = \"bright\"\n",
    "word_synonym = \"luminous\" # OR \"shiny\" (works, tested) OR \"brilliant\" (works, tested)\n",
    "word_antonym = \"dark\"\n",
    "\n",
    "\n",
    "# Compute cosine distances\n",
    "dist_syn = wv_from_bin.distance(word_used, word_synonym)\n",
    "dist_ant = wv_from_bin.distance(word_used, word_antonym)\n",
    "\n",
    "# Print results\n",
    "print(f\"Cosine distance between '{word_used}' and synonym '{word_synonym}': {dist_syn:.4f}\")\n",
    "print(f\"Cosine distance between '{word_used}' and antonym '{word_antonym}': {dist_ant:.4f}\")\n",
    "\n",
    "# The cosine distance between bright and dark is smaller than the distance between bright and luminous\n",
    "# this might be because the word \"bright\" is used in a different context in the corpus than the word \"luminous\", \n",
    "# more explanantion in the report."
   ]
  },
  {
   "cell_type": "markdown",
   "metadata": {},
   "source": [
    "### Analogies\n",
    "Word vectors have demonstrated the ability to solve analogies based on their learned semantic relationships. For instance, consider the analogy: \n",
    "\n",
    "**\"man : grandfather :: woman : x\"** \n",
    "\n",
    "(Read: man is to grandfather as woman is to x). Using word vectors, we can find the word \\(x\\) that completes the analogy.\n",
    "\n",
    "In the example provided, we use the `most_similar` function from the Gensim library. This function identifies words that are most similar to the words in the positive list and most dissimilar to those in the negative list. For analogy solving, it effectively computes:\n",
    "\n",
    "\\[ \\text{word}(x) = \\text{most similar to} (\\text{woman} + \\text{grandfather} - \\text{man}) \\]\n",
    "\n",
    "The result is the word with the highest cosine similarity to the target vector. You can use this approach to explore various analogies and gain insights into the semantic structure of word vectors.\n",
    "\n",
    "Refer to the [Gensim documentation](https://radimrehurek.com/gensim/models/keyedvectors.html) for more details on the `most_similar` function and how word vectors handle analogy-solving tasks."
   ]
  },
  {
   "cell_type": "code",
   "execution_count": null,
   "metadata": {},
   "outputs": [
    {
     "name": "stdout",
     "output_type": "stream",
     "text": [
      "[('grandmother', 0.7608445286750793), ('granddaughter', 0.7200807332992554), ('daughter', 0.7168302536010742), ('mother', 0.7151536345481873), ('niece', 0.7005682587623596), ('father', 0.6659888029098511), ('aunt', 0.6623408794403076), ('grandson', 0.6618767380714417), ('grandparents', 0.6446609497070312), ('wife', 0.6445354223251343)]\n",
      "[('queen', 0.6978679299354553), ('princess', 0.6081744432449341), ('monarch', 0.5889754891395569), ('throne', 0.5775108933448792), ('prince', 0.5750998258590698), ('elizabeth', 0.546359658241272), ('daughter', 0.5399125814437866), ('kingdom', 0.5318052172660828), ('mother', 0.5168542861938477), ('crown', 0.5164473056793213)]\n",
      "[('germany', 0.8352416753768921), ('german', 0.6844802498817444), ('austria', 0.6128033399581909), ('poland', 0.581331193447113), ('germans', 0.574868381023407), ('munich', 0.5435904860496521), ('belgium', 0.5324130654335022), ('britain', 0.5295414328575134), ('europe', 0.5244017839431763), ('czech', 0.5152410864830017)]\n",
      "[('school', 0.6405193209648132), ('teachers', 0.6060989499092102), ('elementary', 0.5949240922927856), ('student', 0.5887795090675354), ('teaching', 0.568284809589386), ('schools', 0.560948371887207), ('education', 0.5543626546859741), ('students', 0.5359947085380554), ('kindergarten', 0.5359346270561218), ('nearby', 0.5293334126472473)]\n",
      "[('berries', 0.5552771687507629), ('carrots', 0.5533882975578308), ('fruits', 0.5528644323348999), ('vegetables', 0.49905630946159363), ('watermelon', 0.4967433214187622), ('celery', 0.4809049665927887), ('vegetable', 0.4662044644355774), ('tomato', 0.4591228663921356), ('salad', 0.45428213477134705), ('cucumber', 0.45220106840133667)]\n"
     ]
    }
   ],
   "source": [
    "# Run this cell to answer the analogy -- man : grandfather :: woman : x\n",
    "print(wv_from_bin.most_similar(positive=['woman', 'grandfather'], negative=['man']))\n",
    "\n",
    "print(wv_from_bin.most_similar(positive=['woman', 'king'], negative=['man']))\n",
    "print(wv_from_bin.most_similar(positive=['berlin', 'france'], negative=['paris']))\n",
    "print(wv_from_bin.most_similar(positive=['teacher', 'hospital'], negative=['doctor']))\n",
    "print(wv_from_bin.most_similar(positive=['carrot', 'fruit'], negative=['apple']))\n"
   ]
  },
  {
   "cell_type": "markdown",
   "metadata": {},
   "source": [
    "### Bias in word vectors\n",
    "a. **Observation**: Consider the results of a word vector model when queried with analogies involving \"man\", \"woman\", and \"profession\". What are the top results returned by the model for each query?\n",
    "\n",
    "[Answer]\n",
    "In the case man and profession, the top similar words tend to be abstract concepts like “reputation,” “skills,” “business,” and “ethic.” These words are somewhat generic and focus on qualities or aspects often linked to professions in a broader sense. However in case of women and profession, the top similar words are more specific profession-related words such as “practitioner,” “teaching,” “nursing,” “teacher,” and “educator.” This implies that words are often associated with fields traditionally dominated or stereotyped as female professions.\n",
    "\n",
    "b. **Analysis**: Do you observe any gender biases in the results? For example, are certain professions more closely associated with \"man\" or \"woman\" based on the word vectors? Discuss how word embeddings might perpetuate societal biases present in the training data.\n",
    "\n",
    "[Answer]\n",
    "The results clearly indicate that there is certain gender bias embedded in the word vectors. Professions stereotypically associated with women, such as nursing and teaching, appear prominently when the model is queried with \"woman\" in the analogy, while abstract professional terms appear in the \"man\" query results. This discrepancy makes it evident that there are biases present in the training data, most likely due to societal implications. Word embeddings are just statistical representations that identify and encode patterns in the text. The data might include societal, cultural, or historical prejudices which are reflected in the word embeddings. These embeddings can potentially perpetuate existing biases if we continue to use such embedding models.\n",
    "\n",
    "c. **Reflection**: How might such biases affect the fairness of machine learning models that use word embeddings? Suggest potential strategies for mitigating gender bias in word vector models.\n",
    "\n",
    "[Answer]\n",
    "Such biases in word embeddings can have significant consequences for fairness in machine learning applications. Models that rely on these embeddings risk perpetuating and amplifying stereotypes and unfairly influencing decisions. An example is using automated hiring tools might favor certain genders for specific roles. The propagation of bias can also harm user experience and trust in AI systems. One approach to mitigating the bias is debiasing the embeddings directly by identifying and removing gender bias directions in the vector space. Another is ensuring more balanced and representative training datasets that minimize biased language patterns. In case such datasets are not available, they can be created by analysis of available data and addition of minority cases. Additionally, incorporating fairness constraints during model training, post-processing model outputs to correct biased associations (possibly through human feedback), and having a diverse team in creating such models would be greatly helpful! \n",
    "\n"
   ]
  },
  {
   "cell_type": "code",
   "execution_count": 33,
   "metadata": {},
   "outputs": [
    {
     "name": "stdout",
     "output_type": "stream",
     "text": [
      "[('reputation', 0.5250176787376404), ('professions', 0.5178037881851196), ('skill', 0.49046966433525085), ('skills', 0.49005505442619324), ('ethic', 0.4897659420967102), ('business', 0.487585186958313), ('respected', 0.4859202802181244), ('practice', 0.482104629278183), ('regarded', 0.4778572916984558), ('life', 0.4760662019252777)]\n",
      "\n",
      "[('professions', 0.5957457423210144), ('practitioner', 0.4988412857055664), ('teaching', 0.48292139172554016), ('nursing', 0.48211804032325745), ('vocation', 0.4788965880870819), ('teacher', 0.47160351276397705), ('practicing', 0.46937811374664307), ('educator', 0.46524322032928467), ('physicians', 0.46289944648742676), ('professionals', 0.4601393938064575)]\n"
     ]
    }
   ],
   "source": [
    "print(wv_from_bin.most_similar(positive=['man', 'profession'], negative=['woman']))\n",
    "print()\n",
    "print(wv_from_bin.most_similar(positive=['woman', 'profession'], negative=['man']))"
   ]
  },
  {
   "cell_type": "code",
   "execution_count": null,
   "metadata": {},
   "outputs": [],
   "source": []
  }
 ],
 "metadata": {
  "kernelspec": {
   "display_name": "base",
   "language": "python",
   "name": "python3"
  },
  "language_info": {
   "codemirror_mode": {
    "name": "ipython",
    "version": 3
   },
   "file_extension": ".py",
   "mimetype": "text/x-python",
   "name": "python",
   "nbconvert_exporter": "python",
   "pygments_lexer": "ipython3",
   "version": "3.12.7"
  }
 },
 "nbformat": 4,
 "nbformat_minor": 2
}
