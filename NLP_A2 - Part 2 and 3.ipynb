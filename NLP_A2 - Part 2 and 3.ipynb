{
 "cells": [
  {
   "cell_type": "code",
   "execution_count": 5,
   "metadata": {},
   "outputs": [],
   "source": [
    "import os\n",
    "import numpy as np\n",
    "import matplotlib.pyplot as plt\n",
    "\n",
    "os.makedirs('./results', exist_ok=True)\n",
    "\n",
    "with open('./brown_100.txt', 'r') as file_:\n",
    "    corpus = file_.read()\n",
    "\n",
    "def write_freqs(list_: list, filename: str) -> None:\n",
    "    with open(f'./results/{filename}.txt', 'w') as file_:\n",
    "        file_.write('\\n'.join([' '.join(x[0]) + ' | ' + str(x[1]) for x in list_]))"
   ]
  },
  {
   "cell_type": "markdown",
   "metadata": {},
   "source": [
    "## N-Gram Language Modeling\n",
    "In the second assignment, you will implement an **n-gram language model** that processes input text to generate, analyze, and calculate the probabilities of sequences of `n` words (n-grams). This model will tokenize text, create n-grams, and compute their frequencies and probabilities, returning the most frequent n-grams in the text.\n",
    "\n",
    "1. **Tokenization**: Convert the input text into a list of words (tokens).\n",
    "2. **N-gram Generation**: Create sequences of `n` tokens from the text, treating each sentence independently with the inclusion of start (`<s>`) and end (`</s>`) markers.\n",
    "3. **Frequency Counting**: Count how many times each n-gram appears in the text.\n",
    "4. **Probability Calculation**: Compute the probabilities of each n-gram based on its frequency and add alpha smoothing to improve generalization of items.\n",
    "5. **Most Frequent N-grams**: Return the most frequent n-grams along with their probabilities, helping to identify common patterns in the text."
   ]
  },
  {
   "cell_type": "code",
   "execution_count": 6,
   "metadata": {},
   "outputs": [
    {
     "name": "stdout",
     "output_type": "stream",
     "text": [
      "Tokens: [['<s>', 'This', 'is', 'a', 'simple', 'example', 'to', 'demonstrate', 'how', 'n-grams', 'work', 'in', 'this', 'assignment', '</s>'], ['<s>', 'Looking', 'at', 'the', 'example', 'is', 'faster', 'than', 'working', 'with', 'full', 'n-grams', 'corpus', 'for', 'the', 'assignment', '</s>']]\n",
      "Generated n-grams: [('<s>', 'This'), ('This', 'is'), ('is', 'a'), ('a', 'simple'), ('simple', 'example'), ('example', 'to'), ('to', 'demonstrate'), ('demonstrate', 'how'), ('how', 'n-grams'), ('n-grams', 'work'), ('work', 'in'), ('in', 'this'), ('this', 'assignment'), ('assignment', '</s>'), ('<s>', 'Looking'), ('Looking', 'at'), ('at', 'the'), ('the', 'example'), ('example', 'is'), ('is', 'faster'), ('faster', 'than'), ('than', 'working'), ('working', 'with'), ('with', 'full'), ('full', 'n-grams'), ('n-grams', 'corpus'), ('corpus', 'for'), ('for', 'the'), ('the', 'assignment'), ('assignment', '</s>')]\n",
      "N-gram frequencies: Counter({('assignment', '</s>'): 2, ('<s>', 'This'): 1, ('This', 'is'): 1, ('is', 'a'): 1, ('a', 'simple'): 1, ('simple', 'example'): 1, ('example', 'to'): 1, ('to', 'demonstrate'): 1, ('demonstrate', 'how'): 1, ('how', 'n-grams'): 1, ('n-grams', 'work'): 1, ('work', 'in'): 1, ('in', 'this'): 1, ('this', 'assignment'): 1, ('<s>', 'Looking'): 1, ('Looking', 'at'): 1, ('at', 'the'): 1, ('the', 'example'): 1, ('example', 'is'): 1, ('is', 'faster'): 1, ('faster', 'than'): 1, ('than', 'working'): 1, ('working', 'with'): 1, ('with', 'full'): 1, ('full', 'n-grams'): 1, ('n-grams', 'corpus'): 1, ('corpus', 'for'): 1, ('for', 'the'): 1, ('the', 'assignment'): 1})\n",
      "N-gram probabilities: {('<s>', 'This'): 0.5, ('This', 'is'): 1.0, ('is', 'a'): 0.5, ('a', 'simple'): 1.0, ('simple', 'example'): 1.0, ('example', 'to'): 0.5, ('to', 'demonstrate'): 1.0, ('demonstrate', 'how'): 1.0, ('how', 'n-grams'): 1.0, ('n-grams', 'work'): 0.5, ('work', 'in'): 1.0, ('in', 'this'): 1.0, ('this', 'assignment'): 1.0, ('assignment', '</s>'): 1.0, ('<s>', 'Looking'): 0.5, ('Looking', 'at'): 1.0, ('at', 'the'): 1.0, ('the', 'example'): 0.5, ('example', 'is'): 0.5, ('is', 'faster'): 0.5, ('faster', 'than'): 1.0, ('than', 'working'): 1.0, ('working', 'with'): 1.0, ('with', 'full'): 1.0, ('full', 'n-grams'): 1.0, ('n-grams', 'corpus'): 0.5, ('corpus', 'for'): 1.0, ('for', 'the'): 1.0, ('the', 'assignment'): 0.5}\n",
      "[(('assignment', '</s>'), 1.0), (('<s>', 'This'), 0.5), (('This', 'is'), 1.0), (('is', 'a'), 0.5), (('a', 'simple'), 1.0), (('simple', 'example'), 1.0), (('example', 'to'), 0.5), (('to', 'demonstrate'), 1.0), (('demonstrate', 'how'), 1.0), (('how', 'n-grams'), 1.0)]\n"
     ]
    }
   ],
   "source": [
    "from collections import Counter, defaultdict # You may import more from collections if needed\n",
    "from itertools import tee, islice\n",
    "import re\n",
    "\n",
    "\n",
    "class NGramModel:\n",
    "    def __init__(self, text, n, alpha=0.0):\n",
    "        \"\"\"\n",
    "        Initialize the NGramModel with text and the value of n.\n",
    "        \"\"\"\n",
    "        self.text = text\n",
    "        self.n = n\n",
    "        self.alpha = alpha  # Alpha value for additive smoothing\n",
    "        self.n_grams_list = []  # List to store n-grams\n",
    "        self.ngrams = {}\n",
    "        self.total_count = 0  # Total count of n-grams\n",
    "        self.probabilities = {}\n",
    "        self.vocab = set()\n",
    "\n",
    "    def tokenize(self) -> None:\n",
    "        \"\"\"\n",
    "        Tokenize the text into words. \n",
    "        Fill in the code to split the text into a list of words.\n",
    "        \"\"\"\n",
    "        # Split sentences with inclusion of punctuation as tokens\n",
    "        sentences = re.split(r'[.!?]', self.text)\n",
    "        tokens = []\n",
    "        # to tokenize each word in the sentences\n",
    "        for sentence in sentences:\n",
    "            sentence = sentence.strip()\n",
    "            if sentence:\n",
    "                token =['<s>']\n",
    "                self.vocab.add('<s>')  # Add start token to vocabulary\n",
    "                # Tokenize the sentence into words\n",
    "                words = sentence.split()\n",
    "                for word in words:\n",
    "                 # Add them to the tokens list\n",
    "                    token.append(word) \n",
    "                    self.vocab.add(word)  # Add to vocabulary          \n",
    "            else:\n",
    "                continue  \n",
    "            token.append('</s>')\n",
    "            self.vocab.add('</s>')  # Add end token to vocabulary\n",
    "            tokens.append(token)  # Append the tokenized sentence to the tokens list\n",
    "        return tokens\n",
    "\n",
    "    def generate_ngrams(self, tokens: list) -> dict:\n",
    "        \"\"\"\n",
    "        Generate n-grams from the list of tokens.\n",
    "        Fill in the code to create n-grams.\n",
    "        Make sure to treat each sentence independently, include the <s> and </s> tokens.\n",
    "        \"\"\"\n",
    "        \"Create sequences of `n` tokens from the text, treating each sentence independently with the inclusion of start (`<s>`) and end (`</s>`) markers.\"\n",
    "        if self.n == 1:\n",
    "            for sentence in tokens:  # each sentence is a list\n",
    "                if len(sentence) >= self.n:\n",
    "                    for j in range(len(sentence)- self.n+1):  # all words (not -1)\n",
    "                        self.n_grams_list.append(tuple(sentence[j:j+1]))  # wrap single word as a tuple\n",
    "\n",
    "        elif self.n == 2:\n",
    "            for sentence in tokens:  # each sentence is a list\n",
    "                if len(sentence) >= self.n:\n",
    "                    for j in range(len(sentence)- self.n + 1):  \n",
    "                        self.n_grams_list.append(tuple(sentence[j:j+2]))  # wrap single word as a tuple\n",
    "            \n",
    "        elif self.n == 3:\n",
    "            for sentence in tokens:  # each sentence is a list\n",
    "                if len(sentence) >= self.n:\n",
    "                    for j in range(len(sentence) - self.n+1):  \n",
    "                        self.n_grams_list.append(tuple(sentence[j:j+3]))  # wrap single word as a tuple\n",
    "        else:\n",
    "            raise ValueError(\"n must be 1, 2, or 3 for unigrams, bigrams, or trigrams respectively.\")\n",
    "        return self.n_grams_list\n",
    "\n",
    "\n",
    "    def count_frequencies(self) -> None:\n",
    "        \"\"\"\n",
    "        Count the frequencies of each n-gram.\n",
    "        Fill in the code to count n-gram occurrences.\n",
    "        \"\"\"\n",
    "        # Store the frequencies in the ngrams dictionary\n",
    "        frequency_count = Counter()\n",
    "        for member in self.n_grams_list:\n",
    "            frequency_count[member] += 1\n",
    "        self.ngrams = frequency_count\n",
    "        self.total_count = sum(frequency_count.values())  \n",
    "        \n",
    "        return self.ngrams\n",
    "\n",
    "        # raise NotImplementedError\n",
    "\n",
    "    def calculate_probabilities(self) -> None:\n",
    "        \"\"\"\n",
    "        Calculate probabilities of each n-gram based on its frequency. Add alpha smoothing separately.\n",
    "        \"\"\"\n",
    "        if not self.ngrams:\n",
    "            raise ValueError(\"Frequency of N-grams is not yet calculated.\")\n",
    "\n",
    "        V = len(self.vocab)  # Vocabulary size (for unigrams, you should also build vocab earlier)\n",
    "\n",
    "        history_counts = Counter() # Count occurrences of histories (n-1 grams)\n",
    "        for ngram, count in self.ngrams.items():\n",
    "            history = ngram[:-1]\n",
    "            history_counts[history] += count\n",
    "\n",
    "        self.probabilities = {}\n",
    "\n",
    "        for ngram, count in self.ngrams.items():\n",
    "            history = ngram[:-1]\n",
    "            history_count = history_counts[history]\n",
    "\n",
    "            if self.alpha == 0:\n",
    "                prob = count / history_count\n",
    "            else:\n",
    "                prob = (count + self.alpha) / (history_count + self.alpha * V)\n",
    "\n",
    "            self.probabilities[ngram] = prob  # <-- Store each ngram's probability here\n",
    "\n",
    "        return self.probabilities\n",
    "\n",
    "\n",
    "\n",
    "    def most_frequent_ngrams(self, top_n: int = 10) -> list:\n",
    "        \"\"\"\n",
    "        Return the most frequent n-grams and their probabilities.\n",
    "        \"\"\"\n",
    "        # Sort the n-grams by frequency in descending order\n",
    "        sorted_ngrams = sorted(self.ngrams.items(), key=lambda x: x[1], reverse=True)\n",
    "        # Get the top n n-grams\n",
    "        most_frequent = sorted_ngrams[:top_n]\n",
    "        # Format the output as a list of tuples (n-gram, frequency, probability) for top n-grams\n",
    "        most_frequent_ngrams = [(gram, self.probabilities[gram]) for gram, count in most_frequent]\n",
    "\n",
    "        # to raise error if the n-grams are not calculated\n",
    "        if not self.ngrams:\n",
    "            raise ValueError(\" Frequency of N-grams is not yet calculated.\")\n",
    "        \n",
    "        return most_frequent_ngrams\n",
    "\n",
    "# Testing the model with an example\n",
    "text = \"This is a simple example to demonstrate how n-grams work in this assignment. Looking at the example is faster than working with full n-grams corpus for the assignment.\" #Faster than running the full corpus\n",
    "n = 2 # You can change this to 1, 2, or 3 for uni, bi, or trigrams\n",
    "model = NGramModel(text, n)\n",
    "\n",
    "tokens = model.tokenize()\n",
    "print(\"Tokens:\", tokens)\n",
    "ngrams = model.generate_ngrams(tokens)\n",
    "print(\"Generated n-grams:\", ngrams)\n",
    "model.count_frequencies()\n",
    "print(\"N-gram frequencies:\", model.ngrams)\n",
    "model.calculate_probabilities()\n",
    "print(\"N-gram probabilities:\", model.probabilities)\n",
    "\n",
    "# Print the most frequent n-grams\n",
    "print(model.most_frequent_ngrams(10))\n"
   ]
  },
  {
   "cell_type": "markdown",
   "metadata": {},
   "source": [
    "### Unigrams\n",
    "\n",
    "In this section, we apply the `NGramModel` to our corpus. The model can be configured to generate unigrams, bigrams, or trigrams by adjusting the value of `n`. After tokenizing the text and generating the n-grams, the model counts the occurrences of each n-gram and calculates their probabilities. The most frequent n-grams are then written to an output file.\n",
    "\n",
    "By adjusting the n-gram size, we can analyze different levels of word dependencies in the text, providing insights into common word sequences and patterns.  \n",
    "\n",
    "The code below will generate unigrams when the NGramModel is implemented correctly"
   ]
  },
  {
   "cell_type": "code",
   "execution_count": null,
   "metadata": {},
   "outputs": [
    {
     "name": "stdout",
     "output_type": "stream",
     "text": [
      "Most frequent unigrams: [(('<s>',), 0.08272692454998085), (('</s>',), 0.08272692454998085), (('the',), 0.04902336269628495), ((',',), 0.0337035618536959), (('of',), 0.025660666411336654), (('to',), 0.02106472615855994), (('a',), 0.019149751053236307), (('and',), 0.015319800842589047), (('in',), 0.01493680582152432), (('``',), 0.013404825737265416)]\n"
     ]
    }
   ],
   "source": [
    "n = 1  # You can change this to 1, 2, or 3 for uni, bi, or trigrams\n",
    "model = NGramModel(corpus, n)\n",
    "\n",
    "tokens = model.tokenize()\n",
    "ngrams = model.generate_ngrams(tokens)\n",
    "model.count_frequencies()\n",
    "model.calculate_probabilities()\n",
    "\n",
    "write_freqs(model.most_frequent_ngrams(10), 'unigrams')\n",
    "print(\"Most frequent unigrams:\", model.most_frequent_ngrams(10))"
   ]
  },
  {
   "cell_type": "markdown",
   "metadata": {},
   "source": [
    "### Bigrams\n",
    "Bigrams allow us to explore word pairs and their relationships, providing insight into common word combinations and phrase structures within the corpus.  \n",
    "The code below will generate bigrams when the NGramModel is implemented correctly."
   ]
  },
  {
   "cell_type": "code",
   "execution_count": null,
   "metadata": {},
   "outputs": [
    {
     "name": "stdout",
     "output_type": "stream",
     "text": [
      "Most frequent bigrams: [(('</s>', '<s>'), 0.99), (('<s>', '</s>'), 0.41203703703703703), (('<s>', 'The'), 0.125), ((',', 'the'), 0.18181818181818182), (('in', 'the'), 0.38461538461538464), ((\"''\", '</s>'), 0.4411764705882353), (('of', 'the'), 0.208955223880597), (('<s>', '``'), 0.037037037037037035), ((\"''\", ','), 0.20588235294117646), (('the', 'jury'), 0.0546875)]\n"
     ]
    }
   ],
   "source": [
    "n = 2  # You can change this to 1, 2, or 3 for uni, bi, or trigrams\n",
    "model = NGramModel(corpus, n)\n",
    "\n",
    "tokens = model.tokenize()\n",
    "ngrams = model.generate_ngrams(tokens)\n",
    "model.count_frequencies()\n",
    "model.calculate_probabilities()\n",
    "\n",
    "write_freqs(model.most_frequent_ngrams(10), 'bigrams')\n",
    "print(\"Most frequent bigrams:\", model.most_frequent_ngrams(10))"
   ]
  },
  {
   "cell_type": "markdown",
   "metadata": {},
   "source": [
    "### Trigrams\n",
    "Trigrams capture three-word sequences, providing a deeper understanding of longer word dependencies and commonly occurring phrases within the text.  \n",
    "The code below will generate trigrams when the NGramModel is implemented correctly"
   ]
  },
  {
   "cell_type": "code",
   "execution_count": null,
   "metadata": {},
   "outputs": [
    {
     "name": "stdout",
     "output_type": "stream",
     "text": [
      "Most frequent trigrams: [(('<s>', '</s>', '<s>'), 0.9887640449438202), (('</s>', '<s>', 'The'), 0.26262626262626265), (('</s>', '<s>', '``'), 0.08080808080808081), ((',', 'the', 'jury'), 0.4375), (('<s>', 'The', 'jury'), 0.2222222222222222), ((\"''\", ',', 'the'), 0.8571428571428571), (('</s>', '<s>', 'It'), 0.06060606060606061), (('the', 'jury', 'said'), 0.7142857142857143), (('</s>', '<s>', 'A'), 0.04040404040404041), (('jury', 'said', ','), 0.42857142857142855)]\n"
     ]
    }
   ],
   "source": [
    "n = 3  # You can change this to 1, 2, or 3 for uni, bi, or trigrams\n",
    "model = NGramModel(corpus, n)\n",
    "\n",
    "tokens = model.tokenize()\n",
    "ngrams = model.generate_ngrams(tokens)\n",
    "model.count_frequencies()\n",
    "model.calculate_probabilities()\n",
    "\n",
    "write_freqs(model.most_frequent_ngrams(10), 'trigrams')\n",
    "print(\"Most frequent trigrams:\", model.most_frequent_ngrams(10))"
   ]
  },
  {
   "cell_type": "markdown",
   "metadata": {},
   "source": [
    "### Smoothing\n",
    "Below, we generate **bigrams** with **smoothing** applied by setting `n = 2` and including a smoothing parameter `alpha = 1.0`. Smoothing is useful in language models to handle unseen n-grams by assigning a small probability to them. The model tokenizes the text, generates bigrams, counts their frequencies, and calculates smoothed probabilities. The most frequent bigrams are then written to an output file.\n",
    "\n",
    "\n",
    "\n"
   ]
  },
  {
   "cell_type": "code",
   "execution_count": null,
   "metadata": {},
   "outputs": [],
   "source": [
    "n = 2  # You can change this to 1, 2, or 3 for uni, bi, or trigrams\n",
    "model = NGramModel(corpus, n, alpha=1.0)\n",
    "\n",
    "tokens = model.tokenize()\n",
    "ngrams = model.generate_ngrams(tokens)\n",
    "model.count_frequencies()\n",
    "model.calculate_probabilities()\n",
    "\n",
    "write_freqs(model.most_frequent_ngrams(10), 'bigrams_smoothed')"
   ]
  },
  {
   "cell_type": "markdown",
   "metadata": {},
   "source": [
    "### Generating Text\n",
    "In this example, we generate text using the **bigrams** model by providing a starting **prompt** (e.g., \"the jury\"). The `generate_text` function creates a sequence of words based on the trained bigram model, starting from the provided prompt and continuing based on the probabilities of the next words.\n",
    "\n",
    "After tokenizing the corpus, generating bigrams, and calculating their frequencies and probabilities, the model uses these learned probabilities to generate text. The generated output is then written to a file.\n",
    "\n",
    "Text generation with n-grams helps illustrate how language models can predict word sequences, allowing us to create new sentences that follow similar patterns found in the original text."
   ]
  },
  {
   "cell_type": "code",
   "execution_count": null,
   "metadata": {},
   "outputs": [],
   "source": [
    "def generate_text(model: NGramModel, n: int, prompt: str) -> str:\n",
    "    # Generate text based on the n-gram model and a given prompt.\n",
    "    if n != model.n:\n",
    "        raise ValueError(f\"Model is built for n={model.n}, but n={n} was provided.\")\n",
    "    if not prompt:\n",
    "        raise ValueError(\"Prompt is empty. Please provide a valid prompt.\")\n",
    "    generated_tokens = prompt.split()\n",
    "    for i in range(15):\n",
    "        if len(generated_tokens) < n-1:\n",
    "            continue\n",
    "        # Get the last n-1 tokens to form the context for prediction\n",
    "        prev_tokens= tuple(generated_tokens[-(n-1):])\n",
    "        # Get the probabilities of the next token given the previous n-1 tokens\n",
    "        next_token_probs = {key_dictionary: prob_value_dictionary for key_dictionary, prob_value_dictionary in model.probabilities.items() if key_dictionary[:-1] == prev_tokens}\n",
    "        if not next_token_probs:\n",
    "            break  # No more tokens can be generated\n",
    "        \n",
    "        next_token = max(next_token_probs, key=next_token_probs.get)[-1]\n",
    "        # Append the next token to the generated tokens\n",
    "        if next_token == '</s>':\n",
    "            break\n",
    "        generated_tokens.append(next_token)\n",
    "    \n",
    "    return ' '.join(generated_tokens)\n",
    "   \n",
    "tokens = model.tokenize()\n",
    "ngrams = model.generate_ngrams(tokens)\n",
    "model.count_frequencies()\n",
    "model.calculate_probabilities()\n",
    "generated_text = generate_text(model, 2, 'the jury')\n",
    "with open(f'./results/generated_bigrams.txt', 'w') as file_:\n",
    "    file_.write(generated_text)"
   ]
  },
  {
   "cell_type": "markdown",
   "metadata": {},
   "source": [
    "## Word Vectors\n",
    "Based on the Stanford course: https://web.stanford.edu/class/cs224n/"
   ]
  },
  {
   "cell_type": "markdown",
   "metadata": {},
   "source": [
    "### Count based W2V\n",
    "In this section, we use the previously trained **n-gram model** to calculate a **co-occurrence matrix**. A co-occurrence matrix shows how often words appear together within a specific context (in this case, bigrams), providing insights into word relationships in the corpus.\n",
    "\n",
    "Steps:\n",
    "1. **Tokenization and N-gram Generation**: We first tokenize the text and generate bigrams using the `NGramModel`.\n",
    "2. **Vocabulary and Indexing**: The vocabulary is created from the unique tokens, and a word-to-index mapping is established.\n",
    "3. **Co-occurrence Matrix**: Using the generated n-grams, we compute the co-occurrence matrix, where each entry represents how often two words occur together within the bigrams.\n",
    "\n",
    "The co-occurrence matrix provides a numerical representation of word relationships, which is useful for tasks like word embeddings, semantic analysis, and understanding word associations."
   ]
  },
  {
   "cell_type": "code",
   "execution_count": 18,
   "metadata": {},
   "outputs": [
    {
     "name": "stdout",
     "output_type": "stream",
     "text": [
      "Generated n-grams: [('<s>', '<s>'), ('<s>', 'The'), ('The', 'Fulton'), ('Fulton', 'County'), ('County', 'Grand'), ('Grand', 'Jury'), ('Jury', 'said'), ('said', 'Friday'), ('Friday', 'an'), ('an', 'investigation'), ('investigation', 'of'), ('of', \"Atlanta's\"), (\"Atlanta's\", 'recent'), ('recent', 'primary'), ('primary', 'election'), ('election', 'produced'), ('produced', '``'), ('``', 'no'), ('no', 'evidence'), ('evidence', \"''\"), (\"''\", 'that'), ('that', 'any'), ('any', 'irregularities'), ('irregularities', 'took'), ('took', 'place'), ('place', '</s>'), ('<s>', '</s>'), ('</s>', '<s>'), ('<s>', 'The'), ('The', 'jury'), ('jury', 'further'), ('further', 'said'), ('said', 'in'), ('in', 'term-end'), ('term-end', 'presentments'), ('presentments', 'that'), ('that', 'the'), ('the', 'City'), ('City', 'Executive'), ('Executive', 'Committee'), ('Committee', ','), (',', 'which'), ('which', 'had'), ('had', 'over-all'), ('over-all', 'charge'), ('charge', 'of'), ('of', 'the'), ('the', 'election'), ('election', ','), (',', '``'), ('``', 'deserves'), ('deserves', 'the'), ('the', 'praise'), ('praise', 'and'), ('and', 'thanks'), ('thanks', 'of'), ('of', 'the'), ('the', 'City'), ('City', 'of'), ('of', 'Atlanta'), ('Atlanta', \"''\"), (\"''\", 'for'), ('for', 'the'), ('the', 'manner'), ('manner', 'in'), ('in', 'which'), ('which', 'the'), ('the', 'election'), ('election', 'was'), ('was', 'conducted'), ('conducted', '</s>'), ('<s>', '</s>'), ('</s>', '<s>'), ('<s>', 'The'), ('The', 'September-October'), ('September-October', 'term'), ('term', 'jury'), ('jury', 'had'), ('had', 'been'), ('been', 'charged'), ('charged', 'by'), ('by', 'Fulton'), ('Fulton', 'Superior'), ('Superior', 'Court'), ('Court', 'Judge'), ('Judge', 'Durwood'), ('Durwood', 'Pye'), ('Pye', 'to'), ('to', 'investigate'), ('investigate', 'reports'), ('reports', 'of'), ('of', 'possible'), ('possible', '``'), ('``', 'irregularities'), ('irregularities', \"''\"), (\"''\", 'in'), ('in', 'the'), ('the', 'hard-fought'), ('hard-fought', 'primary'), ('primary', 'which'), ('which', 'was'), ('was', 'won'), ('won', 'by'), ('by', 'Mayor-nominate'), ('Mayor-nominate', 'Ivan'), ('Ivan', 'Allen'), ('Allen', 'Jr'), ('Jr', '</s>'), ('<s>', '</s>'), ('</s>', '<s>'), ('<s>', '``'), ('``', 'Only'), ('Only', 'a'), ('a', 'relative'), ('relative', 'handful'), ('handful', 'of'), ('of', 'such'), ('such', 'reports'), ('reports', 'was'), ('was', 'received'), ('received', \"''\"), (\"''\", ','), (',', 'the'), ('the', 'jury'), ('jury', 'said'), ('said', ','), (',', '``'), ('``', 'considering'), ('considering', 'the'), ('the', 'widespread'), ('widespread', 'interest'), ('interest', 'in'), ('in', 'the'), ('the', 'election'), ('election', ','), (',', 'the'), ('the', 'number'), ('number', 'of'), ('of', 'voters'), ('voters', 'and'), ('and', 'the'), ('the', 'size'), ('size', 'of'), ('of', 'this'), ('this', 'city'), ('city', \"''\"), (\"''\", '</s>'), ('<s>', '</s>'), ('</s>', '<s>'), ('<s>', 'The'), ('The', 'jury'), ('jury', 'said'), ('said', 'it'), ('it', 'did'), ('did', 'find'), ('find', 'that'), ('that', 'many'), ('many', 'of'), ('of', \"Georgia's\"), (\"Georgia's\", 'registration'), ('registration', 'and'), ('and', 'election'), ('election', 'laws'), ('laws', '``'), ('``', 'are'), ('are', 'outmoded'), ('outmoded', 'or'), ('or', 'inadequate'), ('inadequate', 'and'), ('and', 'often'), ('often', 'ambiguous'), ('ambiguous', \"''\"), (\"''\", '</s>'), ('<s>', '</s>'), ('</s>', '<s>'), ('<s>', 'It'), ('It', 'recommended'), ('recommended', 'that'), ('that', 'Fulton'), ('Fulton', 'legislators'), ('legislators', 'act'), ('act', '``'), ('``', 'to'), ('to', 'have'), ('have', 'these'), ('these', 'laws'), ('laws', 'studied'), ('studied', 'and'), ('and', 'revised'), ('revised', 'to'), ('to', 'the'), ('the', 'end'), ('end', 'of'), ('of', 'modernizing'), ('modernizing', 'and'), ('and', 'improving'), ('improving', 'them'), ('them', \"''\"), (\"''\", '</s>'), ('<s>', '</s>'), ('</s>', '<s>'), ('<s>', 'The'), ('The', 'grand'), ('grand', 'jury'), ('jury', 'commented'), ('commented', 'on'), ('on', 'a'), ('a', 'number'), ('number', 'of'), ('of', 'other'), ('other', 'topics'), ('topics', ','), (',', 'among'), ('among', 'them'), ('them', 'the'), ('the', 'Atlanta'), ('Atlanta', 'and'), ('and', 'Fulton'), ('Fulton', 'County'), ('County', 'purchasing'), ('purchasing', 'departments'), ('departments', 'which'), ('which', 'it'), ('it', 'said'), ('said', '``'), ('``', 'are'), ('are', 'well'), ('well', 'operated'), ('operated', 'and'), ('and', 'follow'), ('follow', 'generally'), ('generally', 'accepted'), ('accepted', 'practices'), ('practices', 'which'), ('which', 'inure'), ('inure', 'to'), ('to', 'the'), ('the', 'best'), ('best', 'interest'), ('interest', 'of'), ('of', 'both'), ('both', 'governments'), ('governments', \"''\"), (\"''\", '</s>'), ('<s>', '</s>'), ('</s>', '<s>'), ('<s>', 'Merger'), ('Merger', 'proposed'), ('proposed', '</s>'), ('</s>', '<s>'), ('<s>', 'However'), ('However', ','), (',', 'the'), ('the', 'jury'), ('jury', 'said'), ('said', 'it'), ('it', 'believes'), ('believes', '``'), ('``', 'these'), ('these', 'two'), ('two', 'offices'), ('offices', 'should'), ('should', 'be'), ('be', 'combined'), ('combined', 'to'), ('to', 'achieve'), ('achieve', 'greater'), ('greater', 'efficiency'), ('efficiency', 'and'), ('and', 'reduce'), ('reduce', 'the'), ('the', 'cost'), ('cost', 'of'), ('of', 'administration'), ('administration', \"''\"), (\"''\", '</s>'), ('<s>', '</s>'), ('</s>', '<s>'), ('<s>', 'The'), ('The', 'City'), ('City', 'Purchasing'), ('Purchasing', 'Department'), ('Department', ','), (',', 'the'), ('the', 'jury'), ('jury', 'said'), ('said', ','), (',', '``'), ('``', 'is'), ('is', 'lacking'), ('lacking', 'in'), ('in', 'experienced'), ('experienced', 'clerical'), ('clerical', 'personnel'), ('personnel', 'as'), ('as', 'a'), ('a', 'result'), ('result', 'of'), ('of', 'city'), ('city', 'personnel'), ('personnel', 'policies'), ('policies', \"''\"), (\"''\", '</s>'), ('<s>', '</s>'), ('</s>', '<s>'), ('<s>', 'It'), ('It', 'urged'), ('urged', 'that'), ('that', 'the'), ('the', 'city'), ('city', '``'), ('``', 'take'), ('take', 'steps'), ('steps', 'to'), ('to', 'remedy'), ('remedy', \"''\"), (\"''\", 'this'), ('this', 'problem'), ('problem', '</s>'), ('<s>', '</s>'), ('</s>', '<s>'), ('<s>', 'Implementation'), ('Implementation', 'of'), ('of', \"Georgia's\"), (\"Georgia's\", 'automobile'), ('automobile', 'title'), ('title', 'law'), ('law', 'was'), ('was', 'also'), ('also', 'recommended'), ('recommended', 'by'), ('by', 'the'), ('the', 'outgoing'), ('outgoing', 'jury'), ('jury', '</s>'), ('<s>', '</s>'), ('</s>', '<s>'), ('<s>', 'It'), ('It', 'urged'), ('urged', 'that'), ('that', 'the'), ('the', 'next'), ('next', 'Legislature'), ('Legislature', '``'), ('``', 'provide'), ('provide', 'enabling'), ('enabling', 'funds'), ('funds', 'and'), ('and', 're-set'), ('re-set', 'the'), ('the', 'effective'), ('effective', 'date'), ('date', 'so'), ('so', 'that'), ('that', 'an'), ('an', 'orderly'), ('orderly', 'implementation'), ('implementation', 'of'), ('of', 'the'), ('the', 'law'), ('law', 'may'), ('may', 'be'), ('be', 'effected'), ('effected', \"''\"), (\"''\", '</s>'), ('<s>', '</s>'), ('</s>', '<s>'), ('<s>', 'The'), ('The', 'grand'), ('grand', 'jury'), ('jury', 'took'), ('took', 'a'), ('a', 'swipe'), ('swipe', 'at'), ('at', 'the'), ('the', 'State'), ('State', 'Welfare'), ('Welfare', \"Department's\"), (\"Department's\", 'handling'), ('handling', 'of'), ('of', 'federal'), ('federal', 'funds'), ('funds', 'granted'), ('granted', 'for'), ('for', 'child'), ('child', 'welfare'), ('welfare', 'services'), ('services', 'in'), ('in', 'foster'), ('foster', 'homes'), ('homes', '</s>'), ('<s>', '</s>'), ('</s>', '<s>'), ('<s>', '``'), ('``', 'This'), ('This', 'is'), ('is', 'one'), ('one', 'of'), ('of', 'the'), ('the', 'major'), ('major', 'items'), ('items', 'in'), ('in', 'the'), ('the', 'Fulton'), ('Fulton', 'County'), ('County', 'general'), ('general', 'assistance'), ('assistance', 'program'), ('program', \"''\"), (\"''\", ','), (',', 'the'), ('the', 'jury'), ('jury', 'said'), ('said', ','), (',', 'but'), ('but', 'the'), ('the', 'State'), ('State', 'Welfare'), ('Welfare', 'Department'), ('Department', '``'), ('``', 'has'), ('has', 'seen'), ('seen', 'fit'), ('fit', 'to'), ('to', 'distribute'), ('distribute', 'these'), ('these', 'funds'), ('funds', 'through'), ('through', 'the'), ('the', 'welfare'), ('welfare', 'departments'), ('departments', 'of'), ('of', 'all'), ('all', 'the'), ('the', 'counties'), ('counties', 'in'), ('in', 'the'), ('the', 'state'), ('state', 'with'), ('with', 'the'), ('the', 'exception'), ('exception', 'of'), ('of', 'Fulton'), ('Fulton', 'County'), ('County', ','), (',', 'which'), ('which', 'receives'), ('receives', 'none'), ('none', 'of'), ('of', 'this'), ('this', 'money'), ('money', '</s>'), ('<s>', '</s>'), ('</s>', '<s>'), ('<s>', 'The'), ('The', 'jurors'), ('jurors', 'said'), ('said', 'they'), ('they', 'realize'), ('realize', '``'), ('``', 'a'), ('a', 'proportionate'), ('proportionate', 'distribution'), ('distribution', 'of'), ('of', 'these'), ('these', 'funds'), ('funds', 'might'), ('might', 'disable'), ('disable', 'this'), ('this', 'program'), ('program', 'in'), ('in', 'our'), ('our', 'less'), ('less', 'populous'), ('populous', 'counties'), ('counties', \"''\"), (\"''\", '</s>'), ('<s>', '</s>'), ('</s>', '<s>'), ('<s>', 'Nevertheless'), ('Nevertheless', ','), (',', '``'), ('``', 'we'), ('we', 'feel'), ('feel', 'that'), ('that', 'in'), ('in', 'the'), ('the', 'future'), ('future', 'Fulton'), ('Fulton', 'County'), ('County', 'should'), ('should', 'receive'), ('receive', 'some'), ('some', 'portion'), ('portion', 'of'), ('of', 'these'), ('these', 'available'), ('available', 'funds'), ('funds', \"''\"), (\"''\", ','), (',', 'the'), ('the', 'jurors'), ('jurors', 'said'), ('said', '</s>'), ('<s>', '</s>'), ('</s>', '<s>'), ('<s>', '``'), ('``', 'Failure'), ('Failure', 'to'), ('to', 'do'), ('do', 'this'), ('this', 'will'), ('will', 'continue'), ('continue', 'to'), ('to', 'place'), ('place', 'a'), ('a', 'disproportionate'), ('disproportionate', 'burden'), ('burden', \"''\"), (\"''\", 'on'), ('on', 'Fulton'), ('Fulton', 'taxpayers'), ('taxpayers', '</s>'), ('<s>', '</s>'), ('</s>', '<s>'), ('<s>', 'The'), ('The', 'jury'), ('jury', 'also'), ('also', 'commented'), ('commented', 'on'), ('on', 'the'), ('the', 'Fulton'), ('Fulton', \"ordinary's\"), (\"ordinary's\", 'court'), ('court', 'which'), ('which', 'has'), ('has', 'been'), ('been', 'under'), ('under', 'fire'), ('fire', 'for'), ('for', 'its'), ('its', 'practices'), ('practices', 'in'), ('in', 'the'), ('the', 'appointment'), ('appointment', 'of'), ('of', 'appraisers'), ('appraisers', ','), (',', 'guardians'), ('guardians', 'and'), ('and', 'administrators'), ('administrators', 'and'), ('and', 'the'), ('the', 'awarding'), ('awarding', 'of'), ('of', 'fees'), ('fees', 'and'), ('and', 'compensation'), ('compensation', '</s>'), ('<s>', '</s>'), ('</s>', '<s>'), ('<s>', 'Wards'), ('Wards', 'protected'), ('protected', '</s>'), ('</s>', '<s>'), ('<s>', 'The'), ('The', 'jury'), ('jury', 'said'), ('said', 'it'), ('it', 'found'), ('found', 'the'), ('the', 'court'), ('court', '``'), ('``', 'has'), ('has', 'incorporated'), ('incorporated', 'into'), ('into', 'its'), ('its', 'operating'), ('operating', 'procedures'), ('procedures', 'the'), ('the', 'recommendations'), ('recommendations', \"''\"), (\"''\", 'of'), ('of', 'two'), ('two', 'previous'), ('previous', 'grand'), ('grand', 'juries'), ('juries', ','), (',', 'the'), ('the', 'Atlanta'), ('Atlanta', 'Bar'), ('Bar', 'Association'), ('Association', 'and'), ('and', 'an'), ('an', 'interim'), ('interim', 'citizens'), ('citizens', 'committee'), ('committee', '</s>'), ('<s>', '</s>'), ('</s>', '<s>'), ('<s>', '``'), ('``', 'These'), ('These', 'actions'), ('actions', 'should'), ('should', 'serve'), ('serve', 'to'), ('to', 'protect'), ('protect', 'in'), ('in', 'fact'), ('fact', 'and'), ('and', 'in'), ('in', 'effect'), ('effect', 'the'), ('the', \"court's\"), (\"court's\", 'wards'), ('wards', 'from'), ('from', 'undue'), ('undue', 'costs'), ('costs', 'and'), ('and', 'its'), ('its', 'appointed'), ('appointed', 'and'), ('and', 'elected'), ('elected', 'servants'), ('servants', 'from'), ('from', 'unmeritorious'), ('unmeritorious', 'criticisms'), ('criticisms', \"''\"), (\"''\", ','), (',', 'the'), ('the', 'jury'), ('jury', 'said'), ('said', '</s>'), ('<s>', '</s>'), ('</s>', '<s>'), ('<s>', 'Regarding'), ('Regarding', \"Atlanta's\"), (\"Atlanta's\", 'new'), ('new', 'multi-million-dollar'), ('multi-million-dollar', 'airport'), ('airport', ','), (',', 'the'), ('the', 'jury'), ('jury', 'recommended'), ('recommended', '``'), ('``', 'that'), ('that', 'when'), ('when', 'the'), ('the', 'new'), ('new', 'management'), ('management', 'takes'), ('takes', 'charge'), ('charge', 'Jan'), ('Jan', '</s>'), ('<s>', '1'), ('1', 'the'), ('the', 'airport'), ('airport', 'be'), ('be', 'operated'), ('operated', 'in'), ('in', 'a'), ('a', 'manner'), ('manner', 'that'), ('that', 'will'), ('will', 'eliminate'), ('eliminate', 'political'), ('political', 'influences'), ('influences', \"''\"), (\"''\", '</s>'), ('<s>', '</s>'), ('</s>', '<s>'), ('<s>', 'The'), ('The', 'jury'), ('jury', 'did'), ('did', 'not'), ('not', 'elaborate'), ('elaborate', ','), (',', 'but'), ('but', 'it'), ('it', 'added'), ('added', 'that'), ('that', '``'), ('``', 'there'), ('there', 'should'), ('should', 'be'), ('be', 'periodic'), ('periodic', 'surveillance'), ('surveillance', 'of'), ('of', 'the'), ('the', 'pricing'), ('pricing', 'practices'), ('practices', 'of'), ('of', 'the'), ('the', 'concessionaires'), ('concessionaires', 'for'), ('for', 'the'), ('the', 'purpose'), ('purpose', 'of'), ('of', 'keeping'), ('keeping', 'the'), ('the', 'prices'), ('prices', 'reasonable'), ('reasonable', \"''\"), (\"''\", '</s>'), ('<s>', '</s>'), ('</s>', '<s>'), ('<s>', 'Ask'), ('Ask', 'jail'), ('jail', 'deputies'), ('deputies', '</s>'), ('</s>', '<s>'), ('<s>', 'On'), ('On', 'other'), ('other', 'matters'), ('matters', ','), (',', 'the'), ('the', 'jury'), ('jury', 'recommended'), ('recommended', 'that'), ('that', ':'), (':', '('), ('(', '1'), ('1', ')'), (')', '</s>'), ('</s>', '<s>'), ('<s>', 'Four'), ('Four', 'additional'), ('additional', 'deputies'), ('deputies', 'be'), ('be', 'employed'), ('employed', 'at'), ('at', 'the'), ('the', 'Fulton'), ('Fulton', 'County'), ('County', 'Jail'), ('Jail', 'and'), ('and', '``'), ('``', 'a'), ('a', 'doctor'), ('doctor', ','), (',', 'medical'), ('medical', 'intern'), ('intern', 'or'), ('or', 'extern'), ('extern', 'be'), ('be', 'employed'), ('employed', 'for'), ('for', 'night'), ('night', 'and'), ('and', 'weekend'), ('weekend', 'duty'), ('duty', 'at'), ('at', 'the'), ('the', 'jail'), ('jail', \"''\"), (\"''\", '</s>'), ('<s>', '</s>'), ('</s>', '<s>'), ('<s>', '('), ('(', '2'), ('2', ')'), (')', '</s>'), ('</s>', '<s>'), ('<s>', 'Fulton'), ('Fulton', 'legislators'), ('legislators', '``'), ('``', 'work'), ('work', 'with'), ('with', 'city'), ('city', 'officials'), ('officials', 'to'), ('to', 'pass'), ('pass', 'enabling'), ('enabling', 'legislation'), ('legislation', 'that'), ('that', 'will'), ('will', 'permit'), ('permit', 'the'), ('the', 'establishment'), ('establishment', 'of'), ('of', 'a'), ('a', 'fair'), ('fair', 'and'), ('and', 'equitable'), ('equitable', \"''\"), (\"''\", 'pension'), ('pension', 'plan'), ('plan', 'for'), ('for', 'city'), ('city', 'employes'), ('employes', '</s>'), ('<s>', '</s>'), ('</s>', '<s>'), ('<s>', 'The'), ('The', 'jury'), ('jury', 'praised'), ('praised', 'the'), ('the', 'administration'), ('administration', 'and'), ('and', 'operation'), ('operation', 'of'), ('of', 'the'), ('the', 'Atlanta'), ('Atlanta', 'Police'), ('Police', 'Department'), ('Department', ','), (',', 'the'), ('the', 'Fulton'), ('Fulton', 'Tax'), ('Tax', \"Commissioner's\"), (\"Commissioner's\", 'Office'), ('Office', ','), (',', 'the'), ('the', 'Bellwood'), ('Bellwood', 'and'), ('and', 'Alpharetta'), ('Alpharetta', 'prison'), ('prison', 'farms'), ('farms', ','), (',', 'Grady'), ('Grady', 'Hospital'), ('Hospital', 'and'), ('and', 'the'), ('the', 'Fulton'), ('Fulton', 'Health'), ('Health', 'Department'), ('Department', '</s>'), ('<s>', '</s>'), ('</s>', '<s>'), ('<s>', 'Mayor'), ('Mayor', 'William'), ('William', 'B'), ('B', '</s>'), ('<s>', 'Hartsfield'), ('Hartsfield', 'filed'), ('filed', 'suit'), ('suit', 'for'), ('for', 'divorce'), ('divorce', 'from'), ('from', 'his'), ('his', 'wife'), ('wife', ','), (',', 'Pearl'), ('Pearl', 'Williams'), ('Williams', 'Hartsfield'), ('Hartsfield', ','), (',', 'in'), ('in', 'Fulton'), ('Fulton', 'Superior'), ('Superior', 'Court'), ('Court', 'Friday'), ('Friday', '</s>'), ('<s>', '</s>'), ('</s>', '<s>'), ('<s>', 'His'), ('His', 'petition'), ('petition', 'charged'), ('charged', 'mental'), ('mental', 'cruelty'), ('cruelty', '</s>'), ('<s>', '</s>'), ('</s>', '<s>'), ('<s>', 'The'), ('The', 'couple'), ('couple', 'was'), ('was', 'married'), ('married', 'Aug'), ('Aug', '</s>'), ('<s>', '2'), ('2', ','), (',', '1913'), ('1913', '</s>'), ('<s>', '</s>'), ('</s>', '<s>'), ('<s>', 'They'), ('They', 'have'), ('have', 'a'), ('a', 'son'), ('son', ','), (',', 'William'), ('William', 'Berry'), ('Berry', 'Jr'), ('Jr', '</s>'), ('<s>', ','), (',', 'and'), ('and', 'a'), ('a', 'daughter'), ('daughter', ','), (',', 'Mrs'), ('Mrs', '</s>'), ('<s>', 'J'), ('J', '</s>'), ('<s>', 'M'), ('M', '</s>'), ('<s>', 'Cheshire'), ('Cheshire', 'of'), ('of', 'Griffin'), ('Griffin', '</s>'), ('<s>', '</s>'), ('</s>', '<s>'), ('<s>', 'Attorneys'), ('Attorneys', 'for'), ('for', 'the'), ('the', 'mayor'), ('mayor', 'said'), ('said', 'that'), ('that', 'an'), ('an', 'amicable'), ('amicable', 'property'), ('property', 'settlement'), ('settlement', 'has'), ('has', 'been'), ('been', 'agreed'), ('agreed', 'upon'), ('upon', '</s>'), ('<s>', '</s>'), ('</s>', '<s>'), ('<s>', 'The'), ('The', 'petition'), ('petition', 'listed'), ('listed', 'the'), ('the', \"mayor's\"), (\"mayor's\", 'occupation'), ('occupation', 'as'), ('as', '``'), ('``', 'attorney'), ('attorney', \"''\"), (\"''\", 'and'), ('and', 'his'), ('his', 'age'), ('age', 'as'), ('as', '71'), ('71', '</s>'), ('<s>', '</s>'), ('</s>', '<s>'), ('<s>', 'It'), ('It', 'listed'), ('listed', 'his'), ('his', \"wife's\"), (\"wife's\", 'age'), ('age', 'as'), ('as', '74'), ('74', 'and'), ('and', 'place'), ('place', 'of'), ('of', 'birth'), ('birth', 'as'), ('as', 'Opelika'), ('Opelika', ','), (',', 'Ala'), ('Ala', '</s>'), ('<s>', '</s>'), ('</s>', '<s>'), ('<s>', 'The'), ('The', 'petition'), ('petition', 'said'), ('said', 'that'), ('that', 'the'), ('the', 'couple'), ('couple', 'has'), ('has', 'not'), ('not', 'lived'), ('lived', 'together'), ('together', 'as'), ('as', 'man'), ('man', 'and'), ('and', 'wife'), ('wife', 'for'), ('for', 'more'), ('more', 'than'), ('than', 'a'), ('a', 'year'), ('year', '</s>'), ('<s>', '</s>'), ('</s>', '<s>'), ('<s>', 'The'), ('The', 'Hartsfield'), ('Hartsfield', 'home'), ('home', 'is'), ('is', 'at'), ('at', '637'), ('637', 'E'), ('E', '</s>'), ('<s>', 'Pelham'), ('Pelham', 'Rd'), ('Rd', '</s>'), ('<s>', 'Aj'), ('Aj', '</s>'), ('<s>', '</s>'), ('</s>', '<s>'), ('<s>', 'Henry'), ('Henry', 'L'), ('L', '</s>'), ('<s>', 'Bowden'), ('Bowden', 'was'), ('was', 'listed'), ('listed', 'on'), ('on', 'the'), ('the', 'petition'), ('petition', 'as'), ('as', 'the'), ('the', \"mayor's\"), (\"mayor's\", 'attorney'), ('attorney', '</s>'), ('<s>', '</s>'), ('</s>', '<s>'), ('<s>', 'Hartsfield'), ('Hartsfield', 'has'), ('has', 'been'), ('been', 'mayor'), ('mayor', 'of'), ('of', 'Atlanta'), ('Atlanta', ','), (',', 'with'), ('with', 'exception'), ('exception', 'of'), ('of', 'one'), ('one', 'brief'), ('brief', 'interlude'), ('interlude', ','), (',', 'since'), ('since', '1937'), ('1937', '</s>'), ('<s>', '</s>'), ('</s>', '<s>'), ('<s>', 'His'), ('His', 'political'), ('political', 'career'), ('career', 'goes'), ('goes', 'back'), ('back', 'to'), ('to', 'his'), ('his', 'election'), ('election', 'to'), ('to', 'city'), ('city', 'council'), ('council', 'in'), ('in', '1923'), ('1923', '</s>'), ('<s>', '</s>'), ('</s>', '<s>'), ('<s>', 'The'), ('The', \"mayor's\"), (\"mayor's\", 'present'), ('present', 'term'), ('term', 'of'), ('of', 'office'), ('office', 'expires'), ('expires', 'Jan'), ('Jan', '</s>'), ('<s>', '1'), ('1', '</s>'), ('<s>', '</s>'), ('</s>', '<s>'), ('<s>', 'He'), ('He', 'will'), ('will', 'be'), ('be', 'succeeded'), ('succeeded', 'by'), ('by', 'Ivan'), ('Ivan', 'Allen'), ('Allen', 'Jr'), ('Jr', '</s>'), ('<s>', ','), (',', 'who'), ('who', 'became'), ('became', 'a'), ('a', 'candidate'), ('candidate', 'in'), ('in', 'the'), ('the', 'Sept'), ('Sept', '</s>'), ('<s>', '13'), ('13', 'primary'), ('primary', 'after'), ('after', 'Mayor'), ('Mayor', 'Hartsfield'), ('Hartsfield', 'announced'), ('announced', 'that'), ('that', 'he'), ('he', 'would'), ('would', 'not'), ('not', 'run'), ('run', 'for'), ('for', 'reelection'), ('reelection', '</s>'), ('<s>', '</s>'), ('</s>', '<s>'), ('<s>', 'Georgia'), ('Georgia', 'Republicans'), ('Republicans', 'are'), ('are', 'getting'), ('getting', 'strong'), ('strong', 'encouragement'), ('encouragement', 'to'), ('to', 'enter'), ('enter', 'a'), ('a', 'candidate'), ('candidate', 'in'), ('in', 'the'), ('the', '1962'), ('1962', \"governor's\"), (\"governor's\", 'race'), ('race', ','), (',', 'a'), ('a', 'top'), ('top', 'official'), ('official', 'said'), ('said', 'Wednesday'), ('Wednesday', '</s>'), ('<s>', '</s>'), ('</s>', '<s>'), ('<s>', 'Robert'), ('Robert', 'Snodgrass'), ('Snodgrass', ','), (',', 'state'), ('state', 'GOP'), ('GOP', 'chairman'), ('chairman', ','), (',', 'said'), ('said', 'a'), ('a', 'meeting'), ('meeting', 'held'), ('held', 'Tuesday'), ('Tuesday', 'night'), ('night', 'in'), ('in', 'Blue'), ('Blue', 'Ridge'), ('Ridge', 'brought'), ('brought', 'enthusiastic'), ('enthusiastic', 'responses'), ('responses', 'from'), ('from', 'the'), ('the', 'audience'), ('audience', '</s>'), ('<s>', '</s>'), ('</s>', '<s>'), ('<s>', 'State'), ('State', 'Party'), ('Party', 'Chairman'), ('Chairman', 'James'), ('James', 'W'), ('W', '</s>'), ('<s>', 'Dorsey'), ('Dorsey', 'added'), ('added', 'that'), ('that', 'enthusiasm'), ('enthusiasm', 'was'), ('was', 'picking'), ('picking', 'up'), ('up', 'for'), ('for', 'a'), ('a', 'state'), ('state', 'rally'), ('rally', 'to'), ('to', 'be'), ('be', 'held'), ('held', 'Sept'), ('Sept', '</s>'), ('<s>', '8'), ('8', 'in'), ('in', 'Savannah'), ('Savannah', 'at'), ('at', 'which'), ('which', 'newly'), ('newly', 'elected'), ('elected', 'Texas'), ('Texas', 'Sen'), ('Sen', '</s>'), ('<s>', 'John'), ('John', 'Tower'), ('Tower', 'will'), ('will', 'be'), ('be', 'the'), ('the', 'featured'), ('featured', 'speaker'), ('speaker', '</s>'), ('<s>', '</s>'), ('</s>', '<s>'), ('<s>', 'In'), ('In', 'the'), ('the', 'Blue'), ('Blue', 'Ridge'), ('Ridge', 'meeting'), ('meeting', ','), (',', 'the'), ('the', 'audience'), ('audience', 'was'), ('was', 'warned'), ('warned', 'that'), ('that', 'entering'), ('entering', 'a'), ('a', 'candidate'), ('candidate', 'for'), ('for', 'governor'), ('governor', 'would'), ('would', 'force'), ('force', 'it'), ('it', 'to'), ('to', 'take'), ('take', 'petitions'), ('petitions', 'out'), ('out', 'into'), ('into', 'voting'), ('voting', 'precincts'), ('precincts', 'to'), ('to', 'obtain'), ('obtain', 'the'), ('the', 'signatures'), ('signatures', 'of'), ('of', 'registered'), ('registered', 'voters'), ('voters', '</s>'), ('<s>', '</s>'), ('</s>', '<s>'), ('<s>', 'Despite'), ('Despite', 'the'), ('the', 'warning'), ('warning', ','), (',', 'there'), ('there', 'was'), ('was', 'a'), ('a', 'unanimous'), ('unanimous', 'vote'), ('vote', 'to'), ('to', 'enter'), ('enter', 'a'), ('a', 'candidate'), ('candidate', ','), (',', 'according'), ('according', 'to'), ('to', 'Republicans'), ('Republicans', 'who'), ('who', 'attended'), ('attended', '</s>'), ('<s>', '</s>'), ('</s>', '<s>'), ('<s>', 'When'), ('When', 'the'), ('the', 'crowd'), ('crowd', 'was'), ('was', 'asked'), ('asked', 'whether'), ('whether', 'it'), ('it', 'wanted'), ('wanted', 'to'), ('to', 'wait'), ('wait', 'one'), ('one', 'more'), ('more', 'term'), ('term', 'to'), ('to', 'make'), ('make', 'the'), ('the', 'race'), ('race', ','), (',', 'it'), ('it', 'voted'), ('voted', 'no'), ('no', '--'), ('--', 'and'), ('and', 'there'), ('there', 'were'), ('were', 'no'), ('no', 'dissents'), ('dissents', '</s>'), ('<s>', '</s>'), ('</s>', '<s>'), ('<s>', 'The'), ('The', 'largest'), ('largest', 'hurdle'), ('hurdle', 'the'), ('the', 'Republicans'), ('Republicans', 'would'), ('would', 'have'), ('have', 'to'), ('to', 'face'), ('face', 'is'), ('is', 'a'), ('a', 'state'), ('state', 'law'), ('law', 'which'), ('which', 'says'), ('says', 'that'), ('that', 'before'), ('before', 'making'), ('making', 'a'), ('a', 'first'), ('first', 'race'), ('race', ','), (',', 'one'), ('one', 'of'), ('of', 'two'), ('two', 'alternative'), ('alternative', 'courses'), ('courses', 'must'), ('must', 'be'), ('be', 'taken'), ('taken', ':'), (':', '1'), ('1', '</s>'), ('</s>', '<s>'), ('<s>', 'Five'), ('Five', 'per'), ('per', 'cent'), ('cent', 'of'), ('of', 'the'), ('the', 'voters'), ('voters', 'in'), ('in', 'each'), ('each', 'county'), ('county', 'must'), ('must', 'sign'), ('sign', 'petitions'), ('petitions', 'requesting'), ('requesting', 'that'), ('that', 'the'), ('the', 'Republicans'), ('Republicans', 'be'), ('be', 'allowed'), ('allowed', 'to'), ('to', 'place'), ('place', 'names'), ('names', 'of'), ('of', 'candidates'), ('candidates', 'on'), ('on', 'the'), ('the', 'general'), ('general', 'election'), ('election', 'ballot'), ('ballot', ','), (',', 'or'), ('or', '2'), ('2', '</s>'), ('</s>', '<s>'), ('<s>', 'The'), ('The', 'Republicans'), ('Republicans', 'must'), ('must', 'hold'), ('hold', 'a'), ('a', 'primary'), ('primary', 'under'), ('under', 'the'), ('the', 'county'), ('county', 'unit'), ('unit', 'system'), ('system', '--'), ('--', 'a'), ('a', 'system'), ('system', 'which'), ('which', 'the'), ('the', 'party'), ('party', 'opposes'), ('opposes', 'in'), ('in', 'its'), ('its', 'platform'), ('platform', '</s>'), ('<s>', '</s>'), ('</s>', '<s>'), ('<s>', 'Sam'), ('Sam', 'Caldwell'), ('Caldwell', ','), (',', 'State'), ('State', 'Highway'), ('Highway', 'Department'), ('Department', 'public'), ('public', 'relations'), ('relations', 'director'), ('director', ','), (',', 'resigned'), ('resigned', 'Tuesday'), ('Tuesday', 'to'), ('to', 'work'), ('work', 'for'), ('for', 'Lt'), ('Lt', '</s>'), ('<s>', 'Gov'), ('Gov', '</s>'), ('<s>', 'Garland'), ('Garland', \"Byrd's\"), (\"Byrd's\", 'campaign'), ('campaign', '</s>'), ('<s>', '</s>'), ('</s>', '<s>'), ('<s>', \"Caldwell's\"), (\"Caldwell's\", 'resignation'), ('resignation', 'had'), ('had', 'been'), ('been', 'expected'), ('expected', 'for'), ('for', 'some'), ('some', 'time'), ('time', '</s>'), ('<s>', '</s>'), ('</s>', '<s>'), ('<s>', 'He'), ('He', 'will'), ('will', 'be'), ('be', 'succeeded'), ('succeeded', 'by'), ('by', 'Rob'), ('Rob', 'Ledford'), ('Ledford', 'of'), ('of', 'Gainesville'), ('Gainesville', ','), (',', 'who'), ('who', 'has'), ('has', 'been'), ('been', 'an'), ('an', 'assistant'), ('assistant', 'more'), ('more', 'than'), ('than', 'three'), ('three', 'years'), ('years', '</s>'), ('<s>', '</s>'), ('</s>', '<s>'), ('<s>', 'When'), ('When', 'the'), ('the', 'gubernatorial'), ('gubernatorial', 'campaign'), ('campaign', 'starts'), ('starts', ','), (',', 'Caldwell'), ('Caldwell', 'is'), ('is', 'expected'), ('expected', 'to'), ('to', 'become'), ('become', 'a'), ('a', 'campaign'), ('campaign', 'coordinator'), ('coordinator', 'for'), ('for', 'Byrd'), ('Byrd', '</s>'), ('<s>', '</s>'), ('</s>', '<s>'), ('<s>', 'The'), ('The', 'Georgia'), ('Georgia', 'Legislature'), ('Legislature', 'will'), ('will', 'wind'), ('wind', 'up'), ('up', 'its'), ('its', '1961'), ('1961', 'session'), ('session', 'Monday'), ('Monday', 'and'), ('and', 'head'), ('head', 'for'), ('for', 'home'), ('home', '--'), ('--', 'where'), ('where', 'some'), ('some', 'of'), ('of', 'the'), ('the', 'highway'), ('highway', 'bond'), ('bond', 'money'), ('money', 'it'), ('it', 'approved'), ('approved', 'will'), ('will', 'follow'), ('follow', 'shortly'), ('shortly', '</s>'), ('<s>', '</s>'), ('</s>', '<s>'), ('<s>', 'Before'), ('Before', 'adjournment'), ('adjournment', 'Monday'), ('Monday', 'afternoon'), ('afternoon', ','), (',', 'the'), ('the', 'Senate'), ('Senate', 'is'), ('is', 'expected'), ('expected', 'to'), ('to', 'approve'), ('approve', 'a'), ('a', 'study'), ('study', 'of'), ('of', 'the'), ('the', 'number'), ('number', 'of'), ('of', 'legislators'), ('legislators', 'allotted'), ('allotted', 'to'), ('to', 'rural'), ('rural', 'and'), ('and', 'urban'), ('urban', 'areas'), ('areas', 'to'), ('to', 'determine'), ('determine', 'what'), ('what', 'adjustments'), ('adjustments', 'should'), ('should', 'be'), ('be', 'made'), ('made', '</s>'), ('<s>', '</s>'), ('</s>', '<s>'), ('<s>', 'Gov'), ('Gov', '</s>'), ('<s>', 'Vandiver'), ('Vandiver', 'is'), ('is', 'expected'), ('expected', 'to'), ('to', 'make'), ('make', 'the'), ('the', 'traditional'), ('traditional', 'visit'), ('visit', 'to'), ('to', 'both'), ('both', 'chambers'), ('chambers', 'as'), ('as', 'they'), ('they', 'work'), ('work', 'toward'), ('toward', 'adjournment'), ('adjournment', '</s>'), ('<s>', '</s>'), ('</s>', '<s>'), ('<s>', 'Vandiver'), ('Vandiver', 'likely'), ('likely', 'will'), ('will', 'mention'), ('mention', 'the'), ('the', '$100'), ('$100', 'million'), ('million', 'highway'), ('highway', 'bond'), ('bond', 'issue'), ('issue', 'approved'), ('approved', 'earlier'), ('earlier', 'in'), ('in', 'the'), ('the', 'session'), ('session', 'as'), ('as', 'his'), ('his', 'first'), ('first', 'priority'), ('priority', 'item'), ('item', '</s>'), ('<s>', '</s>'), ('</s>', '<s>'), ('<s>', 'Construction'), ('Construction', 'bonds'), ('bonds', '</s>'), ('</s>', '<s>'), ('<s>', 'Meanwhile'), ('Meanwhile', ','), (',', 'it'), ('it', 'was'), ('was', 'learned'), ('learned', 'the'), ('the', 'State'), ('State', 'Highway'), ('Highway', 'Department'), ('Department', 'is'), ('is', 'very'), ('very', 'near'), ('near', 'being'), ('being', 'ready'), ('ready', 'to'), ('to', 'issue'), ('issue', 'the'), ('the', 'first'), ('first', '$30'), ('$30', 'million'), ('million', 'worth'), ('worth', 'of'), ('of', 'highway'), ('highway', 'reconstruction'), ('reconstruction', 'bonds'), ('bonds', '</s>'), ('<s>', '</s>'), ('</s>', '<s>'), ('<s>', 'The'), ('The', 'bond'), ('bond', 'issue'), ('issue', 'will'), ('will', 'go'), ('go', 'to'), ('to', 'the'), ('the', 'state'), ('state', 'courts'), ('courts', 'for'), ('for', 'a'), ('a', 'friendly'), ('friendly', 'test'), ('test', 'suit'), ('suit', 'to'), ('to', 'test'), ('test', 'the'), ('the', 'validity'), ('validity', 'of'), ('of', 'the'), ('the', 'act'), ('act', ','), (',', 'and'), ('and', 'then'), ('then', 'the'), ('the', 'sales'), ('sales', 'will'), ('will', 'begin'), ('begin', 'and'), ('and', 'contracts'), ('contracts', 'let'), ('let', 'for'), ('for', 'repair'), ('repair', 'work'), ('work', 'on'), ('on', 'some'), ('some', 'of'), ('of', \"Georgia's\"), (\"Georgia's\", 'most'), ('most', 'heavily'), ('heavily', 'traveled'), ('traveled', 'highways'), ('highways', '</s>'), ('<s>', '</s>'), ('</s>', '<s>'), ('<s>', 'A'), ('A', 'Highway'), ('Highway', 'Department'), ('Department', 'source'), ('source', 'said'), ('said', 'there'), ('there', 'also'), ('also', 'is'), ('is', 'a'), ('a', 'plan'), ('plan', 'there'), ('there', 'to'), ('to', 'issue'), ('issue', 'some'), ('some', '$3'), ('$3', 'million'), ('million', 'to'), ('to', '$4'), ('$4', 'million'), ('million', 'worth'), ('worth', 'of'), ('of', 'Rural'), ('Rural', 'Roads'), ('Roads', 'Authority'), ('Authority', 'bonds'), ('bonds', 'for'), ('for', 'rural'), ('rural', 'road'), ('road', 'construction'), ('construction', 'work'), ('work', '</s>'), ('<s>', '</s>'), ('</s>', '<s>'), ('<s>', 'A'), ('A', 'revolving'), ('revolving', 'fund'), ('fund', '</s>'), ('</s>', '<s>'), ('<s>', 'The'), ('The', 'department'), ('department', 'apparently'), ('apparently', 'intends'), ('intends', 'to'), ('to', 'make'), ('make', 'the'), ('the', 'Rural'), ('Rural', 'Roads'), ('Roads', 'Authority'), ('Authority', 'a'), ('a', 'revolving'), ('revolving', 'fund'), ('fund', 'under'), ('under', 'which'), ('which', 'new'), ('new', 'bonds'), ('bonds', 'would'), ('would', 'be'), ('be', 'issued'), ('issued', 'every'), ('every', 'time'), ('time', 'a'), ('a', 'portion'), ('portion', 'of'), ('of', 'the'), ('the', 'old'), ('old', 'ones'), ('ones', 'are'), ('are', 'paid'), ('paid', 'off'), ('off', 'by'), ('by', 'tax'), ('tax', 'authorities'), ('authorities', '</s>'), ('<s>', '</s>'), ('</s>', '<s>'), ('<s>', 'Vandiver'), ('Vandiver', 'opened'), ('opened', 'his'), ('his', 'race'), ('race', 'for'), ('for', 'governor'), ('governor', 'in'), ('in', '1958'), ('1958', 'with'), ('with', 'a'), ('a', 'battle'), ('battle', 'in'), ('in', 'the'), ('the', 'Legislature'), ('Legislature', 'against'), ('against', 'the'), ('the', 'issuance'), ('issuance', 'of'), ('of', '$50'), ('$50', 'million'), ('million', 'worth'), ('worth', 'of'), ('of', 'additional'), ('additional', 'rural'), ('rural', 'roads'), ('roads', 'bonds'), ('bonds', 'proposed'), ('proposed', 'by'), ('by', 'then'), ('then', 'Gov'), ('Gov', '</s>'), ('<s>', 'Marvin'), ('Marvin', 'Griffin'), ('Griffin', '</s>'), ('<s>', '</s>'), ('</s>', '<s>'), ('<s>', 'The'), ('The', 'Highway'), ('Highway', 'Department'), ('Department', 'source'), ('source', 'told'), ('told', 'The'), ('The', 'Constitution'), ('Constitution', ','), (',', 'however'), ('however', ','), (',', 'that'), ('that', 'Vandiver'), ('Vandiver', 'has'), ('has', 'not'), ('not', 'been'), ('been', 'consulted'), ('consulted', 'yet'), ('yet', 'about'), ('about', 'the'), ('the', 'plans'), ('plans', 'to'), ('to', 'issue'), ('issue', 'the'), ('the', 'new'), ('new', 'rural'), ('rural', 'roads'), ('roads', 'bonds'), ('bonds', '</s>'), ('<s>', '</s>'), ('</s>', '<s>'), ('<s>', 'Schley'), ('Schley', 'County'), ('County', 'Rep'), ('Rep', '</s>'), ('<s>', 'B'), ('B', '</s>'), ('<s>', 'D'), ('D', '</s>'), ('<s>', 'Pelham'), ('Pelham', 'will'), ('will', 'offer'), ('offer', 'a'), ('a', 'resolution'), ('resolution', 'Monday'), ('Monday', 'in'), ('in', 'the'), ('the', 'House'), ('House', 'to'), ('to', 'rescind'), ('rescind', 'the'), ('the', \"body's\"), (\"body's\", 'action'), ('action', 'of'), ('of', 'Friday'), ('Friday', 'in'), ('in', 'voting'), ('voting', 'itself'), ('itself', 'a'), ('a', '$10'), ('$10', 'per'), ('per', 'day'), ('day', 'increase'), ('increase', 'in'), ('in', 'expense'), ('expense', 'allowances'), ('allowances', '</s>'), ('<s>', '</s>'), ('</s>', '<s>'), ('<s>', 'Pelham'), ('Pelham', 'said'), ('said', 'Sunday'), ('Sunday', 'night'), ('night', 'there'), ('there', 'was'), ('was', 'research'), ('research', 'being'), ('being', 'done'), ('done', 'on'), ('on', 'whether'), ('whether', 'the'), ('the', '``'), ('``', 'quickie'), ('quickie', \"''\"), (\"''\", 'vote'), ('vote', 'on'), ('on', 'the'), ('the', 'increase'), ('increase', 'can'), ('can', 'be'), ('be', 'repealed'), ('repealed', 'outright'), ('outright', 'or'), ('or', 'whether'), ('whether', 'notice'), ('notice', 'would'), ('would', 'have'), ('have', 'to'), ('to', 'first'), ('first', 'be'), ('be', 'given'), ('given', 'that'), ('that', 'reconsideration'), ('reconsideration', 'of'), ('of', 'the'), ('the', 'action'), ('action', 'would'), ('would', 'be'), ('be', 'sought'), ('sought', '</s>'), ('<s>', '</s>'), ('</s>', '<s>'), ('<s>', 'While'), ('While', 'emphasizing'), ('emphasizing', 'that'), ('that', 'technical'), ('technical', 'details'), ('details', 'were'), ('were', 'not'), ('not', 'fully'), ('fully', 'worked'), ('worked', 'out'), ('out', ','), (',', 'Pelham'), ('Pelham', 'said'), ('said', 'his'), ('his', 'resolution'), ('resolution', 'would'), ('would', 'seek'), ('seek', 'to'), ('to', 'set'), ('set', 'aside'), ('aside', 'the'), ('the', 'privilege'), ('privilege', 'resolution'), ('resolution', 'which'), ('which', 'the'), ('the', 'House'), ('House', 'voted'), ('voted', 'through'), ('through', '87-31'), ('87-31', '</s>'), ('<s>', '</s>'), ('</s>', '<s>'), ('<s>', 'A'), ('A', 'similar'), ('similar', 'resolution'), ('resolution', 'passed'), ('passed', 'in'), ('in', 'the'), ('the', 'Senate'), ('Senate', 'by'), ('by', 'a'), ('a', 'vote'), ('vote', 'of'), ('of', '29-5'), ('29-5', '</s>'), ('<s>', '</s>'), ('</s>', '<s>'), ('<s>', 'As'), ('As', 'of'), ('of', 'Sunday'), ('Sunday', 'night'), ('night', ','), (',', 'there'), ('there', 'was'), ('was', 'no'), ('no', 'word'), ('word', 'of'), ('of', 'a'), ('a', 'resolution'), ('resolution', 'being'), ('being', 'offered'), ('offered', 'there'), ('there', 'to'), ('to', 'rescind'), ('rescind', 'the'), ('the', 'action'), ('action', '</s>'), ('<s>', '</s>'), ('</s>', '<s>'), ('<s>', 'Pelham'), ('Pelham', 'pointed'), ('pointed', 'out'), ('out', 'that'), ('that', 'Georgia'), ('Georgia', 'voters'), ('voters', 'last'), ('last', 'November'), ('November', 'rejected'), ('rejected', 'a'), ('a', 'constitutional'), ('constitutional', 'amendment'), ('amendment', 'to'), ('to', 'allow'), ('allow', 'legislators'), ('legislators', 'to'), ('to', 'vote'), ('vote', 'on'), ('on', 'pay'), ('pay', 'raises'), ('raises', 'for'), ('for', 'future'), ('future', 'Legislature'), ('Legislature', 'sessions'), ('sessions', '</s>'), ('<s>', '</s>'), ('</s>', '<s>'), ('<s>', 'A'), ('A', 'veteran'), ('veteran', 'Jackson'), ('Jackson', 'County'), ('County', 'legislator'), ('legislator', 'will'), ('will', 'ask'), ('ask', 'the'), ('the', 'Georgia'), ('Georgia', 'House'), ('House', 'Monday'), ('Monday', 'to'), ('to', 'back'), ('back', 'federal'), ('federal', 'aid'), ('aid', 'to'), ('to', 'education'), ('education', ','), (',', 'something'), ('something', 'it'), ('it', 'has'), ('has', 'consistently'), ('consistently', 'opposed'), ('opposed', 'in'), ('in', 'the'), ('the', 'past'), ('past', '</s>'), ('<s>', '</s>'), ('</s>', '<s>'), ('<s>', 'Rep'), ('Rep', '</s>'), ('<s>', 'Mac'), ('Mac', 'Barber'), ('Barber', 'of'), ('of', 'Commerce'), ('Commerce', 'is'), ('is', 'asking'), ('asking', 'the'), ('the', 'House'), ('House', 'in'), ('in', 'a'), ('a', 'privilege'), ('privilege', 'resolution'), ('resolution', 'to'), ('to', '``'), ('``', 'endorse'), ('endorse', 'increased'), ('increased', 'federal'), ('federal', 'support'), ('support', 'for'), ('for', 'public'), ('public', 'education'), ('education', ','), (',', 'provided'), ('provided', 'that'), ('that', 'such'), ('such', 'funds'), ('funds', 'be'), ('be', 'received'), ('received', 'and'), ('and', 'expended'), ('expended', \"''\"), (\"''\", 'as'), ('as', 'state'), ('state', 'funds'), ('funds', '</s>'), ('<s>', '</s>'), ('</s>', '<s>'), ('<s>', 'Barber'), ('Barber', ','), (',', 'who'), ('who', 'is'), ('is', 'in'), ('in', 'his'), ('his', '13th'), ('13th', 'year'), ('year', 'as'), ('as', 'a'), ('a', 'legislator'), ('legislator', ','), (',', 'said'), ('said', 'there'), ('there', '``'), ('``', 'are'), ('are', 'some'), ('some', 'members'), ('members', 'of'), ('of', 'our'), ('our', 'congressional'), ('congressional', 'delegation'), ('delegation', 'in'), ('in', 'Washington'), ('Washington', 'who'), ('who', 'would'), ('would', 'like'), ('like', 'to'), ('to', 'see'), ('see', 'it'), ('it', '('), ('(', 'the'), ('the', 'resolution'), ('resolution', ')'), (')', 'passed'), ('passed', \"''\"), (\"''\", '</s>'), ('<s>', '</s>'), ('</s>', '<s>'), ('<s>', 'But'), ('But', 'he'), ('he', 'added'), ('added', 'that'), ('that', 'none'), ('none', 'of'), ('of', \"Georgia's\"), (\"Georgia's\", 'congressmen'), ('congressmen', 'specifically'), ('specifically', 'asked'), ('asked', 'him'), ('him', 'to'), ('to', 'offer'), ('offer', 'the'), ('the', 'resolution'), ('resolution', '</s>'), ('<s>', '</s>'), ('</s>', '<s>'), ('<s>', 'The'), ('The', 'resolution'), ('resolution', ','), (',', 'which'), ('which', 'Barber'), ('Barber', 'tossed'), ('tossed', 'into'), ('into', 'the'), ('the', 'House'), ('House', 'hopper'), ('hopper', 'Friday'), ('Friday', ','), (',', 'will'), ('will', 'be'), ('be', 'formally'), ('formally', 'read'), ('read', 'Monday'), ('Monday', '</s>'), ('<s>', '</s>'), ('</s>', '<s>'), ('<s>', 'It'), ('It', 'says'), ('says', 'that'), ('that', '``'), ('``', 'in'), ('in', 'the'), ('the', 'event'), ('event', 'Congress'), ('Congress', 'does'), ('does', 'provide'), ('provide', 'this'), ('this', 'increase'), ('increase', 'in'), ('in', 'federal'), ('federal', 'funds'), ('funds', \"''\"), (\"''\", ','), (',', 'the'), ('the', 'State'), ('State', 'Board'), ('Board', 'of'), ('of', 'Education'), ('Education', 'should'), ('should', 'be'), ('be', 'directed'), ('directed', 'to'), ('to', '``'), ('``', 'give'), ('give', 'priority'), ('priority', \"''\"), (\"''\", 'to'), ('to', 'teacher'), ('teacher', 'pay'), ('pay', 'raises'), ('raises', '</s>'), ('<s>', '</s>'), ('</s>', '<s>'), ('<s>', 'Colquitt'), ('Colquitt', '</s>'), ('</s>', '<s>'), ('<s>', '--'), ('--', 'After'), ('After', 'a'), ('a', 'long'), ('long', ','), (',', 'hot'), ('hot', 'controversy'), ('controversy', ','), (',', 'Miller'), ('Miller', 'County'), ('County', 'has'), ('has', 'a'), ('a', 'new'), ('new', 'school'), ('school', 'superintendent'), ('superintendent', ','), (',', 'elected'), ('elected', ','), (',', 'as'), ('as', 'a'), ('a', 'policeman'), ('policeman', 'put'), ('put', 'it'), ('it', ','), (',', 'in'), ('in', 'the'), ('the', '``'), ('``', 'coolest'), ('coolest', 'election'), ('election', 'I'), ('I', 'ever'), ('ever', 'saw'), ('saw', 'in'), ('in', 'this'), ('this', 'county'), ('county', \"''\"), (\"''\", '</s>'), ('<s>', '</s>'), ('</s>', '<s>'), ('<s>', 'The'), ('The', 'new'), ('new', 'school'), ('school', 'superintendent'), ('superintendent', 'is'), ('is', 'Harry'), ('Harry', 'Davis'), ('Davis', ','), (',', 'a'), ('a', 'veteran'), ('veteran', 'agriculture'), ('agriculture', 'teacher'), ('teacher', ','), (',', 'who'), ('who', 'defeated'), ('defeated', 'Felix'), ('Felix', 'Bush'), ('Bush', ','), (',', 'a'), ('a', 'school'), ('school', 'principal'), ('principal', 'and'), ('and', 'chairman'), ('chairman', 'of'), ('of', 'the'), ('the', 'Miller'), ('Miller', 'County'), ('County', 'Democratic'), ('Democratic', 'Executive'), ('Executive', 'Committee'), ('Committee', '</s>'), ('<s>', '</s>'), ('</s>', '<s>'), ('<s>', 'Davis'), ('Davis', 'received'), ('received', '1,119'), ('1,119', 'votes'), ('votes', 'in'), ('in', \"Saturday's\"), (\"Saturday's\", 'election'), ('election', ','), (',', 'and'), ('and', 'Bush'), ('Bush', 'got'), ('got', '402'), ('402', '</s>'), ('<s>', '</s>'), ('</s>', '<s>'), ('<s>', 'Ordinary'), ('Ordinary', 'Carey'), ('Carey', 'Williams'), ('Williams', ','), (',', 'armed'), ('armed', 'with'), ('with', 'a'), ('a', 'pistol'), ('pistol', ','), (',', 'stood'), ('stood', 'by'), ('by', 'at'), ('at', 'the'), ('the', 'polls'), ('polls', 'to'), ('to', 'insure'), ('insure', 'order'), ('order', '</s>'), ('<s>', '</s>'), ('</s>', '<s>'), ('<s>', '``'), ('``', 'This'), ('This', 'was'), ('was', 'the'), ('the', 'coolest'), ('coolest', ','), (',', 'calmest'), ('calmest', 'election'), ('election', 'I'), ('I', 'ever'), ('ever', 'saw'), ('saw', \"''\"), (\"''\", ','), (',', 'Colquitt'), ('Colquitt', 'Policeman'), ('Policeman', 'Tom'), ('Tom', 'Williams'), ('Williams', 'said'), ('said', '</s>'), ('<s>', '</s>'), ('</s>', '<s>'), ('<s>', '``'), ('``', 'Being'), ('Being', 'at'), ('at', 'the'), ('the', 'polls'), ('polls', 'was'), ('was', 'just'), ('just', 'like'), ('like', 'being'), ('being', 'at'), ('at', 'church'), ('church', '</s>'), ('<s>', '</s>'), ('</s>', '<s>'), ('<s>', 'I'), ('I', \"didn't\"), (\"didn't\", 'smell'), ('smell', 'a'), ('a', 'drop'), ('drop', 'of'), ('of', 'liquor'), ('liquor', ','), (',', 'and'), ('and', 'we'), ('we', \"didn't\"), (\"didn't\", 'have'), ('have', 'a'), ('a', 'bit'), ('bit', 'of'), ('of', 'trouble'), ('trouble', \"''\"), (\"''\", '</s>'), ('<s>', '</s>'), ('</s>', '<s>'), ('<s>', 'The'), ('The', 'campaign'), ('campaign', 'leading'), ('leading', 'to'), ('to', 'the'), ('the', 'election'), ('election', 'was'), ('was', 'not'), ('not', 'so'), ('so', 'quiet'), ('quiet', ','), (',', 'however'), ('however', '</s>'), ('<s>', '</s>'), ('</s>', '<s>'), ('<s>', 'It'), ('It', 'was'), ('was', 'marked'), ('marked', 'by'), ('by', 'controversy'), ('controversy', ','), (',', 'anonymous'), ('anonymous', 'midnight'), ('midnight', 'phone'), ('phone', 'calls'), ('calls', 'and'), ('and', 'veiled'), ('veiled', 'threats'), ('threats', 'of'), ('of', 'violence'), ('violence', '</s>'), ('<s>', '</s>'), ('</s>', '<s>'), ('<s>', 'The'), ('The', 'former'), ('former', 'county'), ('county', 'school'), ('school', 'superintendent'), ('superintendent', ','), (',', 'George'), ('George', 'P'), ('P', '</s>'), ('<s>', 'Callan'), ('Callan', ','), (',', 'shot'), ('shot', 'himself'), ('himself', 'to'), ('to', 'death'), ('death', 'March'), ('March', '18'), ('18', ','), (',', 'four'), ('four', 'days'), ('days', 'after'), ('after', 'he'), ('he', 'resigned'), ('resigned', 'his'), ('his', 'post'), ('post', 'in'), ('in', 'a'), ('a', 'dispute'), ('dispute', 'with'), ('with', 'the'), ('the', 'county'), ('county', 'school'), ('school', 'board'), ('board', '</s>'), ('<s>', '</s>'), ('</s>', '<s>'), ('<s>', 'During'), ('During', 'the'), ('the', 'election'), ('election', 'campaign'), ('campaign', ','), (',', 'both'), ('both', 'candidates'), ('candidates', ','), (',', 'Davis'), ('Davis', 'and'), ('and', 'Bush'), ('Bush', ','), (',', 'reportedly'), ('reportedly', 'received'), ('received', 'anonymous'), ('anonymous', 'telephone'), ('telephone', 'calls'), ('calls', '</s>'), ('<s>', '</s>'), ('</s>', '<s>'), ('<s>', 'Ordinary'), ('Ordinary', 'Williams'), ('Williams', 'said'), ('said', 'he'), ('he', ','), (',', 'too'), ('too', ','), (',', 'was'), ('was', 'subjected'), ('subjected', 'to'), ('to', 'anonymous'), ('anonymous', 'calls'), ('calls', 'soon'), ('soon', 'after'), ('after', 'he'), ('he', 'scheduled'), ('scheduled', 'the'), ('the', 'election'), ('election', '</s>'), ('<s>', '</s>'), ('</s>', '<s>'), ('<s>', 'Many'), ('Many', 'local'), ('local', 'citizens'), ('citizens', 'feared'), ('feared', 'that'), ('that', 'there'), ('there', 'would'), ('would', 'be'), ('be', 'irregularities'), ('irregularities', 'at'), ('at', 'the'), ('the', 'polls'), ('polls', ','), (',', 'and'), ('and', 'Williams'), ('Williams', 'got'), ('got', 'himself'), ('himself', 'a'), ('a', 'permit'), ('permit', 'to'), ('to', 'carry'), ('carry', 'a'), ('a', 'gun'), ('gun', 'and'), ('and', 'promised'), ('promised', 'an'), ('an', 'orderly'), ('orderly', 'election'), ('election', '</s>'), ('<s>', '</s>'), ('</s>', '<s>'), ('<s>', 'Sheriff'), ('Sheriff', 'Felix'), ('Felix', 'Tabb'), ('Tabb', 'said'), ('said', 'the'), ('the', 'ordinary'), ('ordinary', 'apparently'), ('apparently', 'made'), ('made', 'good'), ('good', 'his'), ('his', 'promise'), ('promise', '</s>'), ('<s>', '</s>'), ('</s>', '<s>'), ('<s>', '``'), ('``', 'Everything'), ('Everything', 'went'), ('went', 'real'), ('real', 'smooth'), ('smooth', \"''\"), (\"''\", ','), (',', 'the'), ('the', 'sheriff'), ('sheriff', 'said'), ('said', '</s>'), ('<s>', '</s>'), ('</s>', '<s>'), ('<s>', '``'), ('``', 'There'), ('There', \"wasn't\"), (\"wasn't\", 'a'), ('a', 'bit'), ('bit', 'of'), ('of', 'trouble'), ('trouble', \"''\"), (\"''\", '</s>'), ('<s>', '</s>'), ('</s>', '<s>'), ('<s>', 'Austin'), ('Austin', ','), (',', 'Texas'), ('Texas', '</s>'), ('</s>', '<s>'), ('<s>', '--'), ('--', 'Committee'), ('Committee', 'approval'), ('approval', 'of'), ('of', 'Gov'), ('Gov', '</s>'), ('<s>', 'Price'), ('Price', \"Daniel's\"), (\"Daniel's\", '``'), ('``', 'abandoned'), ('abandoned', 'property'), ('property', \"''\"), (\"''\", 'act'), ('act', 'seemed'), ('seemed', 'certain'), ('certain', 'Thursday'), ('Thursday', 'despite'), ('despite', 'the'), ('the', 'adamant'), ('adamant', 'protests'), ('protests', 'of'), ('of', 'Texas'), ('Texas', 'bankers'), ('bankers', '</s>'), ('<s>', '</s>'), ('</s>', '</s>')]\n",
      "type of ngrams: <class 'list'>\n",
      "length of ngrams: 2495\n",
      "length of tokens: 116\n",
      "length of tokens[0]: 27\n",
      "type of tokens: <class 'list'>\n",
      "type of tokens[0]: <class 'list'>\n",
      "tokens[0]: ['<s>', '<s>', 'The', 'Fulton', 'County', 'Grand', 'Jury', 'said', 'Friday', 'an', 'investigation', 'of', \"Atlanta's\", 'recent', 'primary', 'election', 'produced', '``', 'no', 'evidence', \"''\", 'that', 'any', 'irregularities', 'took', 'place', '</s>']\n",
      "tokens[0][0]: <s>\n",
      "tokens: [['<s>', '<s>', 'The', 'Fulton', 'County', 'Grand', 'Jury', 'said', 'Friday', 'an', 'investigation', 'of', \"Atlanta's\", 'recent', 'primary', 'election', 'produced', '``', 'no', 'evidence', \"''\", 'that', 'any', 'irregularities', 'took', 'place', '</s>'], ['<s>', '</s>', '<s>', 'The', 'jury', 'further', 'said', 'in', 'term-end', 'presentments', 'that', 'the', 'City', 'Executive', 'Committee', ',', 'which', 'had', 'over-all', 'charge', 'of', 'the', 'election', ',', '``', 'deserves', 'the', 'praise', 'and', 'thanks', 'of', 'the', 'City', 'of', 'Atlanta', \"''\", 'for', 'the', 'manner', 'in', 'which', 'the', 'election', 'was', 'conducted', '</s>'], ['<s>', '</s>', '<s>', 'The', 'September-October', 'term', 'jury', 'had', 'been', 'charged', 'by', 'Fulton', 'Superior', 'Court', 'Judge', 'Durwood', 'Pye', 'to', 'investigate', 'reports', 'of', 'possible', '``', 'irregularities', \"''\", 'in', 'the', 'hard-fought', 'primary', 'which', 'was', 'won', 'by', 'Mayor-nominate', 'Ivan', 'Allen', 'Jr', '</s>'], ['<s>', '</s>', '<s>', '``', 'Only', 'a', 'relative', 'handful', 'of', 'such', 'reports', 'was', 'received', \"''\", ',', 'the', 'jury', 'said', ',', '``', 'considering', 'the', 'widespread', 'interest', 'in', 'the', 'election', ',', 'the', 'number', 'of', 'voters', 'and', 'the', 'size', 'of', 'this', 'city', \"''\", '</s>'], ['<s>', '</s>', '<s>', 'The', 'jury', 'said', 'it', 'did', 'find', 'that', 'many', 'of', \"Georgia's\", 'registration', 'and', 'election', 'laws', '``', 'are', 'outmoded', 'or', 'inadequate', 'and', 'often', 'ambiguous', \"''\", '</s>'], ['<s>', '</s>', '<s>', 'It', 'recommended', 'that', 'Fulton', 'legislators', 'act', '``', 'to', 'have', 'these', 'laws', 'studied', 'and', 'revised', 'to', 'the', 'end', 'of', 'modernizing', 'and', 'improving', 'them', \"''\", '</s>'], ['<s>', '</s>', '<s>', 'The', 'grand', 'jury', 'commented', 'on', 'a', 'number', 'of', 'other', 'topics', ',', 'among', 'them', 'the', 'Atlanta', 'and', 'Fulton', 'County', 'purchasing', 'departments', 'which', 'it', 'said', '``', 'are', 'well', 'operated', 'and', 'follow', 'generally', 'accepted', 'practices', 'which', 'inure', 'to', 'the', 'best', 'interest', 'of', 'both', 'governments', \"''\", '</s>'], ['<s>', '</s>', '<s>', 'Merger', 'proposed', '</s>', '<s>', 'However', ',', 'the', 'jury', 'said', 'it', 'believes', '``', 'these', 'two', 'offices', 'should', 'be', 'combined', 'to', 'achieve', 'greater', 'efficiency', 'and', 'reduce', 'the', 'cost', 'of', 'administration', \"''\", '</s>'], ['<s>', '</s>', '<s>', 'The', 'City', 'Purchasing', 'Department', ',', 'the', 'jury', 'said', ',', '``', 'is', 'lacking', 'in', 'experienced', 'clerical', 'personnel', 'as', 'a', 'result', 'of', 'city', 'personnel', 'policies', \"''\", '</s>'], ['<s>', '</s>', '<s>', 'It', 'urged', 'that', 'the', 'city', '``', 'take', 'steps', 'to', 'remedy', \"''\", 'this', 'problem', '</s>'], ['<s>', '</s>', '<s>', 'Implementation', 'of', \"Georgia's\", 'automobile', 'title', 'law', 'was', 'also', 'recommended', 'by', 'the', 'outgoing', 'jury', '</s>'], ['<s>', '</s>', '<s>', 'It', 'urged', 'that', 'the', 'next', 'Legislature', '``', 'provide', 'enabling', 'funds', 'and', 're-set', 'the', 'effective', 'date', 'so', 'that', 'an', 'orderly', 'implementation', 'of', 'the', 'law', 'may', 'be', 'effected', \"''\", '</s>'], ['<s>', '</s>', '<s>', 'The', 'grand', 'jury', 'took', 'a', 'swipe', 'at', 'the', 'State', 'Welfare', \"Department's\", 'handling', 'of', 'federal', 'funds', 'granted', 'for', 'child', 'welfare', 'services', 'in', 'foster', 'homes', '</s>'], ['<s>', '</s>', '<s>', '``', 'This', 'is', 'one', 'of', 'the', 'major', 'items', 'in', 'the', 'Fulton', 'County', 'general', 'assistance', 'program', \"''\", ',', 'the', 'jury', 'said', ',', 'but', 'the', 'State', 'Welfare', 'Department', '``', 'has', 'seen', 'fit', 'to', 'distribute', 'these', 'funds', 'through', 'the', 'welfare', 'departments', 'of', 'all', 'the', 'counties', 'in', 'the', 'state', 'with', 'the', 'exception', 'of', 'Fulton', 'County', ',', 'which', 'receives', 'none', 'of', 'this', 'money', '</s>'], ['<s>', '</s>', '<s>', 'The', 'jurors', 'said', 'they', 'realize', '``', 'a', 'proportionate', 'distribution', 'of', 'these', 'funds', 'might', 'disable', 'this', 'program', 'in', 'our', 'less', 'populous', 'counties', \"''\", '</s>'], ['<s>', '</s>', '<s>', 'Nevertheless', ',', '``', 'we', 'feel', 'that', 'in', 'the', 'future', 'Fulton', 'County', 'should', 'receive', 'some', 'portion', 'of', 'these', 'available', 'funds', \"''\", ',', 'the', 'jurors', 'said', '</s>'], ['<s>', '</s>', '<s>', '``', 'Failure', 'to', 'do', 'this', 'will', 'continue', 'to', 'place', 'a', 'disproportionate', 'burden', \"''\", 'on', 'Fulton', 'taxpayers', '</s>'], ['<s>', '</s>', '<s>', 'The', 'jury', 'also', 'commented', 'on', 'the', 'Fulton', \"ordinary's\", 'court', 'which', 'has', 'been', 'under', 'fire', 'for', 'its', 'practices', 'in', 'the', 'appointment', 'of', 'appraisers', ',', 'guardians', 'and', 'administrators', 'and', 'the', 'awarding', 'of', 'fees', 'and', 'compensation', '</s>'], ['<s>', '</s>', '<s>', 'Wards', 'protected', '</s>', '<s>', 'The', 'jury', 'said', 'it', 'found', 'the', 'court', '``', 'has', 'incorporated', 'into', 'its', 'operating', 'procedures', 'the', 'recommendations', \"''\", 'of', 'two', 'previous', 'grand', 'juries', ',', 'the', 'Atlanta', 'Bar', 'Association', 'and', 'an', 'interim', 'citizens', 'committee', '</s>'], ['<s>', '</s>', '<s>', '``', 'These', 'actions', 'should', 'serve', 'to', 'protect', 'in', 'fact', 'and', 'in', 'effect', 'the', \"court's\", 'wards', 'from', 'undue', 'costs', 'and', 'its', 'appointed', 'and', 'elected', 'servants', 'from', 'unmeritorious', 'criticisms', \"''\", ',', 'the', 'jury', 'said', '</s>'], ['<s>', '</s>', '<s>', 'Regarding', \"Atlanta's\", 'new', 'multi-million-dollar', 'airport', ',', 'the', 'jury', 'recommended', '``', 'that', 'when', 'the', 'new', 'management', 'takes', 'charge', 'Jan', '</s>'], ['<s>', '1', 'the', 'airport', 'be', 'operated', 'in', 'a', 'manner', 'that', 'will', 'eliminate', 'political', 'influences', \"''\", '</s>'], ['<s>', '</s>', '<s>', 'The', 'jury', 'did', 'not', 'elaborate', ',', 'but', 'it', 'added', 'that', '``', 'there', 'should', 'be', 'periodic', 'surveillance', 'of', 'the', 'pricing', 'practices', 'of', 'the', 'concessionaires', 'for', 'the', 'purpose', 'of', 'keeping', 'the', 'prices', 'reasonable', \"''\", '</s>'], ['<s>', '</s>', '<s>', 'Ask', 'jail', 'deputies', '</s>', '<s>', 'On', 'other', 'matters', ',', 'the', 'jury', 'recommended', 'that', ':', '(', '1', ')', '</s>', '<s>', 'Four', 'additional', 'deputies', 'be', 'employed', 'at', 'the', 'Fulton', 'County', 'Jail', 'and', '``', 'a', 'doctor', ',', 'medical', 'intern', 'or', 'extern', 'be', 'employed', 'for', 'night', 'and', 'weekend', 'duty', 'at', 'the', 'jail', \"''\", '</s>'], ['<s>', '</s>', '<s>', '(', '2', ')', '</s>', '<s>', 'Fulton', 'legislators', '``', 'work', 'with', 'city', 'officials', 'to', 'pass', 'enabling', 'legislation', 'that', 'will', 'permit', 'the', 'establishment', 'of', 'a', 'fair', 'and', 'equitable', \"''\", 'pension', 'plan', 'for', 'city', 'employes', '</s>'], ['<s>', '</s>', '<s>', 'The', 'jury', 'praised', 'the', 'administration', 'and', 'operation', 'of', 'the', 'Atlanta', 'Police', 'Department', ',', 'the', 'Fulton', 'Tax', \"Commissioner's\", 'Office', ',', 'the', 'Bellwood', 'and', 'Alpharetta', 'prison', 'farms', ',', 'Grady', 'Hospital', 'and', 'the', 'Fulton', 'Health', 'Department', '</s>'], ['<s>', '</s>', '<s>', 'Mayor', 'William', 'B', '</s>'], ['<s>', 'Hartsfield', 'filed', 'suit', 'for', 'divorce', 'from', 'his', 'wife', ',', 'Pearl', 'Williams', 'Hartsfield', ',', 'in', 'Fulton', 'Superior', 'Court', 'Friday', '</s>'], ['<s>', '</s>', '<s>', 'His', 'petition', 'charged', 'mental', 'cruelty', '</s>'], ['<s>', '</s>', '<s>', 'The', 'couple', 'was', 'married', 'Aug', '</s>'], ['<s>', '2', ',', '1913', '</s>'], ['<s>', '</s>', '<s>', 'They', 'have', 'a', 'son', ',', 'William', 'Berry', 'Jr', '</s>'], ['<s>', ',', 'and', 'a', 'daughter', ',', 'Mrs', '</s>'], ['<s>', 'J', '</s>'], ['<s>', 'M', '</s>'], ['<s>', 'Cheshire', 'of', 'Griffin', '</s>'], ['<s>', '</s>', '<s>', 'Attorneys', 'for', 'the', 'mayor', 'said', 'that', 'an', 'amicable', 'property', 'settlement', 'has', 'been', 'agreed', 'upon', '</s>'], ['<s>', '</s>', '<s>', 'The', 'petition', 'listed', 'the', \"mayor's\", 'occupation', 'as', '``', 'attorney', \"''\", 'and', 'his', 'age', 'as', '71', '</s>'], ['<s>', '</s>', '<s>', 'It', 'listed', 'his', \"wife's\", 'age', 'as', '74', 'and', 'place', 'of', 'birth', 'as', 'Opelika', ',', 'Ala', '</s>'], ['<s>', '</s>', '<s>', 'The', 'petition', 'said', 'that', 'the', 'couple', 'has', 'not', 'lived', 'together', 'as', 'man', 'and', 'wife', 'for', 'more', 'than', 'a', 'year', '</s>'], ['<s>', '</s>', '<s>', 'The', 'Hartsfield', 'home', 'is', 'at', '637', 'E', '</s>'], ['<s>', 'Pelham', 'Rd', '</s>'], ['<s>', 'Aj', '</s>'], ['<s>', '</s>', '<s>', 'Henry', 'L', '</s>'], ['<s>', 'Bowden', 'was', 'listed', 'on', 'the', 'petition', 'as', 'the', \"mayor's\", 'attorney', '</s>'], ['<s>', '</s>', '<s>', 'Hartsfield', 'has', 'been', 'mayor', 'of', 'Atlanta', ',', 'with', 'exception', 'of', 'one', 'brief', 'interlude', ',', 'since', '1937', '</s>'], ['<s>', '</s>', '<s>', 'His', 'political', 'career', 'goes', 'back', 'to', 'his', 'election', 'to', 'city', 'council', 'in', '1923', '</s>'], ['<s>', '</s>', '<s>', 'The', \"mayor's\", 'present', 'term', 'of', 'office', 'expires', 'Jan', '</s>'], ['<s>', '1', '</s>'], ['<s>', '</s>', '<s>', 'He', 'will', 'be', 'succeeded', 'by', 'Ivan', 'Allen', 'Jr', '</s>'], ['<s>', ',', 'who', 'became', 'a', 'candidate', 'in', 'the', 'Sept', '</s>'], ['<s>', '13', 'primary', 'after', 'Mayor', 'Hartsfield', 'announced', 'that', 'he', 'would', 'not', 'run', 'for', 'reelection', '</s>'], ['<s>', '</s>', '<s>', 'Georgia', 'Republicans', 'are', 'getting', 'strong', 'encouragement', 'to', 'enter', 'a', 'candidate', 'in', 'the', '1962', \"governor's\", 'race', ',', 'a', 'top', 'official', 'said', 'Wednesday', '</s>'], ['<s>', '</s>', '<s>', 'Robert', 'Snodgrass', ',', 'state', 'GOP', 'chairman', ',', 'said', 'a', 'meeting', 'held', 'Tuesday', 'night', 'in', 'Blue', 'Ridge', 'brought', 'enthusiastic', 'responses', 'from', 'the', 'audience', '</s>'], ['<s>', '</s>', '<s>', 'State', 'Party', 'Chairman', 'James', 'W', '</s>'], ['<s>', 'Dorsey', 'added', 'that', 'enthusiasm', 'was', 'picking', 'up', 'for', 'a', 'state', 'rally', 'to', 'be', 'held', 'Sept', '</s>'], ['<s>', '8', 'in', 'Savannah', 'at', 'which', 'newly', 'elected', 'Texas', 'Sen', '</s>'], ['<s>', 'John', 'Tower', 'will', 'be', 'the', 'featured', 'speaker', '</s>'], ['<s>', '</s>', '<s>', 'In', 'the', 'Blue', 'Ridge', 'meeting', ',', 'the', 'audience', 'was', 'warned', 'that', 'entering', 'a', 'candidate', 'for', 'governor', 'would', 'force', 'it', 'to', 'take', 'petitions', 'out', 'into', 'voting', 'precincts', 'to', 'obtain', 'the', 'signatures', 'of', 'registered', 'voters', '</s>'], ['<s>', '</s>', '<s>', 'Despite', 'the', 'warning', ',', 'there', 'was', 'a', 'unanimous', 'vote', 'to', 'enter', 'a', 'candidate', ',', 'according', 'to', 'Republicans', 'who', 'attended', '</s>'], ['<s>', '</s>', '<s>', 'When', 'the', 'crowd', 'was', 'asked', 'whether', 'it', 'wanted', 'to', 'wait', 'one', 'more', 'term', 'to', 'make', 'the', 'race', ',', 'it', 'voted', 'no', '--', 'and', 'there', 'were', 'no', 'dissents', '</s>'], ['<s>', '</s>', '<s>', 'The', 'largest', 'hurdle', 'the', 'Republicans', 'would', 'have', 'to', 'face', 'is', 'a', 'state', 'law', 'which', 'says', 'that', 'before', 'making', 'a', 'first', 'race', ',', 'one', 'of', 'two', 'alternative', 'courses', 'must', 'be', 'taken', ':', '1', '</s>', '<s>', 'Five', 'per', 'cent', 'of', 'the', 'voters', 'in', 'each', 'county', 'must', 'sign', 'petitions', 'requesting', 'that', 'the', 'Republicans', 'be', 'allowed', 'to', 'place', 'names', 'of', 'candidates', 'on', 'the', 'general', 'election', 'ballot', ',', 'or', '2', '</s>', '<s>', 'The', 'Republicans', 'must', 'hold', 'a', 'primary', 'under', 'the', 'county', 'unit', 'system', '--', 'a', 'system', 'which', 'the', 'party', 'opposes', 'in', 'its', 'platform', '</s>'], ['<s>', '</s>', '<s>', 'Sam', 'Caldwell', ',', 'State', 'Highway', 'Department', 'public', 'relations', 'director', ',', 'resigned', 'Tuesday', 'to', 'work', 'for', 'Lt', '</s>'], ['<s>', 'Gov', '</s>'], ['<s>', 'Garland', \"Byrd's\", 'campaign', '</s>'], ['<s>', '</s>', '<s>', \"Caldwell's\", 'resignation', 'had', 'been', 'expected', 'for', 'some', 'time', '</s>'], ['<s>', '</s>', '<s>', 'He', 'will', 'be', 'succeeded', 'by', 'Rob', 'Ledford', 'of', 'Gainesville', ',', 'who', 'has', 'been', 'an', 'assistant', 'more', 'than', 'three', 'years', '</s>'], ['<s>', '</s>', '<s>', 'When', 'the', 'gubernatorial', 'campaign', 'starts', ',', 'Caldwell', 'is', 'expected', 'to', 'become', 'a', 'campaign', 'coordinator', 'for', 'Byrd', '</s>'], ['<s>', '</s>', '<s>', 'The', 'Georgia', 'Legislature', 'will', 'wind', 'up', 'its', '1961', 'session', 'Monday', 'and', 'head', 'for', 'home', '--', 'where', 'some', 'of', 'the', 'highway', 'bond', 'money', 'it', 'approved', 'will', 'follow', 'shortly', '</s>'], ['<s>', '</s>', '<s>', 'Before', 'adjournment', 'Monday', 'afternoon', ',', 'the', 'Senate', 'is', 'expected', 'to', 'approve', 'a', 'study', 'of', 'the', 'number', 'of', 'legislators', 'allotted', 'to', 'rural', 'and', 'urban', 'areas', 'to', 'determine', 'what', 'adjustments', 'should', 'be', 'made', '</s>'], ['<s>', '</s>', '<s>', 'Gov', '</s>'], ['<s>', 'Vandiver', 'is', 'expected', 'to', 'make', 'the', 'traditional', 'visit', 'to', 'both', 'chambers', 'as', 'they', 'work', 'toward', 'adjournment', '</s>'], ['<s>', '</s>', '<s>', 'Vandiver', 'likely', 'will', 'mention', 'the', '$100', 'million', 'highway', 'bond', 'issue', 'approved', 'earlier', 'in', 'the', 'session', 'as', 'his', 'first', 'priority', 'item', '</s>'], ['<s>', '</s>', '<s>', 'Construction', 'bonds', '</s>', '<s>', 'Meanwhile', ',', 'it', 'was', 'learned', 'the', 'State', 'Highway', 'Department', 'is', 'very', 'near', 'being', 'ready', 'to', 'issue', 'the', 'first', '$30', 'million', 'worth', 'of', 'highway', 'reconstruction', 'bonds', '</s>'], ['<s>', '</s>', '<s>', 'The', 'bond', 'issue', 'will', 'go', 'to', 'the', 'state', 'courts', 'for', 'a', 'friendly', 'test', 'suit', 'to', 'test', 'the', 'validity', 'of', 'the', 'act', ',', 'and', 'then', 'the', 'sales', 'will', 'begin', 'and', 'contracts', 'let', 'for', 'repair', 'work', 'on', 'some', 'of', \"Georgia's\", 'most', 'heavily', 'traveled', 'highways', '</s>'], ['<s>', '</s>', '<s>', 'A', 'Highway', 'Department', 'source', 'said', 'there', 'also', 'is', 'a', 'plan', 'there', 'to', 'issue', 'some', '$3', 'million', 'to', '$4', 'million', 'worth', 'of', 'Rural', 'Roads', 'Authority', 'bonds', 'for', 'rural', 'road', 'construction', 'work', '</s>'], ['<s>', '</s>', '<s>', 'A', 'revolving', 'fund', '</s>', '<s>', 'The', 'department', 'apparently', 'intends', 'to', 'make', 'the', 'Rural', 'Roads', 'Authority', 'a', 'revolving', 'fund', 'under', 'which', 'new', 'bonds', 'would', 'be', 'issued', 'every', 'time', 'a', 'portion', 'of', 'the', 'old', 'ones', 'are', 'paid', 'off', 'by', 'tax', 'authorities', '</s>'], ['<s>', '</s>', '<s>', 'Vandiver', 'opened', 'his', 'race', 'for', 'governor', 'in', '1958', 'with', 'a', 'battle', 'in', 'the', 'Legislature', 'against', 'the', 'issuance', 'of', '$50', 'million', 'worth', 'of', 'additional', 'rural', 'roads', 'bonds', 'proposed', 'by', 'then', 'Gov', '</s>'], ['<s>', 'Marvin', 'Griffin', '</s>'], ['<s>', '</s>', '<s>', 'The', 'Highway', 'Department', 'source', 'told', 'The', 'Constitution', ',', 'however', ',', 'that', 'Vandiver', 'has', 'not', 'been', 'consulted', 'yet', 'about', 'the', 'plans', 'to', 'issue', 'the', 'new', 'rural', 'roads', 'bonds', '</s>'], ['<s>', '</s>', '<s>', 'Schley', 'County', 'Rep', '</s>'], ['<s>', 'B', '</s>'], ['<s>', 'D', '</s>'], ['<s>', 'Pelham', 'will', 'offer', 'a', 'resolution', 'Monday', 'in', 'the', 'House', 'to', 'rescind', 'the', \"body's\", 'action', 'of', 'Friday', 'in', 'voting', 'itself', 'a', '$10', 'per', 'day', 'increase', 'in', 'expense', 'allowances', '</s>'], ['<s>', '</s>', '<s>', 'Pelham', 'said', 'Sunday', 'night', 'there', 'was', 'research', 'being', 'done', 'on', 'whether', 'the', '``', 'quickie', \"''\", 'vote', 'on', 'the', 'increase', 'can', 'be', 'repealed', 'outright', 'or', 'whether', 'notice', 'would', 'have', 'to', 'first', 'be', 'given', 'that', 'reconsideration', 'of', 'the', 'action', 'would', 'be', 'sought', '</s>'], ['<s>', '</s>', '<s>', 'While', 'emphasizing', 'that', 'technical', 'details', 'were', 'not', 'fully', 'worked', 'out', ',', 'Pelham', 'said', 'his', 'resolution', 'would', 'seek', 'to', 'set', 'aside', 'the', 'privilege', 'resolution', 'which', 'the', 'House', 'voted', 'through', '87-31', '</s>'], ['<s>', '</s>', '<s>', 'A', 'similar', 'resolution', 'passed', 'in', 'the', 'Senate', 'by', 'a', 'vote', 'of', '29-5', '</s>'], ['<s>', '</s>', '<s>', 'As', 'of', 'Sunday', 'night', ',', 'there', 'was', 'no', 'word', 'of', 'a', 'resolution', 'being', 'offered', 'there', 'to', 'rescind', 'the', 'action', '</s>'], ['<s>', '</s>', '<s>', 'Pelham', 'pointed', 'out', 'that', 'Georgia', 'voters', 'last', 'November', 'rejected', 'a', 'constitutional', 'amendment', 'to', 'allow', 'legislators', 'to', 'vote', 'on', 'pay', 'raises', 'for', 'future', 'Legislature', 'sessions', '</s>'], ['<s>', '</s>', '<s>', 'A', 'veteran', 'Jackson', 'County', 'legislator', 'will', 'ask', 'the', 'Georgia', 'House', 'Monday', 'to', 'back', 'federal', 'aid', 'to', 'education', ',', 'something', 'it', 'has', 'consistently', 'opposed', 'in', 'the', 'past', '</s>'], ['<s>', '</s>', '<s>', 'Rep', '</s>'], ['<s>', 'Mac', 'Barber', 'of', 'Commerce', 'is', 'asking', 'the', 'House', 'in', 'a', 'privilege', 'resolution', 'to', '``', 'endorse', 'increased', 'federal', 'support', 'for', 'public', 'education', ',', 'provided', 'that', 'such', 'funds', 'be', 'received', 'and', 'expended', \"''\", 'as', 'state', 'funds', '</s>'], ['<s>', '</s>', '<s>', 'Barber', ',', 'who', 'is', 'in', 'his', '13th', 'year', 'as', 'a', 'legislator', ',', 'said', 'there', '``', 'are', 'some', 'members', 'of', 'our', 'congressional', 'delegation', 'in', 'Washington', 'who', 'would', 'like', 'to', 'see', 'it', '(', 'the', 'resolution', ')', 'passed', \"''\", '</s>'], ['<s>', '</s>', '<s>', 'But', 'he', 'added', 'that', 'none', 'of', \"Georgia's\", 'congressmen', 'specifically', 'asked', 'him', 'to', 'offer', 'the', 'resolution', '</s>'], ['<s>', '</s>', '<s>', 'The', 'resolution', ',', 'which', 'Barber', 'tossed', 'into', 'the', 'House', 'hopper', 'Friday', ',', 'will', 'be', 'formally', 'read', 'Monday', '</s>'], ['<s>', '</s>', '<s>', 'It', 'says', 'that', '``', 'in', 'the', 'event', 'Congress', 'does', 'provide', 'this', 'increase', 'in', 'federal', 'funds', \"''\", ',', 'the', 'State', 'Board', 'of', 'Education', 'should', 'be', 'directed', 'to', '``', 'give', 'priority', \"''\", 'to', 'teacher', 'pay', 'raises', '</s>'], ['<s>', '</s>', '<s>', 'Colquitt', '</s>', '<s>', '--', 'After', 'a', 'long', ',', 'hot', 'controversy', ',', 'Miller', 'County', 'has', 'a', 'new', 'school', 'superintendent', ',', 'elected', ',', 'as', 'a', 'policeman', 'put', 'it', ',', 'in', 'the', '``', 'coolest', 'election', 'I', 'ever', 'saw', 'in', 'this', 'county', \"''\", '</s>'], ['<s>', '</s>', '<s>', 'The', 'new', 'school', 'superintendent', 'is', 'Harry', 'Davis', ',', 'a', 'veteran', 'agriculture', 'teacher', ',', 'who', 'defeated', 'Felix', 'Bush', ',', 'a', 'school', 'principal', 'and', 'chairman', 'of', 'the', 'Miller', 'County', 'Democratic', 'Executive', 'Committee', '</s>'], ['<s>', '</s>', '<s>', 'Davis', 'received', '1,119', 'votes', 'in', \"Saturday's\", 'election', ',', 'and', 'Bush', 'got', '402', '</s>'], ['<s>', '</s>', '<s>', 'Ordinary', 'Carey', 'Williams', ',', 'armed', 'with', 'a', 'pistol', ',', 'stood', 'by', 'at', 'the', 'polls', 'to', 'insure', 'order', '</s>'], ['<s>', '</s>', '<s>', '``', 'This', 'was', 'the', 'coolest', ',', 'calmest', 'election', 'I', 'ever', 'saw', \"''\", ',', 'Colquitt', 'Policeman', 'Tom', 'Williams', 'said', '</s>'], ['<s>', '</s>', '<s>', '``', 'Being', 'at', 'the', 'polls', 'was', 'just', 'like', 'being', 'at', 'church', '</s>'], ['<s>', '</s>', '<s>', 'I', \"didn't\", 'smell', 'a', 'drop', 'of', 'liquor', ',', 'and', 'we', \"didn't\", 'have', 'a', 'bit', 'of', 'trouble', \"''\", '</s>'], ['<s>', '</s>', '<s>', 'The', 'campaign', 'leading', 'to', 'the', 'election', 'was', 'not', 'so', 'quiet', ',', 'however', '</s>'], ['<s>', '</s>', '<s>', 'It', 'was', 'marked', 'by', 'controversy', ',', 'anonymous', 'midnight', 'phone', 'calls', 'and', 'veiled', 'threats', 'of', 'violence', '</s>'], ['<s>', '</s>', '<s>', 'The', 'former', 'county', 'school', 'superintendent', ',', 'George', 'P', '</s>'], ['<s>', 'Callan', ',', 'shot', 'himself', 'to', 'death', 'March', '18', ',', 'four', 'days', 'after', 'he', 'resigned', 'his', 'post', 'in', 'a', 'dispute', 'with', 'the', 'county', 'school', 'board', '</s>'], ['<s>', '</s>', '<s>', 'During', 'the', 'election', 'campaign', ',', 'both', 'candidates', ',', 'Davis', 'and', 'Bush', ',', 'reportedly', 'received', 'anonymous', 'telephone', 'calls', '</s>'], ['<s>', '</s>', '<s>', 'Ordinary', 'Williams', 'said', 'he', ',', 'too', ',', 'was', 'subjected', 'to', 'anonymous', 'calls', 'soon', 'after', 'he', 'scheduled', 'the', 'election', '</s>'], ['<s>', '</s>', '<s>', 'Many', 'local', 'citizens', 'feared', 'that', 'there', 'would', 'be', 'irregularities', 'at', 'the', 'polls', ',', 'and', 'Williams', 'got', 'himself', 'a', 'permit', 'to', 'carry', 'a', 'gun', 'and', 'promised', 'an', 'orderly', 'election', '</s>'], ['<s>', '</s>', '<s>', 'Sheriff', 'Felix', 'Tabb', 'said', 'the', 'ordinary', 'apparently', 'made', 'good', 'his', 'promise', '</s>'], ['<s>', '</s>', '<s>', '``', 'Everything', 'went', 'real', 'smooth', \"''\", ',', 'the', 'sheriff', 'said', '</s>'], ['<s>', '</s>', '<s>', '``', 'There', \"wasn't\", 'a', 'bit', 'of', 'trouble', \"''\", '</s>'], ['<s>', '</s>', '<s>', 'Austin', ',', 'Texas', '</s>', '<s>', '--', 'Committee', 'approval', 'of', 'Gov', '</s>'], ['<s>', 'Price', \"Daniel's\", '``', 'abandoned', 'property', \"''\", 'act', 'seemed', 'certain', 'Thursday', 'despite', 'the', 'adamant', 'protests', 'of', 'Texas', 'bankers', '</s>'], ['<s>', '</s>', '</s>']]\n",
      "vocab: {'repealed', 'law', 'chambers', 'Schley', 'serve', 'steps', 'office', 'Tower', 'similar', 'listed', 'counties', 'opposes', 'widespread', 'Jury', '29-5', 'director', 'Vandiver', \"didn't\", 'Everything', 'details', \"mayor's\", 'about', 'gubernatorial', 'Opelika', \"wife's\", 'generally', 'funds', 'voting', 'thanks', 'Ask', 'result', 'proportionate', 'Mayor-nominate', 'has', 'Constitution', 'improving', 'voted', 'said', 'approved', 'starts', 'phone', 'approval', 'research', 'word', 'Austin', 'Health', 'legislation', 'give', 'Ridge', 'congressmen', '1', 'former', 'any', 'force', 'heavily', 'source', 'insure', 'court', 'jurors', 'Alpharetta', 'actions', 'outmoded', 'encouragement', 'Tom', 'charge', 'shot', 'date', 'a', 'mental', 'attorney', 'expires', 'Committee', 'aid', '</s>', 'administrators', 'greater', 'set', 'topics', 'three', 'first', 'directed', 'The', 'birth', 'Regarding', 'Attorneys', 'item', 'intends', 'polls', 'threats', 'Sam', 'test', 'burden', 'support', '<s>', 'allotted', 'place', 'does', '87-31', 'stood', 'were', 'age', 'reconstruction', 'went', 'previous', 'inure', 'airport', 'afternoon', 'is', 'make', 'ever', 'year', 'combined', 'purpose', 'per', 'feared', 'contracts', 'go', 'take', 'reconsideration', 'Dorsey', 'won', 'Failure', 'major', 'implementation', 'liquor', 'E', 'County', 'education', 'event', 'prison', 'Superior', 'receive', 'one', 'traditional', 'Barber', 'issue', 'Tabb', 'find', 'at', 'board', 'learned', 'urged', 'wait', 'top', 'according', 'bankers', '2', 'certain', 'coolest', \"Atlanta's\", 'He', 'items', 'matters', 'interim', 'goes', 'million', 'worked', 'Caldwell', 'fully', 'had', 'House', 'well', 'congressional', 'areas', 'attended', 'largest', 'adamant', 'continue', 'registered', 'Nevertheless', 'produced', 'inadequate', 'took', 'smell', 'roads', 'Savannah', 'can', '``', 'term-end', 'was', 'interlude', 'November', 'be', 'candidate', 'Association', 'speaker', 'Judge', 'upon', 'Four', 'expense', 'remedy', '1923', 'very', 'next', 'Highway', 'midnight', 'Despite', 'where', 'recent', 'They', 'held', 'present', 'campaign', 'on', 'political', 'populous', 'home', 'itself', 'Gainesville', 'Hartsfield', 'by', 'grand', 'worth', 'yet', 'smooth', '1,119', 'operating', 'platform', '1962', 'fees', 'problem', 'offer', 'daughter', 'provided', 'picking', 'do', 'exception', 'Rob', 'J', '1961', 'wife', 'every', 'when', 'privilege', 'other', 'system', 'cost', 'Purchasing', 'marked', 'highways', 'occupation', 'been', 'Implementation', 'money', 'there', 'unmeritorious', 'On', 'friendly', 'opened', 'accepted', 'career', 'personnel', 'some', 'protected', 'married', 'vote', 'determine', 'I', \"Georgia's\", 'Rd', 'unit', 'against', 'Sheriff', 'This', 'departments', \"ordinary's\", 'allowed', 'jury', 'notice', 'best', 'Jr', 'registration', 'both', \"Saturday's\", 'to', 'fit', 'procedures', 'distribution', 'Board', 'amicable', 'obtain', 'P', 'awarding', 'governor', 'before', 'mention', 'D', 'none', 'toward', 'local', 'protect', 'revolving', 'Georgia', 'federal', 'Pearl', 'ordinary', 'allow', 'Being', 'allowances', 'many', 'filed', 'automobile', '71', 'chairman', 'fact', 'undue', 'rural', \"Caldwell's\", 'technical', 'order', 'distribute', \"''\", 'validity', 'permit', 'March', 'outgoing', 'says', 'made', 'given', '18', 'Pelham', 'revised', 'dissents', '$30', 'plans', 'Policeman', 'Ala', \"court's\", 'taxpayers', 'duty', 'might', 'weekend', 'asked', 'L', 'through', 'we', 'agriculture', 'Congress', 'future', 'servants', \"Daniel's\", 'James', 'son', 'being', 'operation', 'Grady', 'requesting', '(', 'dispute', 'extern', 'endorse', 'after', 'property', 'told', 'reportedly', 'who', 'William', 'veteran', 'leading', 'that', \"wasn't\", 'an', 'pointed', 'Carey', 'however', 'and', 'relative', 'he', 'modernizing', 'homes', 'management', 'citizens', 'sessions', 'long', 'resignation', 'gun', 'offices', 'size', 'should', 'church', 'Callan', 'conducted', 'multi-million-dollar', 'quickie', 'public', 'Office', 'warning', 'agreed', 'enthusiastic', 'legislator', 'purchasing', 'must', 'services', 'or', ':', 'let', 'asking', 'act', 'elaborate', 'issued', \"Commissioner's\", 'night', 'Davis', 'plan', 'got', 'appointment', 'rally', 'Monday', 'did', 'effected', 'newly', 'school', 'Gov', 'less', 'After', 'Education', 'sales', 'Bush', 'since', 'all', \"governor's\", 'Republicans', 'Meanwhile', 'Colquitt', 'hot', 'eliminate', 'Construction', 'visit', 'prices', 'ask', 'real', 'deputies', 'bonds', 'reports', 'our', 'official', 'resolution', 'considering', 'Ordinary', 'pricing', 'as', 'become', 'establishment', 'recommended', 'effect', 'Mrs', 'promise', 'foster', 'brief', 'post', 'lived', 'old', 'approve', 'offered', 'consistently', 'Department', 'committee', 'council', 'its', 'bit', 'past', '1937', 'audience', 'title', 'presentments', 'for', 'M', 'Executive', 'sign', 'adjustments', 'George', 'pistol', 'his', 'B', 'near', 'abandoned', 'laws', 'provide', 'recommendations', 'jail', 'hard-fought', 'pay', 'so', 'Thursday', 'aside', 'day', '13th', 'criticisms', 'specifically', 'names', 'Blue', 'Lt', 'over-all', 'John', 'Aug', 'party', 'more', 'principal', 'Senate', 'seemed', 'off', 'into', 'unanimous', 'City', 'doctor', 'commented', 'deserves', 'controversy', 'Wards', 'granted', 'general', 'courts', 'amendment', 'Garland', 'efficiency', 'head', 'Before', 'brought', 'these', \"Department's\", 'handful', 'handling', 'from', 'became', 'opposed', 'Tax', 'taken', 'Harry', 'farms', 'Fulton', 'likely', 'voters', 'fund', 'Ivan', 'crowd', 'Ledford', 'influences', 'despite', 'number', 'effective', 'each', 'employes', 'most', 'authorities', 'election', 'issuance', 'Many', 'good', 'clerical', 'Friday', 'done', 'Police', 'Cheshire', 'courses', 'pass', 'increased', 'succeeded', 'city', 'Mayor', 'together', 'swipe', 'anonymous', 'constitutional', 'drop', 'Only', 'precincts', 'September-October', 'studied', '637', 'defeated', 'Bowden', 'tax', 'like', 'wind', 'emphasizing', 'hopper', 'begin', 'expended', 'also', 'periodic', 'petitions', 'quiet', '1958', 'featured', 'Sept', 'elected', 'alternative', 'petition', 'resigned', 'State', 'votes', 'seen', 'reasonable', 'equitable', '402', 'in', 'run', 'superintendent', 'These', 'couple', 'charged', 'suit', 'face', 'added', 'settlement', 'program', 'seek', ',', 'It', 'carry', 'end', 'strong', 'Hospital', 'new', 'reduce', 'takes', 'rescind', 'Chairman', 'Allen', 'interest', 'Aj', 'intern', 'Jan', 'subjected', 'praised', 'apparently', 'have', 'feel', 'Bar', 'Party', 'Sunday', 'W', 'Welfare', 'ambiguous', 'Snodgrass', 'read', 'During', 'Rep', 'welfare', 'hurdle', 'juries', 'enthusiasm', 'In', 'Price', 'possible', 'investigation', 'action', 'then', '$10', \"body's\", 'ballot', 'among', 'delegation', 'operated', 'appraisers', ')', 'found', 'Miller', 'believes', 'whether', 'calls', 'too', 'disable', 'Atlanta', 'than', 'A', 'coordinator', 'But', 'Griffin', 'sought', 'fire', 'follow', 'they', '13', 'employed', 'GOP', 'announced', '$50', 'Mac', 'Jail', 'study', 'veiled', 'Wednesday', 'Texas', 'disproportionate', 'Tuesday', 'just', 'Washington', 'man', 'shortly', 'administration', 'two', 'rejected', 'see', 'officials', 'passed', 're-set', 'raises', 'back', 'state', 'cent', 'wards', 'telephone', 'calmest', 'department', 'Bellwood', 'Legislature', 'incorporated', 'surveillance', '$4', 'often', 'responses', 'Authority', 'achieve', 'work', 'highway', '8', 'put', 'county', 'members', 'Five', 'additional', 'trouble', '$3', 'meeting', \"Byrd's\", 'ones', 'getting', 'However', 'available', 'While', 'Felix', 'teacher', 'such', 'expected', 'Merger', 'this', 'it', 'Grand', '1913', 'not', 'Roads', 'saw', 'earlier', 'of', 'them', 'investigate', 'are', 'enabling', 'medical', 'entering', 'Robert', 'Court', 'keeping', 'candidates', 'road', 'policeman', 'policies', 'priority', 'As', 'orderly', 'Berry', 'Rural', 'legislators', 'four', 'cruelty', 'fair', 'relations', 'When', 'divorce', 'manner', 'race', 'out', 'violence', 'signatures', 'promised', 'what', 'practices', 'which', 'costs', 'Durwood', 'scheduled', 'protests', 'child', 'received', 'making', 'Jackson', 'ready', 'appointed', 'concessionaires', 'primary', 'increase', 'praise', 'session', 'proposed', 'bond', 'sheriff', 'last', 'paid', 'Sen', 'up', 'would', 'traveled', 'no', 'under', 'evidence', 'with', 'something', 'guardians', 'experienced', 'assistance', 'Democratic', 'realize', 'wanted', 'compensation', 'him', 'irregularities', 'adjournment', 'tossed', 'Williams', '74', 'receives', 'time', 'Henry', 'himself', 'armed', 'outright', 'portion', 'mayor', 'may', '$100', 'assistant', 'Byrd', 'soon', 'Pye', 'hold', 'but', 'urban', 'further', 'battle', 'warned', 'death', 'governments', 'Commerce', 'formally', 'pension', 'repair', 'His', 'years', 'Marvin', 'lacking', 'the', 'will', '--', 'enter', 'construction', 'consulted', 'There', 'days', 'term', 'reelection'}\n",
      "vocab_size: 861\n"
     ]
    }
   ],
   "source": [
    "# Since we already have a working ngram model, for the next part we can use the ngrams to calculate the co-occurences.\n",
    "model = NGramModel(corpus, 2)\n",
    "tokens = model.tokenize()\n",
    "ngrams = model.generate_ngrams(tokens)\n",
    "print(\"Generated n-grams:\", ngrams)\n",
    "print(\"type of ngrams:\", type(ngrams))\n",
    "print(\"length of ngrams:\", len(ngrams))\n",
    "print(\"length of tokens:\", len(tokens))\n",
    "print(\"length of tokens[0]:\", len(tokens[0]))\n",
    "print(\"type of tokens:\", type(tokens))\n",
    "print(\"type of tokens[0]:\", type(tokens[0]))\n",
    "print(\"tokens[0]:\", tokens[0])\n",
    "print(\"tokens[0][0]:\", tokens[0][0])\n",
    "print(\"tokens:\", tokens)\n",
    "\n",
    "def create_co_matrix(ngrams: list, vocab_size: int, word_to_index: dict) -> np.ndarray:\n",
    "    co_matrix = np.zeros((vocab_size, vocab_size), dtype=np.int32)\n",
    "    for ngram in ngrams:\n",
    "        for i in range(len(ngram)-1):\n",
    "            word1 = ngram[i]\n",
    "            word2 = ngram[i+1]\n",
    "            if word1 in word_to_index and word2 in word_to_index:\n",
    "                index1 = word_to_index[word1]\n",
    "                index2 = word_to_index[word2]\n",
    "                co_matrix[index1, index2] += 1\n",
    "                co_matrix[index2, index1] += 1  # Symmetric matrix\n",
    "    # # Normalize the co-occurrence matrix\n",
    "    # co_matrix = co_matrix.astype(np.float32)\n",
    "    # co_matrix /= np.sum(co_matrix, axis=1, keepdims=True)  # Normalize by row sums\n",
    "    return co_matrix\n",
    "\n",
    "# vocab = list(set(tokens))\n",
    "# GC soln\n",
    "# vocab = list(list(tokens))\n",
    "# for token in tokens:\n",
    "#     vocab.extend(token)\n",
    "# vocab = set(vocab)  # Remove duplicates\n",
    "# vocab = list(vocab)  # Convert back to list\n",
    "\n",
    "all_tokens = [token for sentence in tokens for token in sentence]\n",
    "vocab = set(all_tokens)\n",
    "\n",
    "\n",
    "vocab_size = len(vocab)\n",
    "print(\"vocab:\", vocab)\n",
    "print(\"vocab_size:\", vocab_size)\n",
    "\n",
    "# Create a word-to-index mapping\n",
    "word_to_index = {word: idx for idx, word in enumerate(vocab)}\n",
    "\n",
    "# Generate the co-occurrence matrix\n",
    "co_matrix = create_co_matrix(ngrams, vocab_size, word_to_index)\n",
    "\n",
    "# Optionally, print the matrix or parts of it\n",
    "# print(co_matrix.value_counts())"
   ]
  },
  {
   "cell_type": "markdown",
   "metadata": {},
   "source": [
    "With the code below you can verify if the co-occurence works"
   ]
  },
  {
   "cell_type": "code",
   "execution_count": 19,
   "metadata": {},
   "outputs": [
    {
     "name": "stdout",
     "output_type": "stream",
     "text": [
      "Co-occurrence count for 'the' and 'jury': 7\n",
      "One or both words 'the' and 'cat' are not in the vocabulary.\n"
     ]
    }
   ],
   "source": [
    "def check_co_occurrence(word1, word2, co_matrix, word_to_index):\n",
    "    \"\"\"\n",
    "    Print the co-occurrence count for a specific word pair.\n",
    "    \"\"\"\n",
    "    if word1 not in word_to_index or word2 not in word_to_index:\n",
    "        print(f\"One or both words '{word1}' and '{word2}' are not in the vocabulary.\")\n",
    "        return\n",
    "\n",
    "    index1 = word_to_index[word1]\n",
    "    index2 = word_to_index[word2]\n",
    "\n",
    "    co_count = co_matrix[index1][index2]\n",
    "    print(f\"Co-occurrence count for '{word1}' and '{word2}': {co_count}\")\n",
    "\n",
    "check_co_occurrence('the', 'jury', co_matrix, word_to_index)\n",
    "check_co_occurrence('the', 'cat', co_matrix, word_to_index)"
   ]
  },
  {
   "cell_type": "markdown",
   "metadata": {},
   "source": [
    "In this part, we reduce the dimensionality of the **co-occurrence matrix** using **Singular Value Decomposition (SVD)**. This technique helps in extracting the most important features from the matrix, making it easier to visualize and interpret the relationships between words.\n",
    "\n",
    "Steps:\n",
    "1. **Singular Value Decomposition (SVD)**: The co-occurrence matrix is decomposed into three matrices: \\( M = U \\cdot \\Sigma \\cdot V^T \\).\n",
    "2. **Dimensionality Reduction**: We retain only the top `k` components (default is 2) from the SVD, effectively reducing the dimensionality of the matrix.\n",
    "3. **Reduced Matrix**: The reduced matrix retains the most important semantic information and can be used for tasks such as **word embedding visualization** or **semantic similarity analysis**.\n",
    "\n",
    "Dimensionality reduction allows us to capture the essence of word relationships in fewer dimensions, making it more efficient to process and visualize the data."
   ]
  },
  {
   "cell_type": "code",
   "execution_count": 21,
   "metadata": {},
   "outputs": [],
   "source": [
    "def reduce_to_k_dim(M, k=2):\n",
    "    \"\"\"\n",
    "    Reduce the dimensionality of the co-occurrence matrix M to k dimensions using SVD.\n",
    "    \"\"\"\n",
    "    U, S, Vt = np.linalg.svd(M, full_matrices=False)\n",
    "    # Select the top k singular values and corresponding vectors\n",
    "    U_reduced = U[:, :k]\n",
    "    S_reduced = np.diag(S[:k])\n",
    "    Vt_reduced = Vt[:k, :]\n",
    "    # Reconstruct the reduced matrix\n",
    "    M_reduced = np.dot(U_reduced, S_reduced)\n",
    "    M_reduced = np.dot(M_reduced, Vt_reduced)\n",
    "    # # Normalize the reduced matrix\n",
    "    # M_reduced = M_reduced.astype(np.float32)\n",
    "    # M_reduced /= np.sum(M_reduced, axis=1, keepdims=True)  # Normalize by row sums\n",
    "\n",
    "    return M_reduced"
   ]
  },
  {
   "cell_type": "markdown",
   "metadata": {},
   "source": [
    "In this final part, we visualize the reduced word embeddings in **2D space**. After reducing the dimensionality of the co-occurrence matrix using SVD, we plot the embeddings for each word to observe their relationships in a low-dimensional space.\n",
    "\n",
    "Steps:\n",
    "1. **Plotting the Embeddings**: Each word from the vocabulary is plotted based on its 2D coordinates from the reduced matrix.\n",
    "2. **Visualization**: The scatter plot allows us to see how words cluster together or relate to each other based on co-occurrences in the text. Words with similar contexts should appear closer to each other in the plot.\n",
    "3. **Interpretation**: By looking at the 2D plot, we can analyze word similarities, relationships, and clusters formed by words that often occur together.\n",
    "\n",
    "This visualization is a useful tool for understanding the structure of word embeddings and the relationships between words in the corpus.\n",
    "\n",
    "\n",
    "\n",
    "\n",
    "\n"
   ]
  },
  {
   "cell_type": "code",
   "execution_count": 24,
   "metadata": {},
   "outputs": [
    {
     "data": {
      "image/png": "[encoded data removed]",
      "text/plain": [
       "<Figure size 1000x1000 with 1 Axes>"
      ]
     },
     "metadata": {},
     "output_type": "display_data"
    }
   ],
   "source": [
    "def plot_embeddings(M_reduced, words):\n",
    "    \"\"\"\n",
    "    Plot the word embeddings in 2D space.\n",
    "    \"\"\"\n",
    "    plt.figure(figsize=(10, 10))\n",
    "    for i, word in enumerate(words):\n",
    "        if word in word_to_index:\n",
    "            x, y = M_reduced[word_to_index[word], :2]\n",
    "            plt.scatter(x, y)\n",
    "            plt.annotate(word, (x, y), fontsize=12)\n",
    "\n",
    "words = ['movie', 'book', 'mysterious', 'story', 'fascinating', 'good', 'interesting', 'large', 'massive', 'huge']\n",
    "\n",
    "M_reduced = reduce_to_k_dim(co_matrix, k=2)\n",
    "plot_embeddings(M_reduced, vocab)"
   ]
  },
  {
   "cell_type": "markdown",
   "metadata": {},
   "source": [
    "## Prediction-Based Word Vectors\n",
    "In this section, we load pre-trained word vectors using the **GloVe** embeddings from the [Stanford NLP paper on GloVe](https://nlp.stanford.edu/pubs/glove.pdf). The pre-trained embeddings provide rich semantic information about words based on large text corpora, allowing us to represent words as vectors that capture their meaning and relationships.\n",
    "\n",
    "Steps:\n",
    "1. **Load GloVe Word Vectors**: We use the GloVe embeddings from the `glove-wiki-gigaword-200` model, which has 200-dimensional vectors for each word.\n",
    "2. **Vocabulary Matching**: We map the words from our corpus to the GloVe vocabulary and extract the corresponding vectors.\n",
    "3. **Dimensionality Reduction**: After obtaining the word vectors, we reduce the dimensionality to visualize the embeddings in 2D space, allowing us to explore word relationships visually.\n",
    "\n",
    "This is an excellent opportunity to explore how pre-trained embeddings like GloVe can be used to improve downstream NLP tasks by providing richer word representations."
   ]
  },
  {
   "cell_type": "code",
   "execution_count": null,
   "metadata": {},
   "outputs": [],
   "source": [
    "# Do not edit\n",
    "import gensim.downloader as api\n",
    "import numpy as np\n",
    "wv_from_bin = api.load(\"glove-wiki-gigaword-200\")\n",
    "print(\"Loaded vocab size %i\" % len(list(wv_from_bin.index_to_key)))\n",
    "\n",
    "wv_words = list(wv_from_bin.index_to_key)\n",
    "unique_tokens = set(tokens)\n",
    "word2ind = {}\n",
    "M = []\n",
    "idx = 0\n",
    "print('rendering M based on wv')\n",
    "for w in wv_words:\n",
    "    try:\n",
    "        M.append(wv_from_bin.get_vector(w))\n",
    "        word2ind[w] = idx\n",
    "        idx += 1\n",
    "    except:\n",
    "        pass\n",
    "\n",
    "print('rendering M based on unique_tokens')\n",
    "for w in unique_tokens:\n",
    "    if w in wv_words:\n",
    "        continue\n",
    "    try:\n",
    "        M.append(wv_from_bin.get_vector(w))\n",
    "        word2ind[w] = idx\n",
    "        idx += 1\n",
    "    except:\n",
    "        pass\n",
    "M = np.stack(M)\n",
    "M_reduced = reduce_to_k_dim(M, k=2)\n",
    "\n",
    "M_lengths = np.linalg.norm(M_reduced, axis=1)\n",
    "M_reduced_normalized = M_reduced / M_lengths[:, np.newaxis]"
   ]
  },
  {
   "cell_type": "markdown",
   "metadata": {},
   "source": [
    "### Compare plots\n",
    "What stands out when comparing the two different ways of embedding using the given words?\n",
    "\n",
    "(Use this to help answer the question in your assignment document)."
   ]
  },
  {
   "cell_type": "code",
   "execution_count": null,
   "metadata": {},
   "outputs": [],
   "source": [
    "plot_embeddings(M_reduced_normalized, tokens)"
   ]
  },
  {
   "cell_type": "markdown",
   "metadata": {},
   "source": [
    "### Words with multiple meanings\n",
    "Polysemes and homonyms are words that have more than one meaning (see [this wiki page](https://en.wikipedia.org/wiki/Polysemy) to learn more about the difference between polysemes and homonyms). Your task is to find a word with at least two different meanings such that the top-10 most similar words (according to cosine similarity) contain related words from both meanings.\n",
    "\n",
    "For example:\n",
    "- \"leaves\" has both the \"go_away\" and \"a_structure_of_a_plant\" meanings in the top 10.\n",
    "- \"scoop\" has both \"handed_waffle_cone\" and \"lowdown\" meanings in the top 10.\n",
    "\n",
    "You will probably need to try several polysemous or homonymic words before you find one.\n",
    "\n",
    "Once you discover a word that fits this criterion, state the word and explain the multiple meanings that occur in the top 10. Reflect on why many of the polysemous or homonymic words you tried didn’t work (i.e., why the top-10 most similar words only contain one of the word's meanings).\n",
    "\n",
    "**Note**: Use the `wv_from_bin.most_similar(word)` function to get the top 10 most similar words. This function ranks all other words in the vocabulary based on their cosine similarity to the given word. For further assistance, you can refer to the [Gensim documentation](https://radimrehurek.com/gensim/models/keyedvectors.html)."
   ]
  },
  {
   "cell_type": "code",
   "execution_count": null,
   "metadata": {},
   "outputs": [],
   "source": [
    "## Your code here"
   ]
  },
  {
   "cell_type": "markdown",
   "metadata": {},
   "source": [
    "### Synonyms\n",
    "When considering **Cosine Similarity**, it's often useful to think of **Cosine Distance**, which is simply 1 - Cosine Similarity.\n",
    "\n",
    "Find three words \\( (w_1, w_2, w_3) \\) where:\n",
    "- \\(w_1\\) and \\(w_2\\) are **synonyms**.\n",
    "- \\(w_1\\) and \\(w_3\\) are **antonyms**.\n",
    "\n",
    "However, you need to find a case where **Cosine Distance** \\( (w_1, w_3) < \\text{Cosine Distance} (w_1, w_2) \\). In other words, the antonym is **closer** to the word than its synonym in the vector space.\n",
    "\n",
    "For example, \"happy\" (\\(w_1\\)) may be closer to \"sad\" (\\(w_3\\)) than to \"cheerful\" (\\(w_2\\)), which is counter-intuitive since we expect synonyms to be closer than antonyms. \n",
    "\n",
    "Once you find such an example, provide a possible explanation for why this result may have occurred.\n",
    "\n",
    "Use the `wv_from_bin.distance(w1, w2)` function to compute the cosine distance between two words. You can refer to the [Gensim documentation](https://radimrehurek.com/gensim/models/keyedvectors.html) for further assistance.\n",
    "\n",
    "\n",
    "\n",
    "\n",
    "\n"
   ]
  },
  {
   "cell_type": "code",
   "execution_count": null,
   "metadata": {},
   "outputs": [],
   "source": [
    "## Your code here"
   ]
  },
  {
   "cell_type": "markdown",
   "metadata": {},
   "source": [
    "### Analogies\n",
    "Word vectors have demonstrated the ability to solve analogies based on their learned semantic relationships. For instance, consider the analogy: \n",
    "\n",
    "**\"man : grandfather :: woman : x\"** \n",
    "\n",
    "(Read: man is to grandfather as woman is to x). Using word vectors, we can find the word \\(x\\) that completes the analogy.\n",
    "\n",
    "In the example provided, we use the `most_similar` function from the Gensim library. This function identifies words that are most similar to the words in the positive list and most dissimilar to those in the negative list. For analogy solving, it effectively computes:\n",
    "\n",
    "\\[ \\text{word}(x) = \\text{most similar to} (\\text{woman} + \\text{grandfather} - \\text{man}) \\]\n",
    "\n",
    "The result is the word with the highest cosine similarity to the target vector. You can use this approach to explore various analogies and gain insights into the semantic structure of word vectors.\n",
    "\n",
    "Refer to the [Gensim documentation](https://radimrehurek.com/gensim/models/keyedvectors.html) for more details on the `most_similar` function and how word vectors handle analogy-solving tasks."
   ]
  },
  {
   "cell_type": "code",
   "execution_count": null,
   "metadata": {},
   "outputs": [
    {
     "name": "stdout",
     "output_type": "stream",
     "text": [
      "[('grandmother', 0.7608445286750793), ('granddaughter', 0.7200808525085449), ('daughter', 0.7168302536010742), ('mother', 0.7151536345481873), ('niece', 0.7005682587623596), ('father', 0.6659887433052063), ('aunt', 0.6623408794403076), ('grandson', 0.6618767976760864), ('grandparents', 0.644661009311676), ('wife', 0.6445354223251343)]\n"
     ]
    }
   ],
   "source": [
    "# Run this cell to answer the analogy -- man : grandfather :: woman : x\n",
    "print(wv_from_bin.most_similar(positive=['woman', 'grandfather'], negative=['man']))"
   ]
  },
  {
   "cell_type": "markdown",
   "metadata": {},
   "source": [
    "### Bias in word vectors\n",
    "a. **Observation**: Consider the results of a word vector model when queried with analogies involving \"man\", \"woman\", and \"profession\". What are the top results returned by the model for each query?\n",
    "\n",
    "[Your Answer]\n",
    "\n",
    "b. **Analysis**: Do you observe any gender biases in the results? For example, are certain professions more closely associated with \"man\" or \"woman\" based on the word vectors? Discuss how word embeddings might perpetuate societal biases present in the training data.\n",
    "\n",
    "[Your Answer]\n",
    "\n",
    "c. **Reflection**: How might such biases affect the fairness of machine learning models that use word embeddings? Suggest potential strategies for mitigating gender bias in word vector models.\n",
    "\n",
    "[Your Answer]"
   ]
  },
  {
   "cell_type": "code",
   "execution_count": null,
   "metadata": {},
   "outputs": [],
   "source": [
    "print(wv_from_bin.most_similar(positive=['man', 'profession'], negative=['woman']))\n",
    "print()\n",
    "print(wv_from_bin.most_similar(positive=['woman', 'profession'], negative=['man']))"
   ]
  }
 ],
 "metadata": {
  "kernelspec": {
   "display_name": "nlp",
   "language": "python",
   "name": "python3"
  },
  "language_info": {
   "codemirror_mode": {
    "name": "ipython",
    "version": 3
   },
   "file_extension": ".py",
   "mimetype": "text/x-python",
   "name": "python",
   "nbconvert_exporter": "python",
   "pygments_lexer": "ipython3",
   "version": "3.10.16"
  }
 },
 "nbformat": 4,
 "nbformat_minor": 2
}
