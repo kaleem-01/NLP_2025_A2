{
 "cells": [
  {
   "cell_type": "code",
   "execution_count": 1,
   "metadata": {},
   "outputs": [],
   "source": [
    "import os\n",
    "import numpy as np\n",
    "import matplotlib.pyplot as plt\n",
    "\n",
    "os.makedirs('./results_nltk', exist_ok=True)\n",
    "\n",
    "with open('./brown_100.txt', 'r') as file_:\n",
    "    corpus = file_.read()\n",
    "\n",
    "def write_freqs(list_: list, filename: str) -> None:\n",
    "    with open(f'./results_nltk/{filename}.txt', 'w') as file_:\n",
    "        file_.write('\\n'.join([' '.join(x[0]) + ' | ' + str(x[1]) for x in list_]))"
   ]
  },
  {
   "cell_type": "markdown",
   "metadata": {},
   "source": [
    "## N-Gram Language Modeling\n",
    "In the second assignment, you will implement an **n-gram language model** that processes input text to generate, analyze, and calculate the probabilities of sequences of `n` words (n-grams). This model will tokenize text, create n-grams, and compute their frequencies and probabilities, returning the most frequent n-grams in the text.\n",
    "\n",
    "1. **Tokenization**: Convert the input text into a list of words (tokens).\n",
    "2. **N-gram Generation**: Create sequences of `n` tokens from the text, treating each sentence independently with the inclusion of start (`<s>`) and end (`</s>`) markers.\n",
    "3. **Frequency Counting**: Count how many times each n-gram appears in the text.\n",
    "4. **Probability Calculation**: Compute the probabilities of each n-gram based on its frequency and add alpha smoothing to improve generalization of items.\n",
    "5. **Most Frequent N-grams**: Return the most frequent n-grams along with their probabilities, helping to identify common patterns in the text."
   ]
  },
  {
   "cell_type": "code",
   "execution_count": 7,
   "metadata": {},
   "outputs": [
    {
     "name": "stdout",
     "output_type": "stream",
     "text": [
      "Tokens (sentence-wise): [['This', 'is', 'a', 'simple', 'example', 'to', 'demonstrate', 'how', 'n-grams', 'work', 'in', 'this', 'assignment'], ['Looking', 'at', 'the', 'example', 'is', 'faster', 'than', 'working', 'with', 'full', 'n-grams', 'corpus', 'for', 'the', 'assignment']]\n",
      "Generated n-grams: [('<s>', 'This'), ('This', 'is'), ('is', 'a'), ('a', 'simple'), ('simple', 'example'), ('example', 'to'), ('to', 'demonstrate'), ('demonstrate', 'how'), ('how', 'n-grams'), ('n-grams', 'work'), ('work', 'in'), ('in', 'this'), ('this', 'assignment'), ('assignment', '</s>'), ('<s>', 'Looking'), ('Looking', 'at'), ('at', 'the'), ('the', 'example'), ('example', 'is'), ('is', 'faster'), ('faster', 'than'), ('than', 'working'), ('working', 'with'), ('with', 'full'), ('full', 'n-grams'), ('n-grams', 'corpus'), ('corpus', 'for'), ('for', 'the'), ('the', 'assignment'), ('assignment', '</s>')]\n",
      "N-gram frequencies: {('<s>', 'This'): 1, ('This', 'is'): 1, ('is', 'a'): 1, ('a', 'simple'): 1, ('simple', 'example'): 1, ('example', 'to'): 1, ('to', 'demonstrate'): 1, ('demonstrate', 'how'): 1, ('how', 'n-grams'): 1, ('n-grams', 'work'): 1, ('work', 'in'): 1, ('in', 'this'): 1, ('this', 'assignment'): 1, ('assignment', '</s>'): 2, ('<s>', 'Looking'): 1, ('Looking', 'at'): 1, ('at', 'the'): 1, ('the', 'example'): 1, ('example', 'is'): 1, ('is', 'faster'): 1, ('faster', 'than'): 1, ('than', 'working'): 1, ('working', 'with'): 1, ('with', 'full'): 1, ('full', 'n-grams'): 1, ('n-grams', 'corpus'): 1, ('corpus', 'for'): 1, ('for', 'the'): 1, ('the', 'assignment'): 1}\n",
      "N-gram probabilities: {('<s>', 'This'): 0.5, ('This', 'is'): 1.0, ('is', 'a'): 0.5, ('a', 'simple'): 1.0, ('simple', 'example'): 1.0, ('example', 'to'): 0.5, ('to', 'demonstrate'): 1.0, ('demonstrate', 'how'): 1.0, ('how', 'n-grams'): 1.0, ('n-grams', 'work'): 0.5, ('work', 'in'): 1.0, ('in', 'this'): 1.0, ('this', 'assignment'): 1.0, ('assignment', '</s>'): 1.0, ('<s>', 'Looking'): 0.5, ('Looking', 'at'): 1.0, ('at', 'the'): 1.0, ('the', 'example'): 0.5, ('example', 'is'): 0.5, ('is', 'faster'): 0.5, ('faster', 'than'): 1.0, ('than', 'working'): 1.0, ('working', 'with'): 1.0, ('with', 'full'): 1.0, ('full', 'n-grams'): 1.0, ('n-grams', 'corpus'): 0.5, ('corpus', 'for'): 1.0, ('for', 'the'): 1.0, ('the', 'assignment'): 0.5}\n",
      "Most frequent n-grams: [(('assignment', '</s>'), 1.0), (('<s>', 'This'), 0.5), (('This', 'is'), 1.0), (('is', 'a'), 0.5), (('a', 'simple'), 1.0), (('simple', 'example'), 1.0), (('example', 'to'), 0.5), (('to', 'demonstrate'), 1.0), (('demonstrate', 'how'), 1.0), (('how', 'n-grams'), 1.0)]\n"
     ]
    },
    {
     "name": "stderr",
     "output_type": "stream",
     "text": [
      "[nltk_data] Downloading package punkt to\n",
      "[nltk_data]     C:\\Users\\ramya\\AppData\\Roaming\\nltk_data...\n",
      "[nltk_data]   Package punkt is already up-to-date!\n"
     ]
    }
   ],
   "source": [
    "import nltk\n",
    "from nltk.util import ngrams as nltk_ngrams\n",
    "from nltk import FreqDist\n",
    "from nltk.tokenize import sent_tokenize, word_tokenize\n",
    "import string\n",
    "nltk.download('punkt')  # Download tokenizer models if not downloaded already\n",
    "\n",
    "class NGramModel:\n",
    "    def __init__(self, text, n, alpha=0.0):\n",
    "        self.text = text\n",
    "        self.n = n\n",
    "        self.alpha = alpha\n",
    "        self.n_grams_list = []\n",
    "        self.ngrams = {}\n",
    "        self.total_count = 0\n",
    "        self.probabilities = {}\n",
    "        self.vocab = set()\n",
    "\n",
    "    def tokenize(self) -> list:\n",
    "        sentences = nltk.sent_tokenize(self.text)\n",
    "        tokens = []\n",
    "        for sentence in sentences:\n",
    "            words = nltk.word_tokenize(sentence)\n",
    "            # Now, safely remove punctuation\n",
    "            words = [w for w in words if w not in string.punctuation]\n",
    "            tokens.append(words)\n",
    "        return tokens\n",
    "\n",
    "    def generate_ngrams(self, sentences_tokens: list) -> list:\n",
    "        ngram_list = []\n",
    "        for tokens in sentences_tokens:\n",
    "            tokens = ['<s>'] * (self.n - 1) + tokens + ['</s>']\n",
    "            ngram_list.extend(nltk_ngrams(tokens, self.n))\n",
    "\n",
    "        self.n_grams_list = ngram_list\n",
    "\n",
    "        # build vocab (excluding <s> and </s>)\n",
    "        self.vocab = set(token for tokens in sentences_tokens for token in tokens)\n",
    "        return self.n_grams_list\n",
    "\n",
    "    def count_frequencies(self) -> dict:\n",
    "        if not self.n_grams_list:\n",
    "            raise ValueError(\"N-grams have not been generated yet.\")\n",
    "        freq_dist = FreqDist(self.n_grams_list)\n",
    "        self.ngrams = dict(freq_dist)\n",
    "        self.total_count = freq_dist.N()  # Total number of samples\n",
    "        return self.ngrams\n",
    "\n",
    "    def calculate_probabilities(self) -> dict:\n",
    "        if not self.ngrams:\n",
    "            raise ValueError(\"Frequency of N-grams is not yet calculated.\")\n",
    "\n",
    "        V = len(self.vocab)\n",
    "\n",
    "        # Use FreqDist for histories too\n",
    "        histories = [ngram[:-1] for ngram in self.n_grams_list]\n",
    "        history_freq = FreqDist(histories)\n",
    "\n",
    "        self.probabilities = {}\n",
    "\n",
    "        for ngram in self.ngrams:\n",
    "            history = ngram[:-1]\n",
    "            if self.alpha == 0:\n",
    "                prob = self.ngrams[ngram] / history_freq[history]\n",
    "            else:\n",
    "                prob = (self.ngrams[ngram] + self.alpha) / (history_freq[history] + self.alpha * V)\n",
    "\n",
    "            self.probabilities[ngram] = prob\n",
    "\n",
    "        return self.probabilities\n",
    "\n",
    "    def most_frequent_ngrams(self, top_n: int = 10) -> list:\n",
    "        if not self.ngrams:\n",
    "            raise ValueError(\"Frequency of N-grams is not yet calculated.\")\n",
    "\n",
    "        sorted_ngrams = sorted(self.ngrams.items(), key=lambda x: x[1], reverse=True)\n",
    "        most_frequent = sorted_ngrams[:top_n]\n",
    "        most_frequent_ngrams = [(gram, self.probabilities[gram]) for gram, count in most_frequent]\n",
    "        return most_frequent_ngrams\n",
    "\n",
    "# --- Testing the model with an example ---\n",
    "text = (\"This is a simple example to demonstrate how n-grams work in this assignment. \"\n",
    "        \"Looking at the example is faster than working with full n-grams corpus for the assignment.\")\n",
    "\n",
    "n = 2  # bigrams\n",
    "model = NGramModel(text, n)\n",
    "\n",
    "tokens = model.tokenize()\n",
    "print(\"Tokens (sentence-wise):\", tokens)\n",
    "\n",
    "ngrams_generated = model.generate_ngrams(tokens)\n",
    "print(\"Generated n-grams:\", ngrams_generated)\n",
    "\n",
    "model.count_frequencies()\n",
    "print(\"N-gram frequencies:\", model.ngrams)\n",
    "\n",
    "model.calculate_probabilities()\n",
    "print(\"N-gram probabilities:\", model.probabilities)\n",
    "\n",
    "print(\"Most frequent n-grams:\", model.most_frequent_ngrams(10))\n"
   ]
  },
  {
   "cell_type": "markdown",
   "metadata": {},
   "source": [
    " CROSS VERIFICATION OF MANUAL OUTPUT"
   ]
  },
  {
   "cell_type": "code",
   "execution_count": 8,
   "metadata": {},
   "outputs": [],
   "source": [
    "# Tokens: [['<s>', 'This', 'is', 'a', 'simple', 'example', 'to', 'demonstrate', 'how', 'n-grams', 'work', 'in', 'this', 'assignment', '</s>'], ['<s>', 'Looking', 'at', 'the', 'example', 'is', 'faster', 'than', 'working', 'with', 'full', 'n-grams', 'corpus', 'for', 'the', 'assignment', '</s>']]\n",
    "# Generated n-grams: [('<s>', 'This'), ('This', 'is'), ('is', 'a'), ('a', 'simple'), ('simple', 'example'), ('example', 'to'), ('to', 'demonstrate'), ('demonstrate', 'how'), ('how', 'n-grams'), ('n-grams', 'work'), ('work', 'in'), ('in', 'this'), ('this', 'assignment'), ('assignment', '</s>'), ('<s>', 'Looking'), ('Looking', 'at'), ('at', 'the'), ('the', 'example'), ('example', 'is'), ('is', 'faster'), ('faster', 'than'), ('than', 'working'), ('working', 'with'), ('with', 'full'), ('full', 'n-grams'), ('n-grams', 'corpus'), ('corpus', 'for'), ('for', 'the'), ('the', 'assignment'), ('assignment', '</s>')]\n",
    "# N-gram frequencies: Counter({('assignment', '</s>'): 2, ('<s>', 'This'): 1, ('This', 'is'): 1, ('is', 'a'): 1, ('a', 'simple'): 1, ('simple', 'example'): 1, ('example', 'to'): 1, ('to', 'demonstrate'): 1, ('demonstrate', 'how'): 1, ('how', 'n-grams'): 1, ('n-grams', 'work'): 1, ('work', 'in'): 1, ('in', 'this'): 1, ('this', 'assignment'): 1, ('<s>', 'Looking'): 1, ('Looking', 'at'): 1, ('at', 'the'): 1, ('the', 'example'): 1, ('example', 'is'): 1, ('is', 'faster'): 1, ('faster', 'than'): 1, ('than', 'working'): 1, ('working', 'with'): 1, ('with', 'full'): 1, ('full', 'n-grams'): 1, ('n-grams', 'corpus'): 1, ('corpus', 'for'): 1, ('for', 'the'): 1, ('the', 'assignment'): 1})\n",
    "# N-gram probabilities: {('<s>', 'This'): 0.5, ('This', 'is'): 1.0, ('is', 'a'): 0.5, ('a', 'simple'): 1.0, ('simple', 'example'): 1.0, ('example', 'to'): 0.5, ('to', 'demonstrate'): 1.0, ('demonstrate', 'how'): 1.0, ('how', 'n-grams'): 1.0, ('n-grams', 'work'): 0.5, ('work', 'in'): 1.0, ('in', 'this'): 1.0, ('this', 'assignment'): 1.0, ('assignment', '</s>'): 1.0, ('<s>', 'Looking'): 0.5, ('Looking', 'at'): 1.0, ('at', 'the'): 1.0, ('the', 'example'): 0.5, ('example', 'is'): 0.5, ('is', 'faster'): 0.5, ('faster', 'than'): 1.0, ('than', 'working'): 1.0, ('working', 'with'): 1.0, ('with', 'full'): 1.0, ('full', 'n-grams'): 1.0, ('n-grams', 'corpus'): 0.5, ('corpus', 'for'): 1.0, ('for', 'the'): 1.0, ('the', 'assignment'): 0.5}\n",
    "# [(('assignment', '</s>'), 1.0), (('<s>', 'This'), 0.5), (('This', 'is'), 1.0), (('is', 'a'), 0.5), (('a', 'simple'), 1.0), (('simple', 'example'), 1.0), (('example', 'to'), 0.5), (('to', 'demonstrate'), 1.0), (('demonstrate', 'how'), 1.0), (('how', 'n-grams'), 1.0)]"
   ]
  },
  {
   "cell_type": "markdown",
   "metadata": {},
   "source": [
    "### Unigrams\n",
    "\n",
    "In this section, we apply the `NGramModel` to our corpus. The model can be configured to generate unigrams, bigrams, or trigrams by adjusting the value of `n`. After tokenizing the text and generating the n-grams, the model counts the occurrences of each n-gram and calculates their probabilities. The most frequent n-grams are then written to an output file.\n",
    "\n",
    "By adjusting the n-gram size, we can analyze different levels of word dependencies in the text, providing insights into common word sequences and patterns.  \n",
    "\n",
    "The code below will generate unigrams when the NGramModel is implemented correctly"
   ]
  },
  {
   "cell_type": "code",
   "execution_count": 9,
   "metadata": {},
   "outputs": [
    {
     "name": "stdout",
     "output_type": "stream",
     "text": [
      "Most frequent unigrams: [(('the',), 0.053311120366513955), (('s',), 0.04164931278633902), (('/s',), 0.04164931278633902), (('</s>',), 0.03956684714702208), (('``',), 0.028738025822573926), (('of',), 0.02790503956684715), (('to',), 0.022907122032486463), (('a',), 0.02082465639316951), (('and',), 0.01665972511453561), (('in',), 0.01624323198667222)]\n"
     ]
    }
   ],
   "source": [
    "n = 1  # You can change this to 1, 2, or 3 for uni, bi, or trigrams\n",
    "model = NGramModel(corpus, n)\n",
    "\n",
    "tokens = model.tokenize()\n",
    "ngrams = model.generate_ngrams(tokens)\n",
    "model.count_frequencies()\n",
    "model.calculate_probabilities()\n",
    "\n",
    "write_freqs(model.most_frequent_ngrams(10), 'unigrams')\n",
    "print(\"Most frequent unigrams:\", model.most_frequent_ngrams(10))"
   ]
  },
  {
   "cell_type": "markdown",
   "metadata": {},
   "source": [
    "### Bigrams\n",
    "Bigrams allow us to explore word pairs and their relationships, providing insight into common word combinations and phrase structures within the corpus.  \n",
    "The code below will generate bigrams when the NGramModel is implemented correctly."
   ]
  },
  {
   "cell_type": "code",
   "execution_count": 10,
   "metadata": {},
   "outputs": [
    {
     "name": "stdout",
     "output_type": "stream",
     "text": [
      "Most frequent bigrams: [(('/s', 's'), 0.99), (('<s>', '/s'), 0.9368421052631579), (('s', 'The'), 0.27), (('in', 'the'), 0.38461538461538464), (('``', '</s>'), 0.21739130434782608), (('of', 'the'), 0.208955223880597), (('s', '``'), 0.08), (('the', 'jury'), 0.0546875), (('jury', 'said'), 0.4117647058823529), (('Fulton', 'County'), 0.42857142857142855)]\n"
     ]
    }
   ],
   "source": [
    "n = 2  # You can change this to 1, 2, or 3 for uni, bi, or trigrams\n",
    "model = NGramModel(corpus, n)\n",
    "\n",
    "tokens = model.tokenize()\n",
    "ngram_output = model.generate_ngrams(tokens)  # <- don't name this 'ngrams'\n",
    "model.count_frequencies()\n",
    "model.calculate_probabilities()\n",
    "\n",
    "write_freqs(model.most_frequent_ngrams(10), 'bigrams')\n",
    "print(\"Most frequent bigrams:\", model.most_frequent_ngrams(10))\n"
   ]
  },
  {
   "cell_type": "markdown",
   "metadata": {},
   "source": [
    "### Trigrams\n",
    "Trigrams capture three-word sequences, providing a deeper understanding of longer word dependencies and commonly occurring phrases within the text.  \n",
    "The code below will generate trigrams when the NGramModel is implemented correctly"
   ]
  },
  {
   "cell_type": "code",
   "execution_count": 11,
   "metadata": {},
   "outputs": [
    {
     "name": "stdout",
     "output_type": "stream",
     "text": [
      "Most frequent trigrams: [(('<s>', '<s>', '/s'), 0.9368421052631579), (('<s>', '/s', 's'), 0.9887640449438202), (('/s', 's', 'The'), 0.26262626262626265), (('/s', 's', '``'), 0.08080808080808081), (('s', 'The', 'jury'), 0.2222222222222222), (('/s', 's', 'It'), 0.06060606060606061), (('the', 'jury', 'said'), 0.7142857142857143), (('of', 'Georgia', \"'s\"), 1.0), (('/s', 's', 'A'), 0.04040404040404041), (('``', 'the', 'jury'), 0.5)]\n"
     ]
    }
   ],
   "source": [
    "n = 3  # You can change this to 1, 2, or 3 for uni, bi, or trigrams\n",
    "model = NGramModel(corpus, n)\n",
    "\n",
    "tokens = model.tokenize()\n",
    "ngrams_output = model.generate_ngrams(tokens)\n",
    "model.count_frequencies()\n",
    "model.calculate_probabilities()\n",
    "\n",
    "write_freqs(model.most_frequent_ngrams(10), 'trigrams')\n",
    "print(\"Most frequent trigrams:\", model.most_frequent_ngrams(10))"
   ]
  },
  {
   "cell_type": "markdown",
   "metadata": {},
   "source": [
    "### Smoothing\n",
    "Below, we generate **bigrams** with **smoothing** applied by setting `n = 2` and including a smoothing parameter `alpha = 1.0`. Smoothing is useful in language models to handle unseen n-grams by assigning a small probability to them. The model tokenizes the text, generates bigrams, counts their frequencies, and calculates smoothed probabilities. The most frequent bigrams are then written to an output file.\n",
    "\n",
    "\n",
    "\n"
   ]
  },
  {
   "cell_type": "code",
   "execution_count": 12,
   "metadata": {},
   "outputs": [],
   "source": [
    "n = 2  # You can change this to 1, 2, or 3 for uni, bi, or trigrams\n",
    "model = NGramModel(corpus, n, alpha=1.0)\n",
    "\n",
    "tokens = model.tokenize()\n",
    "ngrams = model.generate_ngrams(tokens)\n",
    "model.count_frequencies()\n",
    "model.calculate_probabilities()\n",
    "\n",
    "write_freqs(model.most_frequent_ngrams(10), 'bigrams_smoothed')"
   ]
  },
  {
   "cell_type": "markdown",
   "metadata": {},
   "source": [
    "### Generating Text\n",
    "In this example, we generate text using the **bigrams** model by providing a starting **prompt** (e.g., \"the jury\"). The `generate_text` function creates a sequence of words based on the trained bigram model, starting from the provided prompt and continuing based on the probabilities of the next words.\n",
    "\n",
    "After tokenizing the corpus, generating bigrams, and calculating their frequencies and probabilities, the model uses these learned probabilities to generate text. The generated output is then written to a file.\n",
    "\n",
    "Text generation with n-grams helps illustrate how language models can predict word sequences, allowing us to create new sentences that follow similar patterns found in the original text."
   ]
  },
  {
   "cell_type": "code",
   "execution_count": 14,
   "metadata": {},
   "outputs": [],
   "source": [
    "def generate_text(model: NGramModel, n: int, prompt: str) -> str:\n",
    "    # Generate text based on the n-gram model and a given prompt.\n",
    "    if n != model.n:\n",
    "        raise ValueError(f\"Model is built for n={model.n}, but n={n} was provided.\")\n",
    "    if not prompt:\n",
    "        raise ValueError(\"Prompt is empty. Please provide a valid prompt.\")\n",
    "    generated_tokens = prompt.split()\n",
    "    for i in range(15):\n",
    "        if len(generated_tokens) < n-1:\n",
    "            continue\n",
    "        # Get the last n-1 tokens to form the context for prediction\n",
    "        prev_tokens= tuple(generated_tokens[-(n-1):])\n",
    "        # Get the probabilities of the next token given the previous n-1 tokens\n",
    "        next_token_probs = {key_dictionary: prob_value_dictionary for key_dictionary, prob_value_dictionary in model.probabilities.items() if key_dictionary[:-1] == prev_tokens}\n",
    "        if not next_token_probs:\n",
    "            break  # No more tokens can be generated\n",
    "        \n",
    "        next_token = max(next_token_probs, key=next_token_probs.get)[-1]\n",
    "        # Append the next token to the generated tokens\n",
    "        if next_token == '</s>':\n",
    "            break\n",
    "        generated_tokens.append(next_token)\n",
    "    \n",
    "    return ' '.join(generated_tokens)\n",
    "   \n",
    "tokens = model.tokenize()\n",
    "ngrams = model.generate_ngrams(tokens)\n",
    "model.count_frequencies()\n",
    "model.calculate_probabilities()\n",
    "generated_text = generate_text(model, 2, 'the jury')\n",
    "with open(f'./results_nltk/generated_bigrams.txt', 'w') as file_:\n",
    "    file_.write(generated_text)"
   ]
  },
  {
   "cell_type": "markdown",
   "metadata": {},
   "source": [
    "## Word Vectors\n",
    "Based on the Stanford course: https://web.stanford.edu/class/cs224n/"
   ]
  },
  {
   "cell_type": "markdown",
   "metadata": {},
   "source": [
    "### Count based W2V\n",
    "In this section, we use the previously trained **n-gram model** to calculate a **co-occurrence matrix**. A co-occurrence matrix shows how often words appear together within a specific context (in this case, bigrams), providing insights into word relationships in the corpus.\n",
    "\n",
    "Steps:\n",
    "1. **Tokenization and N-gram Generation**: We first tokenize the text and generate bigrams using the `NGramModel`.\n",
    "2. **Vocabulary and Indexing**: The vocabulary is created from the unique tokens, and a word-to-index mapping is established.\n",
    "3. **Co-occurrence Matrix**: Using the generated n-grams, we compute the co-occurrence matrix, where each entry represents how often two words occur together within the bigrams.\n",
    "\n",
    "The co-occurrence matrix provides a numerical representation of word relationships, which is useful for tasks like word embeddings, semantic analysis, and understanding word associations."
   ]
  },
  {
   "cell_type": "code",
   "execution_count": null,
   "metadata": {},
   "outputs": [],
   "source": [
    "# Since we already have a working ngram model, for the next part we can use the ngrams to calculate the co-occurences.\n",
    "model = NGramModel(corpus, 2)\n",
    "tokens = model.tokenize()\n",
    "ngrams = model.generate_ngrams(tokens)\n",
    "\n",
    "def create_co_matrix(ngrams: list, vocab_size: int, word_to_index: dict) -> np.ndarray:\n",
    "    raise NotImplementedError\n",
    "    return co_matrix\n",
    "\n",
    "vocab = list(set(tokens))\n",
    "vocab_size = len(vocab)\n",
    "\n",
    "# Create a word-to-index mapping\n",
    "word_to_index = {word: idx for idx, word in enumerate(vocab)}\n",
    "\n",
    "# Generate the co-occurrence matrix\n",
    "co_matrix = create_co_matrix(ngrams, vocab_size, word_to_index)\n",
    "\n",
    "# Optionally, print the matrix or parts of it\n",
    "print(co_matrix.value_counts())"
   ]
  },
  {
   "cell_type": "markdown",
   "metadata": {},
   "source": [
    "With the code below you can verify if the co-occurence works"
   ]
  },
  {
   "cell_type": "code",
   "execution_count": null,
   "metadata": {},
   "outputs": [],
   "source": [
    "def check_co_occurrence(word1, word2, co_matrix, word_to_index):\n",
    "    \"\"\"\n",
    "    Print the co-occurrence count for a specific word pair.\n",
    "    \"\"\"\n",
    "    if word1 not in word_to_index or word2 not in word_to_index:\n",
    "        print(f\"One or both words '{word1}' and '{word2}' are not in the vocabulary.\")\n",
    "        return\n",
    "\n",
    "    index1 = word_to_index[word1]\n",
    "    index2 = word_to_index[word2]\n",
    "\n",
    "    co_count = co_matrix[index1][index2]\n",
    "    print(f\"Co-occurrence count for '{word1}' and '{word2}': {co_count}\")\n",
    "\n",
    "check_co_occurrence('the', 'jury', co_matrix, word_to_index)\n",
    "check_co_occurrence('the', 'cat', co_matrix, word_to_index)"
   ]
  },
  {
   "cell_type": "markdown",
   "metadata": {},
   "source": [
    "In this part, we reduce the dimensionality of the **co-occurrence matrix** using **Singular Value Decomposition (SVD)**. This technique helps in extracting the most important features from the matrix, making it easier to visualize and interpret the relationships between words.\n",
    "\n",
    "Steps:\n",
    "1. **Singular Value Decomposition (SVD)**: The co-occurrence matrix is decomposed into three matrices: \\( M = U \\cdot \\Sigma \\cdot V^T \\).\n",
    "2. **Dimensionality Reduction**: We retain only the top `k` components (default is 2) from the SVD, effectively reducing the dimensionality of the matrix.\n",
    "3. **Reduced Matrix**: The reduced matrix retains the most important semantic information and can be used for tasks such as **word embedding visualization** or **semantic similarity analysis**.\n",
    "\n",
    "Dimensionality reduction allows us to capture the essence of word relationships in fewer dimensions, making it more efficient to process and visualize the data."
   ]
  },
  {
   "cell_type": "code",
   "execution_count": null,
   "metadata": {},
   "outputs": [],
   "source": [
    "def reduce_to_k_dim(M, k=2):\n",
    "    raise NotImplementedError\n",
    "    return M_reduced"
   ]
  },
  {
   "cell_type": "markdown",
   "metadata": {},
   "source": [
    "In this final part, we visualize the reduced word embeddings in **2D space**. After reducing the dimensionality of the co-occurrence matrix using SVD, we plot the embeddings for each word to observe their relationships in a low-dimensional space.\n",
    "\n",
    "Steps:\n",
    "1. **Plotting the Embeddings**: Each word from the vocabulary is plotted based on its 2D coordinates from the reduced matrix.\n",
    "2. **Visualization**: The scatter plot allows us to see how words cluster together or relate to each other based on co-occurrences in the text. Words with similar contexts should appear closer to each other in the plot.\n",
    "3. **Interpretation**: By looking at the 2D plot, we can analyze word similarities, relationships, and clusters formed by words that often occur together.\n",
    "\n",
    "This visualization is a useful tool for understanding the structure of word embeddings and the relationships between words in the corpus.\n",
    "\n",
    "\n",
    "\n",
    "\n",
    "\n"
   ]
  },
  {
   "cell_type": "code",
   "execution_count": null,
   "metadata": {},
   "outputs": [],
   "source": [
    "def plot_embeddings():\n",
    "    raise NotImplementedError\n",
    "\n",
    "words = ['movie', 'book', 'mysterious', 'story', 'fascinating', 'good', 'interesting', 'large', 'massive', 'huge']\n",
    "\n",
    "plot_embeddings(M_reduced, vocab)"
   ]
  },
  {
   "cell_type": "markdown",
   "metadata": {},
   "source": [
    "## Prediction-Based Word Vectors\n",
    "In this section, we load pre-trained word vectors using the **GloVe** embeddings from the [Stanford NLP paper on GloVe](https://nlp.stanford.edu/pubs/glove.pdf). The pre-trained embeddings provide rich semantic information about words based on large text corpora, allowing us to represent words as vectors that capture their meaning and relationships.\n",
    "\n",
    "Steps:\n",
    "1. **Load GloVe Word Vectors**: We use the GloVe embeddings from the `glove-wiki-gigaword-200` model, which has 200-dimensional vectors for each word.\n",
    "2. **Vocabulary Matching**: We map the words from our corpus to the GloVe vocabulary and extract the corresponding vectors.\n",
    "3. **Dimensionality Reduction**: After obtaining the word vectors, we reduce the dimensionality to visualize the embeddings in 2D space, allowing us to explore word relationships visually.\n",
    "\n",
    "This is an excellent opportunity to explore how pre-trained embeddings like GloVe can be used to improve downstream NLP tasks by providing richer word representations."
   ]
  },
  {
   "cell_type": "code",
   "execution_count": null,
   "metadata": {},
   "outputs": [],
   "source": [
    "# Do not edit\n",
    "import gensim.downloader as api\n",
    "import numpy as np\n",
    "wv_from_bin = api.load(\"glove-wiki-gigaword-200\")\n",
    "print(\"Loaded vocab size %i\" % len(list(wv_from_bin.index_to_key)))\n",
    "\n",
    "wv_words = list(wv_from_bin.index_to_key)\n",
    "unique_tokens = set(tokens)\n",
    "word2ind = {}\n",
    "M = []\n",
    "idx = 0\n",
    "print('rendering M based on wv')\n",
    "for w in wv_words:\n",
    "    try:\n",
    "        M.append(wv_from_bin.get_vector(w))\n",
    "        word2ind[w] = idx\n",
    "        idx += 1\n",
    "    except:\n",
    "        pass\n",
    "\n",
    "print('rendering M based on unique_tokens')\n",
    "for w in unique_tokens:\n",
    "    if w in wv_words:\n",
    "        continue\n",
    "    try:\n",
    "        M.append(wv_from_bin.get_vector(w))\n",
    "        word2ind[w] = idx\n",
    "        idx += 1\n",
    "    except:\n",
    "        pass\n",
    "M = np.stack(M)\n",
    "M_reduced = reduce_to_k_dim(M, k=2)\n",
    "\n",
    "M_lengths = np.linalg.norm(M_reduced, axis=1)\n",
    "M_reduced_normalized = M_reduced / M_lengths[:, np.newaxis]"
   ]
  },
  {
   "cell_type": "markdown",
   "metadata": {},
   "source": [
    "### Compare plots\n",
    "What stands out when comparing the two different ways of embedding using the given words?\n",
    "\n",
    "(Use this to help answer the question in your assignment document)."
   ]
  },
  {
   "cell_type": "code",
   "execution_count": null,
   "metadata": {},
   "outputs": [],
   "source": [
    "plot_embeddings(M_reduced_normalized, tokens)"
   ]
  },
  {
   "cell_type": "markdown",
   "metadata": {},
   "source": [
    "### Words with multiple meanings\n",
    "Polysemes and homonyms are words that have more than one meaning (see [this wiki page](https://en.wikipedia.org/wiki/Polysemy) to learn more about the difference between polysemes and homonyms). Your task is to find a word with at least two different meanings such that the top-10 most similar words (according to cosine similarity) contain related words from both meanings.\n",
    "\n",
    "For example:\n",
    "- \"leaves\" has both the \"go_away\" and \"a_structure_of_a_plant\" meanings in the top 10.\n",
    "- \"scoop\" has both \"handed_waffle_cone\" and \"lowdown\" meanings in the top 10.\n",
    "\n",
    "You will probably need to try several polysemous or homonymic words before you find one.\n",
    "\n",
    "Once you discover a word that fits this criterion, state the word and explain the multiple meanings that occur in the top 10. Reflect on why many of the polysemous or homonymic words you tried didn’t work (i.e., why the top-10 most similar words only contain one of the word's meanings).\n",
    "\n",
    "**Note**: Use the `wv_from_bin.most_similar(word)` function to get the top 10 most similar words. This function ranks all other words in the vocabulary based on their cosine similarity to the given word. For further assistance, you can refer to the [Gensim documentation](https://radimrehurek.com/gensim/models/keyedvectors.html)."
   ]
  },
  {
   "cell_type": "code",
   "execution_count": null,
   "metadata": {},
   "outputs": [],
   "source": [
    "## Your code here"
   ]
  },
  {
   "cell_type": "markdown",
   "metadata": {},
   "source": [
    "### Synonyms\n",
    "When considering **Cosine Similarity**, it's often useful to think of **Cosine Distance**, which is simply 1 - Cosine Similarity.\n",
    "\n",
    "Find three words \\( (w_1, w_2, w_3) \\) where:\n",
    "- \\(w_1\\) and \\(w_2\\) are **synonyms**.\n",
    "- \\(w_1\\) and \\(w_3\\) are **antonyms**.\n",
    "\n",
    "However, you need to find a case where **Cosine Distance** \\( (w_1, w_3) < \\text{Cosine Distance} (w_1, w_2) \\). In other words, the antonym is **closer** to the word than its synonym in the vector space.\n",
    "\n",
    "For example, \"happy\" (\\(w_1\\)) may be closer to \"sad\" (\\(w_3\\)) than to \"cheerful\" (\\(w_2\\)), which is counter-intuitive since we expect synonyms to be closer than antonyms. \n",
    "\n",
    "Once you find such an example, provide a possible explanation for why this result may have occurred.\n",
    "\n",
    "Use the `wv_from_bin.distance(w1, w2)` function to compute the cosine distance between two words. You can refer to the [Gensim documentation](https://radimrehurek.com/gensim/models/keyedvectors.html) for further assistance.\n",
    "\n",
    "\n",
    "\n",
    "\n",
    "\n"
   ]
  },
  {
   "cell_type": "code",
   "execution_count": null,
   "metadata": {},
   "outputs": [],
   "source": [
    "## Your code here"
   ]
  },
  {
   "cell_type": "markdown",
   "metadata": {},
   "source": [
    "### Analogies\n",
    "Word vectors have demonstrated the ability to solve analogies based on their learned semantic relationships. For instance, consider the analogy: \n",
    "\n",
    "**\"man : grandfather :: woman : x\"** \n",
    "\n",
    "(Read: man is to grandfather as woman is to x). Using word vectors, we can find the word \\(x\\) that completes the analogy.\n",
    "\n",
    "In the example provided, we use the `most_similar` function from the Gensim library. This function identifies words that are most similar to the words in the positive list and most dissimilar to those in the negative list. For analogy solving, it effectively computes:\n",
    "\n",
    "\\[ \\text{word}(x) = \\text{most similar to} (\\text{woman} + \\text{grandfather} - \\text{man}) \\]\n",
    "\n",
    "The result is the word with the highest cosine similarity to the target vector. You can use this approach to explore various analogies and gain insights into the semantic structure of word vectors.\n",
    "\n",
    "Refer to the [Gensim documentation](https://radimrehurek.com/gensim/models/keyedvectors.html) for more details on the `most_similar` function and how word vectors handle analogy-solving tasks."
   ]
  },
  {
   "cell_type": "code",
   "execution_count": null,
   "metadata": {},
   "outputs": [
    {
     "name": "stdout",
     "output_type": "stream",
     "text": [
      "[('grandmother', 0.7608445286750793), ('granddaughter', 0.7200808525085449), ('daughter', 0.7168302536010742), ('mother', 0.7151536345481873), ('niece', 0.7005682587623596), ('father', 0.6659887433052063), ('aunt', 0.6623408794403076), ('grandson', 0.6618767976760864), ('grandparents', 0.644661009311676), ('wife', 0.6445354223251343)]\n"
     ]
    }
   ],
   "source": [
    "# Run this cell to answer the analogy -- man : grandfather :: woman : x\n",
    "print(wv_from_bin.most_similar(positive=['woman', 'grandfather'], negative=['man']))"
   ]
  },
  {
   "cell_type": "markdown",
   "metadata": {},
   "source": [
    "### Bias in word vectors\n",
    "a. **Observation**: Consider the results of a word vector model when queried with analogies involving \"man\", \"woman\", and \"profession\". What are the top results returned by the model for each query?\n",
    "\n",
    "[Your Answer]\n",
    "\n",
    "b. **Analysis**: Do you observe any gender biases in the results? For example, are certain professions more closely associated with \"man\" or \"woman\" based on the word vectors? Discuss how word embeddings might perpetuate societal biases present in the training data.\n",
    "\n",
    "[Your Answer]\n",
    "\n",
    "c. **Reflection**: How might such biases affect the fairness of machine learning models that use word embeddings? Suggest potential strategies for mitigating gender bias in word vector models.\n",
    "\n",
    "[Your Answer]"
   ]
  },
  {
   "cell_type": "code",
   "execution_count": null,
   "metadata": {},
   "outputs": [],
   "source": [
    "print(wv_from_bin.most_similar(positive=['man', 'profession'], negative=['woman']))\n",
    "print()\n",
    "print(wv_from_bin.most_similar(positive=['woman', 'profession'], negative=['man']))"
   ]
  }
 ],
 "metadata": {
  "kernelspec": {
   "display_name": "base",
   "language": "python",
   "name": "python3"
  },
  "language_info": {
   "codemirror_mode": {
    "name": "ipython",
    "version": 3
   },
   "file_extension": ".py",
   "mimetype": "text/x-python",
   "name": "python",
   "nbconvert_exporter": "python",
   "pygments_lexer": "ipython3",
   "version": "3.12.7"
  }
 },
 "nbformat": 4,
 "nbformat_minor": 2
}
